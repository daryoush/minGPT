{
  "nbformat": 4,
  "nbformat_minor": 0,
  "metadata": {
    "colab": {
      "name": "startjulia1.5.ipynb",
      "provenance": [],
      "toc_visible": true,
      "include_colab_link": true
    },
    "kernelspec": {
      "name": "julia-1.5",
      "display_name": "Julia 1.5"
    },
    "accelerator": "GPU"
  },
  "cells": [
    {
      "cell_type": "markdown",
      "metadata": {
        "id": "view-in-github",
        "colab_type": "text"
      },
      "source": [
        "<a href=\"https://colab.research.google.com/github/daryoush/minGPT/blob/master/startjulia1_5.ipynb\" target=\"_parent\"><img src=\"https://colab.research.google.com/assets/colab-badge.svg\" alt=\"Open In Colab\"/></a>"
      ]
    },
    {
      "cell_type": "code",
      "metadata": {
        "colab": {
          "base_uri": "https://localhost:8080/"
        },
        "id": "hSuEgBeJCRbu",
        "outputId": "ed25aead-4520-4256-c900-9fd3b97f7c1d"
      },
      "source": [
        "from google.colab import drive\n",
        "drive.mount('/content/gdrive')\n"
      ],
      "execution_count": 1,
      "outputs": [
        {
          "output_type": "stream",
          "text": [
            "Mounted at /content/gdrive\n"
          ],
          "name": "stdout"
        }
      ]
    },
    {
      "cell_type": "code",
      "metadata": {
        "colab": {
          "base_uri": "https://localhost:8080/"
        },
        "id": "rGCxW9ZpEpgQ",
        "outputId": "3d806385-ad0f-4992-c073-c72f3069290e"
      },
      "source": [
        "%cd /content/gdrive/My Drive/\n",
        "#! git clone https://github.com/daryoush/minGPT.git\n",
        "%cd minGPT\n",
        "! git pull\n",
        "#! pip install <desired-python-library>"
      ],
      "execution_count": 2,
      "outputs": [
        {
          "output_type": "stream",
          "text": [
            "/content/gdrive/My Drive\n",
            "/content/gdrive/My Drive/minGPT\n",
            "remote: Enumerating objects: 15, done.\u001b[K\n",
            "remote: Counting objects: 100% (15/15), done.\u001b[K\n",
            "remote: Compressing objects: 100% (4/4), done.\u001b[K\n",
            "remote: Total 9 (delta 6), reused 6 (delta 5), pack-reused 0\u001b[K\n",
            "Unpacking objects: 100% (9/9), done.\n",
            "From https://github.com/daryoush/minGPT\n",
            "   7fefac2..22fab47  master     -> origin/master\n",
            "Updating 7fefac2..22fab47\n",
            "Fast-forward\n",
            " onJulia/playChar.jl  |  38 \u001b[32m+\u001b[m\u001b[31m--\u001b[m\n",
            " onJulia/src/train.jl |  41 \u001b[32m++\u001b[m\u001b[31m-\u001b[m\n",
            " play_char.ipynb      | 772 \u001b[32m++++++++++++++++++++++++++++++\u001b[m\u001b[31m---------------------\u001b[m\n",
            " 3 files changed, 513 insertions(+), 338 deletions(-)\n"
          ],
          "name": "stdout"
        }
      ]
    },
    {
      "cell_type": "markdown",
      "metadata": {
        "id": "0w4VnqTlDiFT"
      },
      "source": [
        "# New Section"
      ]
    },
    {
      "cell_type": "code",
      "metadata": {
        "id": "oMSuTc3pDlHv",
        "colab": {
          "base_uri": "https://localhost:8080/"
        },
        "outputId": "c780617c-c9ba-4959-d416-14b6e97f66bc"
      },
      "source": [
        "### NOTE THIS WORKS AS PYTHON, IT ONLY WORKS WHEN THE RUNTIME COMPLAINS ABOUT JULIA RUNTIME, SO IT REVERTS TO PYTHON. AFTER JULIA IS INSTALLED, CHANGE TO JULIA RUNTIME\n",
        "\n",
        "!curl -sSL \"https://julialang-s3.julialang.org/bin/linux/x64/1.5/julia-1.5.0-linux-x86_64.tar.gz\" -o julia.tar.gz\n",
        "!tar -xzf julia.tar.gz -C /usr --strip-components 1\n",
        "!rm -rf julia.tar.gz*\n",
        "!julia -e 'using Pkg; pkg\"add IJulia; precompile\"'\n",
        "!julia -e 'using Pkg; Pkg.add([ \"CUDA\", \"Flux\",\"Zygote\",\"Profile\", \"TensorBoardLogger\", \"Logging\",\\\n",
        "    \"Random\",\"InformationMeasures\", \"DataStructures\", \"Transformers\",\"Statistics\", \"Dates\",\\\n",
        "    \"BSON\",\\\n",
        "    \"Images\",\\\n",
        "    \"MLDatasets\",\\\n",
        "    \"Parameters\",\\\n",
        "    \"Printf\",\\\n",
        "    ]);' ###Pkg.precompile()'\n",
        "!echo \"DONE\""
      ],
      "execution_count": 3,
      "outputs": [
        {
          "output_type": "stream",
          "text": [
            "\u001b[32m\u001b[1m Installing\u001b[22m\u001b[39m known registries into `~/.julia`\n",
            "######################################################################## 100.0%\n",
            "\u001b[32m\u001b[1m      Added\u001b[22m\u001b[39m registry `General` to `~/.julia/registries/General`\n",
            "\u001b[32m\u001b[1m  Resolving\u001b[22m\u001b[39m package versions...\n",
            "\u001b[32m\u001b[1m  Installed\u001b[22m\u001b[39m ZeroMQ_jll ────── v4.3.2+5\n",
            "\u001b[32m\u001b[1m  Installed\u001b[22m\u001b[39m VersionParsing ── v1.2.0\n",
            "\u001b[32m\u001b[1m  Installed\u001b[22m\u001b[39m SoftGlobalScope ─ v1.1.0\n",
            "\u001b[32m\u001b[1m  Installed\u001b[22m\u001b[39m Conda ─────────── v1.5.0\n",
            "\u001b[32m\u001b[1m  Installed\u001b[22m\u001b[39m ZMQ ───────────── v1.2.1\n",
            "\u001b[32m\u001b[1m  Installed\u001b[22m\u001b[39m IJulia ────────── v1.23.1\n",
            "\u001b[32m\u001b[1m  Installed\u001b[22m\u001b[39m JSON ──────────── v0.21.1\n",
            "\u001b[32m\u001b[1m  Installed\u001b[22m\u001b[39m JLLWrappers ───── v1.1.3\n",
            "\u001b[32m\u001b[1m  Installed\u001b[22m\u001b[39m MbedTLS_jll ───── v2.16.8+1\n",
            "\u001b[32m\u001b[1m  Installed\u001b[22m\u001b[39m Artifacts ─────── v1.3.0\n",
            "\u001b[32m\u001b[1m  Installed\u001b[22m\u001b[39m MbedTLS ───────── v1.0.3\n",
            "\u001b[32m\u001b[1m  Installed\u001b[22m\u001b[39m Parsers ───────── v1.0.15\n",
            "\u001b[32m\u001b[1mDownloading\u001b[22m\u001b[39m artifact: ZeroMQ\n",
            "######################################################################## 100.0%\n",
            "\u001b[1A\u001b[2K\u001b[?25h\u001b[32m\u001b[1mDownloading\u001b[22m\u001b[39m artifact: MbedTLS\n",
            "######################################################################## 100.0%\n",
            "\u001b[1A\u001b[2K\u001b[?25h\u001b[32m\u001b[1mUpdating\u001b[22m\u001b[39m `~/.julia/environments/v1.5/Project.toml`\n",
            " \u001b[90m [7073ff75] \u001b[39m\u001b[92m+ IJulia v1.23.1\u001b[39m\n",
            "\u001b[32m\u001b[1mUpdating\u001b[22m\u001b[39m `~/.julia/environments/v1.5/Manifest.toml`\n",
            " \u001b[90m [56f22d72] \u001b[39m\u001b[92m+ Artifacts v1.3.0\u001b[39m\n",
            " \u001b[90m [8f4d0f93] \u001b[39m\u001b[92m+ Conda v1.5.0\u001b[39m\n",
            " \u001b[90m [7073ff75] \u001b[39m\u001b[92m+ IJulia v1.23.1\u001b[39m\n",
            " \u001b[90m [692b3bcd] \u001b[39m\u001b[92m+ JLLWrappers v1.1.3\u001b[39m\n",
            " \u001b[90m [682c06a0] \u001b[39m\u001b[92m+ JSON v0.21.1\u001b[39m\n",
            " \u001b[90m [739be429] \u001b[39m\u001b[92m+ MbedTLS v1.0.3\u001b[39m\n",
            " \u001b[90m [c8ffd9c3] \u001b[39m\u001b[92m+ MbedTLS_jll v2.16.8+1\u001b[39m\n",
            " \u001b[90m [69de0a69] \u001b[39m\u001b[92m+ Parsers v1.0.15\u001b[39m\n",
            " \u001b[90m [b85f4697] \u001b[39m\u001b[92m+ SoftGlobalScope v1.1.0\u001b[39m\n",
            " \u001b[90m [81def892] \u001b[39m\u001b[92m+ VersionParsing v1.2.0\u001b[39m\n",
            " \u001b[90m [c2297ded] \u001b[39m\u001b[92m+ ZMQ v1.2.1\u001b[39m\n",
            " \u001b[90m [8f1865be] \u001b[39m\u001b[92m+ ZeroMQ_jll v4.3.2+5\u001b[39m\n",
            " \u001b[90m [2a0f44e3] \u001b[39m\u001b[92m+ Base64\u001b[39m\n",
            " \u001b[90m [ade2ca70] \u001b[39m\u001b[92m+ Dates\u001b[39m\n",
            " \u001b[90m [8ba89e20] \u001b[39m\u001b[92m+ Distributed\u001b[39m\n",
            " \u001b[90m [7b1f6079] \u001b[39m\u001b[92m+ FileWatching\u001b[39m\n",
            " \u001b[90m [b77e0a4c] \u001b[39m\u001b[92m+ InteractiveUtils\u001b[39m\n",
            " \u001b[90m [76f85450] \u001b[39m\u001b[92m+ LibGit2\u001b[39m\n",
            " \u001b[90m [8f399da3] \u001b[39m\u001b[92m+ Libdl\u001b[39m\n",
            " \u001b[90m [56ddb016] \u001b[39m\u001b[92m+ Logging\u001b[39m\n",
            " \u001b[90m [d6f4376e] \u001b[39m\u001b[92m+ Markdown\u001b[39m\n",
            " \u001b[90m [a63ad114] \u001b[39m\u001b[92m+ Mmap\u001b[39m\n",
            " \u001b[90m [44cfe95a] \u001b[39m\u001b[92m+ Pkg\u001b[39m\n",
            " \u001b[90m [de0858da] \u001b[39m\u001b[92m+ Printf\u001b[39m\n",
            " \u001b[90m [3fa0cd96] \u001b[39m\u001b[92m+ REPL\u001b[39m\n",
            " \u001b[90m [9a3f8284] \u001b[39m\u001b[92m+ Random\u001b[39m\n",
            " \u001b[90m [ea8e919c] \u001b[39m\u001b[92m+ SHA\u001b[39m\n",
            " \u001b[90m [9e88b42a] \u001b[39m\u001b[92m+ Serialization\u001b[39m\n",
            " \u001b[90m [6462fe0b] \u001b[39m\u001b[92m+ Sockets\u001b[39m\n",
            " \u001b[90m [8dfed614] \u001b[39m\u001b[92m+ Test\u001b[39m\n",
            " \u001b[90m [cf7118a7] \u001b[39m\u001b[92m+ UUIDs\u001b[39m\n",
            " \u001b[90m [4ec0a83e] \u001b[39m\u001b[92m+ Unicode\u001b[39m\n",
            "\u001b[32m\u001b[1m   Building\u001b[22m\u001b[39m Conda ─→ `~/.julia/packages/Conda/x5ml4/deps/build.log`\n",
            "\u001b[32m\u001b[1m   Building\u001b[22m\u001b[39m IJulia → `~/.julia/packages/IJulia/IDNmS/deps/build.log`\n",
            "\u001b[32m\u001b[1mPrecompiling\u001b[22m\u001b[39m project...\n",
            "\u001b[32m\u001b[1m   Updating\u001b[22m\u001b[39m registry at `~/.julia/registries/General`\n",
            "\u001b[32m\u001b[1m  Resolving\u001b[22m\u001b[39m package versions...\n",
            "\u001b[32m\u001b[1m  Installed\u001b[22m\u001b[39m InformationMeasures ────────── v0.3.0\n",
            "\u001b[32m\u001b[1m  Installed\u001b[22m\u001b[39m BSON ───────────────────────── v0.2.6\n",
            "\u001b[32m\u001b[1m  Installed\u001b[22m\u001b[39m DataStructures ─────────────── v0.17.20\n",
            "\u001b[32m\u001b[1m  Installed\u001b[22m\u001b[39m Zygote ─────────────────────── v0.5.17\n",
            "\u001b[32m\u001b[1m  Installed\u001b[22m\u001b[39m Flux ───────────────────────── v0.11.1\n",
            "\u001b[32m\u001b[1m  Installed\u001b[22m\u001b[39m TensorBoardLogger ──────────── v0.1.13\n",
            "\u001b[32m\u001b[1m  Installed\u001b[22m\u001b[39m Transformers ───────────────── v0.1.7\n",
            "\u001b[32m\u001b[1m  Installed\u001b[22m\u001b[39m CUDA ───────────────────────── v1.3.3\n",
            "\u001b[32m\u001b[1m  Installed\u001b[22m\u001b[39m Images ─────────────────────── v0.23.2\n",
            "\u001b[32m\u001b[1m  Installed\u001b[22m\u001b[39m MLDatasets ─────────────────── v0.5.3\n",
            "\u001b[32m\u001b[1m  Installed\u001b[22m\u001b[39m Parameters ─────────────────── v0.12.1\n",
            "\u001b[32m\u001b[1m  Installed\u001b[22m\u001b[39m OffsetArrays ───────────────── v1.4.2\n",
            "\u001b[32m\u001b[1m  Installed\u001b[22m\u001b[39m p7zip_jll ──────────────────── v16.2.0+3\n",
            "\u001b[32m\u001b[1m  Installed\u001b[22m\u001b[39m PaddedViews ────────────────── v0.5.7\n",
            "\u001b[32m\u001b[1m  Installed\u001b[22m\u001b[39m WoodburyMatrices ───────────── v0.5.3\n",
            "\u001b[32m\u001b[1m  Installed\u001b[22m\u001b[39m DocStringExtensions ────────── v0.8.3\n",
            "\u001b[32m\u001b[1m  Installed\u001b[22m\u001b[39m FFTViews ───────────────────── v0.3.1\n",
            "\u001b[32m\u001b[1m  Installed\u001b[22m\u001b[39m FileIO ─────────────────────── v1.4.5\n",
            "\u001b[32m\u001b[1m  Installed\u001b[22m\u001b[39m IRTools ────────────────────── v0.4.2\n",
            "\u001b[32m\u001b[1m  Installed\u001b[22m\u001b[39m Functors ───────────────────── v0.1.0\n",
            "\u001b[32m\u001b[1m  Installed\u001b[22m\u001b[39m ImageDistances ─────────────── v0.2.9\n",
            "\u001b[32m\u001b[1m  Installed\u001b[22m\u001b[39m OrderedCollections ─────────── v1.3.2\n",
            "\u001b[32m\u001b[1m  Installed\u001b[22m\u001b[39m NNlib ──────────────────────── v0.7.9\n",
            "\u001b[32m\u001b[1m  Installed\u001b[22m\u001b[39m SLEEFPirates ───────────────── v0.5.5\n",
            "\u001b[32m\u001b[1m  Installed\u001b[22m\u001b[39m ColorVectorSpace ───────────── v0.8.7\n",
            "\u001b[32m\u001b[1m  Installed\u001b[22m\u001b[39m StaticArrays ───────────────── v1.0.1\n",
            "\u001b[32m\u001b[1m  Installed\u001b[22m\u001b[39m DataAPI ────────────────────── v1.4.0\n",
            "\u001b[32m\u001b[1m  Installed\u001b[22m\u001b[39m EllipsisNotation ───────────── v0.4.0\n",
            "\u001b[32m\u001b[1m  Installed\u001b[22m\u001b[39m FixedPointNumbers ──────────── v0.7.1\n",
            "\u001b[32m\u001b[1m  Installed\u001b[22m\u001b[39m Colors ─────────────────────── v0.10.2\n",
            "\u001b[32m\u001b[1m  Installed\u001b[22m\u001b[39m LLVM ───────────────────────── v2.0.0\n",
            "\u001b[32m\u001b[1m  Installed\u001b[22m\u001b[39m ChainRulesCore ─────────────── v0.9.24\n",
            "\u001b[32m\u001b[1m  Installed\u001b[22m\u001b[39m Reexport ───────────────────── v0.2.0\n",
            "\u001b[32m\u001b[1m  Installed\u001b[22m\u001b[39m MappedArrays ───────────────── v0.2.2\n",
            "\u001b[32m\u001b[1m  Installed\u001b[22m\u001b[39m ImageAxes ──────────────────── v0.6.7\n",
            "\u001b[32m\u001b[1m  Installed\u001b[22m\u001b[39m ComputationalResources ─────── v0.3.2\n",
            "\u001b[32m\u001b[1m  Installed\u001b[22m\u001b[39m MuladdMacro ────────────────── v0.2.2\n",
            "\u001b[32m\u001b[1m  Installed\u001b[22m\u001b[39m Lz4_jll ────────────────────── v1.9.2+2\n",
            "\u001b[32m\u001b[1m  Installed\u001b[22m\u001b[39m ImageTransformations ───────── v0.8.8\n",
            "\u001b[32m\u001b[1m  Installed\u001b[22m\u001b[39m CEnum ──────────────────────── v0.4.1\n",
            "\u001b[32m\u001b[1m  Installed\u001b[22m\u001b[39m SortingAlgorithms ──────────── v0.3.1\n",
            "\u001b[32m\u001b[1m  Installed\u001b[22m\u001b[39m GPUCompiler ────────────────── v0.6.1\n",
            "\u001b[32m\u001b[1m  Installed\u001b[22m\u001b[39m CodecZlib ──────────────────── v0.7.0\n",
            "\u001b[32m\u001b[1m  Installed\u001b[22m\u001b[39m AbstractFFTs ───────────────── v0.5.0\n",
            "\u001b[32m\u001b[1m  Installed\u001b[22m\u001b[39m TranscodingStreams ─────────── v0.9.5\n",
            "\u001b[32m\u001b[1m  Installed\u001b[22m\u001b[39m Compat ─────────────────────── v3.25.0\n",
            "\u001b[32m\u001b[1m  Installed\u001b[22m\u001b[39m Distances ──────────────────── v0.10.0\n",
            "\u001b[32m\u001b[1m  Installed\u001b[22m\u001b[39m ImageMorphology ────────────── v0.2.9\n",
            "\u001b[32m\u001b[1m  Installed\u001b[22m\u001b[39m ForwardDiff ────────────────── v0.10.14\n",
            "\u001b[32m\u001b[1m  Installed\u001b[22m\u001b[39m InternedStrings ────────────── v0.7.0\n",
            "\u001b[32m\u001b[1m  Installed\u001b[22m\u001b[39m CustomUnitRanges ───────────── v1.0.0\n",
            "\u001b[32m\u001b[1m  Installed\u001b[22m\u001b[39m DiffResults ────────────────── v1.0.3\n",
            "\u001b[32m\u001b[1m  Installed\u001b[22m\u001b[39m ImageFiltering ─────────────── v0.6.18\n",
            "\u001b[32m\u001b[1m  Installed\u001b[22m\u001b[39m CommonSubexpressions ───────── v0.3.0\n",
            "\u001b[32m\u001b[1m  Installed\u001b[22m\u001b[39m HDF5_jll ───────────────────── v1.12.0+1\n",
            "\u001b[32m\u001b[1m  Installed\u001b[22m\u001b[39m IterTools ──────────────────── v1.3.0\n",
            "\u001b[32m\u001b[1m  Installed\u001b[22m\u001b[39m Requires ───────────────────── v1.1.2\n",
            "\u001b[32m\u001b[1m  Installed\u001b[22m\u001b[39m StrTables ──────────────────── v1.0.1\n",
            "\u001b[32m\u001b[1m  Installed\u001b[22m\u001b[39m Rotations ──────────────────── v1.0.2\n",
            "\u001b[32m\u001b[1m  Installed\u001b[22m\u001b[39m TupleTools ─────────────────── v1.2.0\n",
            "\u001b[32m\u001b[1m  Installed\u001b[22m\u001b[39m AbstractTrees ──────────────── v0.3.3\n",
            "\u001b[32m\u001b[1m  Installed\u001b[22m\u001b[39m NaNMath ────────────────────── v0.3.5\n",
            "\u001b[32m\u001b[1m  Installed\u001b[22m\u001b[39m LibCURL_jll ────────────────── v7.70.0+2\n",
            "\u001b[32m\u001b[1m  Installed\u001b[22m\u001b[39m LoopVectorization ──────────── v0.8.26\n",
            "\u001b[32m\u001b[1m  Installed\u001b[22m\u001b[39m CompilerSupportLibraries_jll ─ v0.3.4+0\n",
            "\u001b[32m\u001b[1m  Installed\u001b[22m\u001b[39m OpenSSL_jll ────────────────── v1.1.1+6\n",
            "\u001b[32m\u001b[1m  Installed\u001b[22m\u001b[39m TiledIteration ─────────────── v0.2.5\n",
            "\u001b[32m\u001b[1m  Installed\u001b[22m\u001b[39m IntervalSets ───────────────── v0.5.1\n",
            "\u001b[32m\u001b[1m  Installed\u001b[22m\u001b[39m ImageMetadata ──────────────── v0.9.4\n",
            "\u001b[32m\u001b[1m  Installed\u001b[22m\u001b[39m IndirectArrays ─────────────── v0.5.1\n",
            "\u001b[32m\u001b[1m  Installed\u001b[22m\u001b[39m Graphics ───────────────────── v1.0.2\n",
            "\u001b[32m\u001b[1m  Installed\u001b[22m\u001b[39m Media ──────────────────────── v0.5.0\n",
            "\u001b[32m\u001b[1m  Installed\u001b[22m\u001b[39m BytePairEncoding ───────────── v0.1.1\n",
            "\u001b[32m\u001b[1m  Installed\u001b[22m\u001b[39m CpuId ──────────────────────── v0.2.2\n",
            "\u001b[32m\u001b[1m  Installed\u001b[22m\u001b[39m Discretizers ───────────────── v3.2.0\n",
            "\u001b[32m\u001b[1m  Installed\u001b[22m\u001b[39m Blosc ──────────────────────── v0.7.0\n",
            "\u001b[32m\u001b[1m  Installed\u001b[22m\u001b[39m Adapt ──────────────────────── v2.3.0\n",
            "\u001b[32m\u001b[1m  Installed\u001b[22m\u001b[39m BinaryProvider ─────────────── v0.5.10\n",
            "\u001b[32m\u001b[1m  Installed\u001b[22m\u001b[39m ImageContrastAdjustment ────── v0.3.6\n",
            "\u001b[32m\u001b[1m  Installed\u001b[22m\u001b[39m SpecialFunctions ───────────── v1.2.1\n",
            "\u001b[32m\u001b[1m  Installed\u001b[22m\u001b[39m ImageShow ──────────────────── v0.2.3\n",
            "\u001b[32m\u001b[1m  Installed\u001b[22m\u001b[39m Zstd_jll ───────────────────── v1.4.5+2\n",
            "\u001b[32m\u001b[1m  Installed\u001b[22m\u001b[39m BinDeps ────────────────────── v1.0.2\n",
            "\u001b[32m\u001b[1m  Installed\u001b[22m\u001b[39m DataDeps ───────────────────── v0.7.6\n",
            "\u001b[32m\u001b[1m  Installed\u001b[22m\u001b[39m ZygoteRules ────────────────── v0.2.1\n",
            "\u001b[32m\u001b[1m  Installed\u001b[22m\u001b[39m FFTW ───────────────────────── v1.2.4\n",
            "\u001b[32m\u001b[1m  Installed\u001b[22m\u001b[39m MAT ────────────────────────── v0.9.2\n",
            "\u001b[32m\u001b[1m  Installed\u001b[22m\u001b[39m MosaicViews ────────────────── v0.2.4\n",
            "\u001b[32m\u001b[1m  Installed\u001b[22m\u001b[39m MKL_jll ────────────────────── v2020.2.254+0\n",
            "\u001b[32m\u001b[1m  Installed\u001b[22m\u001b[39m SimpleTraits ───────────────── v0.9.3\n",
            "\u001b[32m\u001b[1m  Installed\u001b[22m\u001b[39m URIParser ──────────────────── v0.4.1\n",
            "\u001b[32m\u001b[1m  Installed\u001b[22m\u001b[39m AxisAlgorithms ─────────────── v1.0.0\n",
            "\u001b[32m\u001b[1m  Installed\u001b[22m\u001b[39m FillArrays ─────────────────── v0.10.2\n",
            "\u001b[32m\u001b[1m  Installed\u001b[22m\u001b[39m FFTW_jll ───────────────────── v3.3.9+7\n",
            "\u001b[32m\u001b[1m  Installed\u001b[22m\u001b[39m Libiconv_jll ───────────────── v1.16.0+7\n",
            "\u001b[32m\u001b[1m  Installed\u001b[22m\u001b[39m ImageQualityIndexes ────────── v0.2.0\n",
            "\u001b[32m\u001b[1m  Installed\u001b[22m\u001b[39m Pickle ─────────────────────── v0.2.0\n",
            "\u001b[32m\u001b[1m  Installed\u001b[22m\u001b[39m CatIndices ─────────────────── v0.2.1\n",
            "\u001b[32m\u001b[1m  Installed\u001b[22m\u001b[39m ColorTypes ─────────────────── v0.8.1\n",
            "\u001b[32m\u001b[1m  Installed\u001b[22m\u001b[39m MacroTools ─────────────────── v0.5.6\n",
            "\u001b[32m\u001b[1m  Installed\u001b[22m\u001b[39m AxisArrays ─────────────────── v0.4.3\n",
            "\u001b[32m\u001b[1m  Installed\u001b[22m\u001b[39m XML2_jll ───────────────────── v2.9.10+3\n",
            "\u001b[32m\u001b[1m  Installed\u001b[22m\u001b[39m Zlib_jll ───────────────────── v1.2.11+18\n",
            "\u001b[32m\u001b[1m  Installed\u001b[22m\u001b[39m IntelOpenMP_jll ────────────── v2018.0.3+0\n",
            "\u001b[32m\u001b[1m  Installed\u001b[22m\u001b[39m Strided ────────────────────── v1.1.1\n",
            "\u001b[32m\u001b[1m  Installed\u001b[22m\u001b[39m SIMDPirates ────────────────── v0.8.26\n",
            "\u001b[32m\u001b[1m  Installed\u001b[22m\u001b[39m Blosc_jll ──────────────────── v1.14.3+1\n",
            "\u001b[32m\u001b[1m  Installed\u001b[22m\u001b[39m CoordinateTransformations ──── v0.6.1\n",
            "\u001b[32m\u001b[1m  Installed\u001b[22m\u001b[39m Juno ───────────────────────── v0.8.4\n",
            "\u001b[32m\u001b[1m  Installed\u001b[22m\u001b[39m IniFile ────────────────────── v0.5.0\n",
            "\u001b[32m\u001b[1m  Installed\u001b[22m\u001b[39m RangeArrays ────────────────── v0.3.2\n",
            "\u001b[32m\u001b[1m  Installed\u001b[22m\u001b[39m LibSSH2_jll ────────────────── v1.9.0+3\n",
            "\u001b[32m\u001b[1m  Installed\u001b[22m\u001b[39m ProtoBuf ───────────────────── v0.10.0\n",
            "\u001b[32m\u001b[1m  Installed\u001b[22m\u001b[39m Missings ───────────────────── v0.4.4\n",
            "\u001b[32m\u001b[1m  Installed\u001b[22m\u001b[39m Ratios ─────────────────────── v0.4.0\n",
            "\u001b[32m\u001b[1m  Installed\u001b[22m\u001b[39m ArrayLayouts ───────────────── v0.4.12\n",
            "\u001b[32m\u001b[1m  Installed\u001b[22m\u001b[39m ChainRules ─────────────────── v0.7.41\n",
            "\u001b[32m\u001b[1m  Installed\u001b[22m\u001b[39m GPUArrays ──────────────────── v5.2.1\n",
            "\u001b[32m\u001b[1m  Installed\u001b[22m\u001b[39m TimerOutputs ───────────────── v0.5.7\n",
            "\u001b[32m\u001b[1m  Installed\u001b[22m\u001b[39m GZip ───────────────────────── v0.5.1\n",
            "\u001b[32m\u001b[1m  Installed\u001b[22m\u001b[39m UnPack ─────────────────────── v1.0.2\n",
            "\u001b[32m\u001b[1m  Installed\u001b[22m\u001b[39m nghttp2_jll ────────────────── v1.40.0+2\n",
            "\u001b[32m\u001b[1m  Installed\u001b[22m\u001b[39m OpenSpecFun_jll ────────────── v0.5.3+4\n",
            "\u001b[32m\u001b[1m  Installed\u001b[22m\u001b[39m LightXML ───────────────────── v0.9.0\n",
            "\u001b[32m\u001b[1m  Installed\u001b[22m\u001b[39m ZipFile ────────────────────── v0.9.3\n",
            "\u001b[32m\u001b[1m  Installed\u001b[22m\u001b[39m BufferedStreams ────────────── v1.0.0\n",
            "\u001b[32m\u001b[1m  Installed\u001b[22m\u001b[39m DiffRules ──────────────────── v1.0.2\n",
            "\u001b[32m\u001b[1m  Installed\u001b[22m\u001b[39m StatsBase ──────────────────── v0.33.2\n",
            "\u001b[32m\u001b[1m  Installed\u001b[22m\u001b[39m Interpolations ─────────────── v0.13.1\n",
            "\u001b[32m\u001b[1m  Installed\u001b[22m\u001b[39m HTML_Entities ──────────────── v1.0.0\n",
            "\u001b[32m\u001b[1m  Installed\u001b[22m\u001b[39m ExprTools ──────────────────── v0.1.3\n",
            "\u001b[32m\u001b[1m  Installed\u001b[22m\u001b[39m HTTP ───────────────────────── v0.8.19\n",
            "\u001b[32m\u001b[1m  Installed\u001b[22m\u001b[39m IdentityRanges ─────────────── v0.3.1\n",
            "\u001b[32m\u001b[1m  Installed\u001b[22m\u001b[39m WordTokenizers ─────────────── v0.5.6\n",
            "\u001b[32m\u001b[1m  Installed\u001b[22m\u001b[39m VectorizationBase ──────────── v0.12.33\n",
            "\u001b[32m\u001b[1m  Installed\u001b[22m\u001b[39m HDF5 ───────────────────────── v0.14.3\n",
            "\u001b[32m\u001b[1m  Installed\u001b[22m\u001b[39m ImageCore ──────────────────── v0.8.19\n",
            "\u001b[32m\u001b[1mDownloading\u001b[22m\u001b[39m artifact: p7zip\n",
            "######################################################################## 100.0%\n",
            "\u001b[1A\u001b[2K\u001b[?25h\u001b[32m\u001b[1mDownloading\u001b[22m\u001b[39m artifact: Lz4\n",
            "######################################################################## 100.0%\n",
            "\u001b[1A\u001b[2K\u001b[?25h\u001b[32m\u001b[1mDownloading\u001b[22m\u001b[39m artifact: HDF5\n",
            "######################################################################## 100.0%\n",
            "\u001b[1A\u001b[2K\u001b[?25h\u001b[32m\u001b[1mDownloading\u001b[22m\u001b[39m artifact: LibCURL\n",
            "######################################################################## 100.0%\n",
            "\u001b[1A\u001b[2K\u001b[?25h\u001b[32m\u001b[1mDownloading\u001b[22m\u001b[39m artifact: CompilerSupportLibraries\n",
            "######################################################################## 100.0%\n",
            "\u001b[1A\u001b[2K\u001b[?25h\u001b[32m\u001b[1mDownloading\u001b[22m\u001b[39m artifact: OpenSSL\n",
            "######################################################################## 100.0%\n",
            "\u001b[1A\u001b[2K\u001b[?25h\u001b[32m\u001b[1mDownloading\u001b[22m\u001b[39m artifact: Zstd\n",
            "######################################################################## 100.0%\n",
            "\u001b[1A\u001b[2K\u001b[?25h\u001b[32m\u001b[1mDownloading\u001b[22m\u001b[39m artifact: FFTW\n",
            "######################################################################## 100.0%\n",
            "\u001b[1A\u001b[2K\u001b[?25h\u001b[32m\u001b[1mDownloading\u001b[22m\u001b[39m artifact: Libiconv\n",
            "######################################################################## 100.0%\n",
            "\u001b[1A\u001b[2K\u001b[?25h\u001b[32m\u001b[1mDownloading\u001b[22m\u001b[39m artifact: XML2\n",
            "######################################################################## 100.0%\n",
            "\u001b[1A\u001b[2K\u001b[?25h\u001b[32m\u001b[1mDownloading\u001b[22m\u001b[39m artifact: Zlib\n",
            "######################################################################## 100.0%\n",
            "\u001b[1A\u001b[2K\u001b[?25h\u001b[32m\u001b[1mDownloading\u001b[22m\u001b[39m artifact: IntelOpenMP\n",
            "######################################################################## 100.0%\n",
            "\u001b[1A\u001b[2K\u001b[?25h\u001b[32m\u001b[1mDownloading\u001b[22m\u001b[39m artifact: Blosc\n",
            "######################################################################## 100.0%\n",
            "\u001b[1A\u001b[2K\u001b[?25h\u001b[32m\u001b[1mDownloading\u001b[22m\u001b[39m artifact: LibSSH2\n",
            "######################################################################## 100.0%\n",
            "\u001b[1A\u001b[2K\u001b[?25h\u001b[32m\u001b[1mDownloading\u001b[22m\u001b[39m artifact: nghttp2\n",
            "######################################################################## 100.0%\n",
            "\u001b[1A\u001b[2K\u001b[?25h\u001b[32m\u001b[1mDownloading\u001b[22m\u001b[39m artifact: OpenSpecFun\n",
            "######################################################################## 100.0%\n",
            "\u001b[1A\u001b[2K\u001b[?25h\u001b[32m\u001b[1mUpdating\u001b[22m\u001b[39m `~/.julia/environments/v1.5/Project.toml`\n",
            " \u001b[90m [fbb218c0] \u001b[39m\u001b[92m+ BSON v0.2.6\u001b[39m\n",
            " \u001b[90m [052768ef] \u001b[39m\u001b[92m+ CUDA v1.3.3\u001b[39m\n",
            " \u001b[90m [864edb3b] \u001b[39m\u001b[92m+ DataStructures v0.17.20\u001b[39m\n",
            " \u001b[90m [587475ba] \u001b[39m\u001b[92m+ Flux v0.11.1\u001b[39m\n",
            " \u001b[90m [916415d5] \u001b[39m\u001b[92m+ Images v0.23.2\u001b[39m\n",
            " \u001b[90m [96684042] \u001b[39m\u001b[92m+ InformationMeasures v0.3.0\u001b[39m\n",
            " \u001b[90m [eb30cadb] \u001b[39m\u001b[92m+ MLDatasets v0.5.3\u001b[39m\n",
            " \u001b[90m [d96e819e] \u001b[39m\u001b[92m+ Parameters v0.12.1\u001b[39m\n",
            " \u001b[90m [899adc3e] \u001b[39m\u001b[92m+ TensorBoardLogger v0.1.13\u001b[39m\n",
            " \u001b[90m [21ca0261] \u001b[39m\u001b[92m+ Transformers v0.1.7\u001b[39m\n",
            " \u001b[90m [e88e6eb3] \u001b[39m\u001b[92m+ Zygote v0.5.17\u001b[39m\n",
            " \u001b[90m [ade2ca70] \u001b[39m\u001b[92m+ Dates\u001b[39m\n",
            " \u001b[90m [56ddb016] \u001b[39m\u001b[92m+ Logging\u001b[39m\n",
            " \u001b[90m [de0858da] \u001b[39m\u001b[92m+ Printf\u001b[39m\n",
            " \u001b[90m [9abbd945] \u001b[39m\u001b[92m+ Profile\u001b[39m\n",
            " \u001b[90m [9a3f8284] \u001b[39m\u001b[92m+ Random\u001b[39m\n",
            " \u001b[90m [10745b16] \u001b[39m\u001b[92m+ Statistics\u001b[39m\n",
            "\u001b[32m\u001b[1mUpdating\u001b[22m\u001b[39m `~/.julia/environments/v1.5/Manifest.toml`\n",
            " \u001b[90m [621f4979] \u001b[39m\u001b[92m+ AbstractFFTs v0.5.0\u001b[39m\n",
            " \u001b[90m [1520ce14] \u001b[39m\u001b[92m+ AbstractTrees v0.3.3\u001b[39m\n",
            " \u001b[90m [79e6a3ab] \u001b[39m\u001b[92m+ Adapt v2.3.0\u001b[39m\n",
            " \u001b[90m [4c555306] \u001b[39m\u001b[92m+ ArrayLayouts v0.4.12\u001b[39m\n",
            " \u001b[90m [13072b0f] \u001b[39m\u001b[92m+ AxisAlgorithms v1.0.0\u001b[39m\n",
            " \u001b[90m [39de3d68] \u001b[39m\u001b[92m+ AxisArrays v0.4.3\u001b[39m\n",
            " \u001b[90m [fbb218c0] \u001b[39m\u001b[92m+ BSON v0.2.6\u001b[39m\n",
            " \u001b[90m [9e28174c] \u001b[39m\u001b[92m+ BinDeps v1.0.2\u001b[39m\n",
            " \u001b[90m [b99e7846] \u001b[39m\u001b[92m+ BinaryProvider v0.5.10\u001b[39m\n",
            " \u001b[90m [a74b3585] \u001b[39m\u001b[92m+ Blosc v0.7.0\u001b[39m\n",
            " \u001b[90m [0b7ba130] \u001b[39m\u001b[92m+ Blosc_jll v1.14.3+1\u001b[39m\n",
            " \u001b[90m [e1450e63] \u001b[39m\u001b[92m+ BufferedStreams v1.0.0\u001b[39m\n",
            " \u001b[90m [a4280ba5] \u001b[39m\u001b[92m+ BytePairEncoding v0.1.1\u001b[39m\n",
            " \u001b[90m [fa961155] \u001b[39m\u001b[92m+ CEnum v0.4.1\u001b[39m\n",
            " \u001b[90m [052768ef] \u001b[39m\u001b[92m+ CUDA v1.3.3\u001b[39m\n",
            " \u001b[90m [aafaddc9] \u001b[39m\u001b[92m+ CatIndices v0.2.1\u001b[39m\n",
            " \u001b[90m [082447d4] \u001b[39m\u001b[92m+ ChainRules v0.7.41\u001b[39m\n",
            " \u001b[90m [d360d2e6] \u001b[39m\u001b[92m+ ChainRulesCore v0.9.24\u001b[39m\n",
            " \u001b[90m [944b1d66] \u001b[39m\u001b[92m+ CodecZlib v0.7.0\u001b[39m\n",
            " \u001b[90m [3da002f7] \u001b[39m\u001b[92m+ ColorTypes v0.8.1\u001b[39m\n",
            " \u001b[90m [c3611d14] \u001b[39m\u001b[92m+ ColorVectorSpace v0.8.7\u001b[39m\n",
            " \u001b[90m [5ae59095] \u001b[39m\u001b[92m+ Colors v0.10.2\u001b[39m\n",
            " \u001b[90m [bbf7d656] \u001b[39m\u001b[92m+ CommonSubexpressions v0.3.0\u001b[39m\n",
            " \u001b[90m [34da2185] \u001b[39m\u001b[92m+ Compat v3.25.0\u001b[39m\n",
            " \u001b[90m [e66e0078] \u001b[39m\u001b[92m+ CompilerSupportLibraries_jll v0.3.4+0\u001b[39m\n",
            " \u001b[90m [ed09eef8] \u001b[39m\u001b[92m+ ComputationalResources v0.3.2\u001b[39m\n",
            " \u001b[90m [150eb455] \u001b[39m\u001b[92m+ CoordinateTransformations v0.6.1\u001b[39m\n",
            " \u001b[90m [adafc99b] \u001b[39m\u001b[92m+ CpuId v0.2.2\u001b[39m\n",
            " \u001b[90m [dc8bdbbb] \u001b[39m\u001b[92m+ CustomUnitRanges v1.0.0\u001b[39m\n",
            " \u001b[90m [9a962f9c] \u001b[39m\u001b[92m+ DataAPI v1.4.0\u001b[39m\n",
            " \u001b[90m [124859b0] \u001b[39m\u001b[92m+ DataDeps v0.7.6\u001b[39m\n",
            " \u001b[90m [864edb3b] \u001b[39m\u001b[92m+ DataStructures v0.17.20\u001b[39m\n",
            " \u001b[90m [163ba53b] \u001b[39m\u001b[92m+ DiffResults v1.0.3\u001b[39m\n",
            " \u001b[90m [b552c78f] \u001b[39m\u001b[92m+ DiffRules v1.0.2\u001b[39m\n",
            " \u001b[90m [6e83dbb3] \u001b[39m\u001b[92m+ Discretizers v3.2.0\u001b[39m\n",
            " \u001b[90m [b4f34e82] \u001b[39m\u001b[92m+ Distances v0.10.0\u001b[39m\n",
            " \u001b[90m [ffbed154] \u001b[39m\u001b[92m+ DocStringExtensions v0.8.3\u001b[39m\n",
            " \u001b[90m [da5c29d0] \u001b[39m\u001b[92m+ EllipsisNotation v0.4.0\u001b[39m\n",
            " \u001b[90m [e2ba6199] \u001b[39m\u001b[92m+ ExprTools v0.1.3\u001b[39m\n",
            " \u001b[90m [4f61f5a4] \u001b[39m\u001b[92m+ FFTViews v0.3.1\u001b[39m\n",
            " \u001b[90m [7a1cc6ca] \u001b[39m\u001b[92m+ FFTW v1.2.4\u001b[39m\n",
            " \u001b[90m [f5851436] \u001b[39m\u001b[92m+ FFTW_jll v3.3.9+7\u001b[39m\n",
            " \u001b[90m [5789e2e9] \u001b[39m\u001b[92m+ FileIO v1.4.5\u001b[39m\n",
            " \u001b[90m [1a297f60] \u001b[39m\u001b[92m+ FillArrays v0.10.2\u001b[39m\n",
            " \u001b[90m [53c48c17] \u001b[39m\u001b[92m+ FixedPointNumbers v0.7.1\u001b[39m\n",
            " \u001b[90m [587475ba] \u001b[39m\u001b[92m+ Flux v0.11.1\u001b[39m\n",
            " \u001b[90m [f6369f11] \u001b[39m\u001b[92m+ ForwardDiff v0.10.14\u001b[39m\n",
            " \u001b[90m [d9f16b24] \u001b[39m\u001b[92m+ Functors v0.1.0\u001b[39m\n",
            " \u001b[90m [0c68f7d7] \u001b[39m\u001b[92m+ GPUArrays v5.2.1\u001b[39m\n",
            " \u001b[90m [61eb1bfa] \u001b[39m\u001b[92m+ GPUCompiler v0.6.1\u001b[39m\n",
            " \u001b[90m [92fee26a] \u001b[39m\u001b[92m+ GZip v0.5.1\u001b[39m\n",
            " \u001b[90m [a2bd30eb] \u001b[39m\u001b[92m+ Graphics v1.0.2\u001b[39m\n",
            " \u001b[90m [f67ccb44] \u001b[39m\u001b[92m+ HDF5 v0.14.3\u001b[39m\n",
            " \u001b[90m [0234f1f7] \u001b[39m\u001b[92m+ HDF5_jll v1.12.0+1\u001b[39m\n",
            " \u001b[90m [7693890a] \u001b[39m\u001b[92m+ HTML_Entities v1.0.0\u001b[39m\n",
            " \u001b[90m [cd3eb016] \u001b[39m\u001b[92m+ HTTP v0.8.19\u001b[39m\n",
            " \u001b[90m [7869d1d1] \u001b[39m\u001b[92m+ IRTools v0.4.2\u001b[39m\n",
            " \u001b[90m [bbac6d45] \u001b[39m\u001b[92m+ IdentityRanges v0.3.1\u001b[39m\n",
            " \u001b[90m [2803e5a7] \u001b[39m\u001b[92m+ ImageAxes v0.6.7\u001b[39m\n",
            " \u001b[90m [f332f351] \u001b[39m\u001b[92m+ ImageContrastAdjustment v0.3.6\u001b[39m\n",
            " \u001b[90m [a09fc81d] \u001b[39m\u001b[92m+ ImageCore v0.8.19\u001b[39m\n",
            " \u001b[90m [51556ac3] \u001b[39m\u001b[92m+ ImageDistances v0.2.9\u001b[39m\n",
            " \u001b[90m [6a3955dd] \u001b[39m\u001b[92m+ ImageFiltering v0.6.18\u001b[39m\n",
            " \u001b[90m [bc367c6b] \u001b[39m\u001b[92m+ ImageMetadata v0.9.4\u001b[39m\n",
            " \u001b[90m [787d08f9] \u001b[39m\u001b[92m+ ImageMorphology v0.2.9\u001b[39m\n",
            " \u001b[90m [2996bd0c] \u001b[39m\u001b[92m+ ImageQualityIndexes v0.2.0\u001b[39m\n",
            " \u001b[90m [4e3cecfd] \u001b[39m\u001b[92m+ ImageShow v0.2.3\u001b[39m\n",
            " \u001b[90m [02fcd773] \u001b[39m\u001b[92m+ ImageTransformations v0.8.8\u001b[39m\n",
            " \u001b[90m [916415d5] \u001b[39m\u001b[92m+ Images v0.23.2\u001b[39m\n",
            " \u001b[90m [9b13fd28] \u001b[39m\u001b[92m+ IndirectArrays v0.5.1\u001b[39m\n",
            " \u001b[90m [96684042] \u001b[39m\u001b[92m+ InformationMeasures v0.3.0\u001b[39m\n",
            " \u001b[90m [83e8ac13] \u001b[39m\u001b[92m+ IniFile v0.5.0\u001b[39m\n",
            " \u001b[90m [1d5cc7b8] \u001b[39m\u001b[92m+ IntelOpenMP_jll v2018.0.3+0\u001b[39m\n",
            " \u001b[90m [7d512f48] \u001b[39m\u001b[92m+ InternedStrings v0.7.0\u001b[39m\n",
            " \u001b[90m [a98d9a8b] \u001b[39m\u001b[92m+ Interpolations v0.13.1\u001b[39m\n",
            " \u001b[90m [8197267c] \u001b[39m\u001b[92m+ IntervalSets v0.5.1\u001b[39m\n",
            " \u001b[90m [c8e1da08] \u001b[39m\u001b[92m+ IterTools v1.3.0\u001b[39m\n",
            " \u001b[90m [e5e0dc1b] \u001b[39m\u001b[92m+ Juno v0.8.4\u001b[39m\n",
            " \u001b[90m [929cbde3] \u001b[39m\u001b[92m+ LLVM v2.0.0\u001b[39m\n",
            " \u001b[90m [deac9b47] \u001b[39m\u001b[92m+ LibCURL_jll v7.70.0+2\u001b[39m\n",
            " \u001b[90m [29816b5a] \u001b[39m\u001b[92m+ LibSSH2_jll v1.9.0+3\u001b[39m\n",
            " \u001b[90m [94ce4f54] \u001b[39m\u001b[92m+ Libiconv_jll v1.16.0+7\u001b[39m\n",
            " \u001b[90m [9c8b4983] \u001b[39m\u001b[92m+ LightXML v0.9.0\u001b[39m\n",
            " \u001b[90m [bdcacae8] \u001b[39m\u001b[92m+ LoopVectorization v0.8.26\u001b[39m\n",
            " \u001b[90m [5ced341a] \u001b[39m\u001b[92m+ Lz4_jll v1.9.2+2\u001b[39m\n",
            " \u001b[90m [23992714] \u001b[39m\u001b[92m+ MAT v0.9.2\u001b[39m\n",
            " \u001b[90m [856f044c] \u001b[39m\u001b[92m+ MKL_jll v2020.2.254+0\u001b[39m\n",
            " \u001b[90m [eb30cadb] \u001b[39m\u001b[92m+ MLDatasets v0.5.3\u001b[39m\n",
            " \u001b[90m [1914dd2f] \u001b[39m\u001b[92m+ MacroTools v0.5.6\u001b[39m\n",
            " \u001b[90m [dbb5928d] \u001b[39m\u001b[92m+ MappedArrays v0.2.2\u001b[39m\n",
            " \u001b[90m [e89f7d12] \u001b[39m\u001b[92m+ Media v0.5.0\u001b[39m\n",
            " \u001b[90m [e1d29d7a] \u001b[39m\u001b[92m+ Missings v0.4.4\u001b[39m\n",
            " \u001b[90m [e94cdb99] \u001b[39m\u001b[92m+ MosaicViews v0.2.4\u001b[39m\n",
            " \u001b[90m [46d2c3a1] \u001b[39m\u001b[92m+ MuladdMacro v0.2.2\u001b[39m\n",
            " \u001b[90m [872c559c] \u001b[39m\u001b[92m+ NNlib v0.7.9\u001b[39m\n",
            " \u001b[90m [77ba4419] \u001b[39m\u001b[92m+ NaNMath v0.3.5\u001b[39m\n",
            " \u001b[90m [6fe1bfb0] \u001b[39m\u001b[92m+ OffsetArrays v1.4.2\u001b[39m\n",
            " \u001b[90m [458c3c95] \u001b[39m\u001b[92m+ OpenSSL_jll v1.1.1+6\u001b[39m\n",
            " \u001b[90m [efe28fd5] \u001b[39m\u001b[92m+ OpenSpecFun_jll v0.5.3+4\u001b[39m\n",
            " \u001b[90m [bac558e1] \u001b[39m\u001b[92m+ OrderedCollections v1.3.2\u001b[39m\n",
            " \u001b[90m [5432bcbf] \u001b[39m\u001b[92m+ PaddedViews v0.5.7\u001b[39m\n",
            " \u001b[90m [d96e819e] \u001b[39m\u001b[92m+ Parameters v0.12.1\u001b[39m\n",
            " \u001b[90m [fbb45041] \u001b[39m\u001b[92m+ Pickle v0.2.0\u001b[39m\n",
            " \u001b[90m [3349acd9] \u001b[39m\u001b[92m+ ProtoBuf v0.10.0\u001b[39m\n",
            " \u001b[90m [b3c3ace0] \u001b[39m\u001b[92m+ RangeArrays v0.3.2\u001b[39m\n",
            " \u001b[90m [c84ed2f1] \u001b[39m\u001b[92m+ Ratios v0.4.0\u001b[39m\n",
            " \u001b[90m [189a3867] \u001b[39m\u001b[92m+ Reexport v0.2.0\u001b[39m\n",
            " \u001b[90m [ae029012] \u001b[39m\u001b[92m+ Requires v1.1.2\u001b[39m\n",
            " \u001b[90m [6038ab10] \u001b[39m\u001b[92m+ Rotations v1.0.2\u001b[39m\n",
            " \u001b[90m [21efa798] \u001b[39m\u001b[92m+ SIMDPirates v0.8.26\u001b[39m\n",
            " \u001b[90m [476501e8] \u001b[39m\u001b[92m+ SLEEFPirates v0.5.5\u001b[39m\n",
            " \u001b[90m [699a6c99] \u001b[39m\u001b[92m+ SimpleTraits v0.9.3\u001b[39m\n",
            " \u001b[90m [a2af1166] \u001b[39m\u001b[92m+ SortingAlgorithms v0.3.1\u001b[39m\n",
            " \u001b[90m [276daf66] \u001b[39m\u001b[92m+ SpecialFunctions v1.2.1\u001b[39m\n",
            " \u001b[90m [90137ffa] \u001b[39m\u001b[92m+ StaticArrays v1.0.1\u001b[39m\n",
            " \u001b[90m [2913bbd2] \u001b[39m\u001b[92m+ StatsBase v0.33.2\u001b[39m\n",
            " \u001b[90m [9700d1a9] \u001b[39m\u001b[92m+ StrTables v1.0.1\u001b[39m\n",
            " \u001b[90m [5e0ebb24] \u001b[39m\u001b[92m+ Strided v1.1.1\u001b[39m\n",
            " \u001b[90m [899adc3e] \u001b[39m\u001b[92m+ TensorBoardLogger v0.1.13\u001b[39m\n",
            " \u001b[90m [06e1c1a7] \u001b[39m\u001b[92m+ TiledIteration v0.2.5\u001b[39m\n",
            " \u001b[90m [a759f4b9] \u001b[39m\u001b[92m+ TimerOutputs v0.5.7\u001b[39m\n",
            " \u001b[90m [3bb67fe8] \u001b[39m\u001b[92m+ TranscodingStreams v0.9.5\u001b[39m\n",
            " \u001b[90m [21ca0261] \u001b[39m\u001b[92m+ Transformers v0.1.7\u001b[39m\n",
            " \u001b[90m [9d95972d] \u001b[39m\u001b[92m+ TupleTools v1.2.0\u001b[39m\n",
            " \u001b[90m [30578b45] \u001b[39m\u001b[92m+ URIParser v0.4.1\u001b[39m\n",
            " \u001b[90m [3a884ed6] \u001b[39m\u001b[92m+ UnPack v1.0.2\u001b[39m\n",
            " \u001b[90m [3d5dd08c] \u001b[39m\u001b[92m+ VectorizationBase v0.12.33\u001b[39m\n",
            " \u001b[90m [efce3f68] \u001b[39m\u001b[92m+ WoodburyMatrices v0.5.3\u001b[39m\n",
            " \u001b[90m [796a5d58] \u001b[39m\u001b[92m+ WordTokenizers v0.5.6\u001b[39m\n",
            " \u001b[90m [02c8fc9c] \u001b[39m\u001b[92m+ XML2_jll v2.9.10+3\u001b[39m\n",
            " \u001b[90m [a5390f91] \u001b[39m\u001b[92m+ ZipFile v0.9.3\u001b[39m\n",
            " \u001b[90m [83775a58] \u001b[39m\u001b[92m+ Zlib_jll v1.2.11+18\u001b[39m\n",
            " \u001b[90m [3161d3a3] \u001b[39m\u001b[92m+ Zstd_jll v1.4.5+2\u001b[39m\n",
            " \u001b[90m [e88e6eb3] \u001b[39m\u001b[92m+ Zygote v0.5.17\u001b[39m\n",
            " \u001b[90m [700de1a5] \u001b[39m\u001b[92m+ ZygoteRules v0.2.1\u001b[39m\n",
            " \u001b[90m [8e850ede] \u001b[39m\u001b[92m+ nghttp2_jll v1.40.0+2\u001b[39m\n",
            " \u001b[90m [3f19e933] \u001b[39m\u001b[92m+ p7zip_jll v16.2.0+3\u001b[39m\n",
            " \u001b[90m [8bf52ea8] \u001b[39m\u001b[92m+ CRC32c\u001b[39m\n",
            " \u001b[90m [8bb1440f] \u001b[39m\u001b[92m+ DelimitedFiles\u001b[39m\n",
            " \u001b[90m [37e2e46d] \u001b[39m\u001b[92m+ LinearAlgebra\u001b[39m\n",
            " \u001b[90m [9abbd945] \u001b[39m\u001b[92m+ Profile\u001b[39m\n",
            " \u001b[90m [1a1011a3] \u001b[39m\u001b[92m+ SharedArrays\u001b[39m\n",
            " \u001b[90m [2f01184e] \u001b[39m\u001b[92m+ SparseArrays\u001b[39m\n",
            " \u001b[90m [10745b16] \u001b[39m\u001b[92m+ Statistics\u001b[39m\n",
            "\u001b[32m\u001b[1m   Building\u001b[22m\u001b[39m SLEEFPirates ─→ `~/.julia/packages/SLEEFPirates/jGsib/deps/build.log`\n",
            "\u001b[32m\u001b[1m   Building\u001b[22m\u001b[39m DataDeps ─────→ `~/.julia/packages/DataDeps/jrlAW/deps/build.log`\n",
            "\u001b[32m\u001b[1m   Building\u001b[22m\u001b[39m FFTW ─────────→ `~/.julia/packages/FFTW/DMUbN/deps/build.log`\n",
            "\u001b[32m\u001b[1m   Building\u001b[22m\u001b[39m HTML_Entities → `~/.julia/packages/HTML_Entities/g4t7p/deps/build.log`\n",
            "\u001b[32m\u001b[1m   Building\u001b[22m\u001b[39m HDF5 ─────────→ `~/.julia/packages/HDF5/d0V7K/deps/build.log`\n",
            "DONE\n"
          ],
          "name": "stdout"
        }
      ]
    },
    {
      "cell_type": "code",
      "metadata": {
        "id": "BoZnMwsrCNZn"
      },
      "source": [
        ""
      ],
      "execution_count": null,
      "outputs": []
    },
    {
      "cell_type": "code",
      "metadata": {
        "id": "qrtJwtCUgCjX"
      },
      "source": [
        ""
      ],
      "execution_count": null,
      "outputs": []
    },
    {
      "cell_type": "code",
      "metadata": {
        "id": "PtcQ1zjJgRYo"
      },
      "source": [
        ""
      ],
      "execution_count": null,
      "outputs": []
    },
    {
      "cell_type": "markdown",
      "metadata": {
        "id": "rSZzQeJUg2f2"
      },
      "source": [
        "**NOW GO TO EDIT NOTEBOOK SETTING AND SET IT TO JULIA**\n",
        "For adding new packages, it should be in python or the syntax may need to be in Julia!"
      ]
    },
    {
      "cell_type": "code",
      "metadata": {
        "id": "kXRGHHhhg9N_",
        "colab": {
          "base_uri": "https://localhost:8080/"
        },
        "outputId": "3c23ba26-07d4-4d9b-fa9c-076d9f73309b"
      },
      "source": [
        "[1,2,3]"
      ],
      "execution_count": 1,
      "outputs": [
        {
          "output_type": "execute_result",
          "data": {
            "text/plain": [
              "3-element Array{Int64,1}:\n",
              " 1\n",
              " 2\n",
              " 3"
            ]
          },
          "metadata": {
            "tags": []
          },
          "execution_count": 1
        }
      ]
    },
    {
      "cell_type": "code",
      "metadata": {
        "colab": {
          "base_uri": "https://localhost:8080/"
        },
        "id": "1qhXlYghK2Jf",
        "outputId": "27eea5ac-3bfd-4263-c6af-929a64322c7d"
      },
      "source": [
        "import Pkg; Pkg.add(\"BenchmarkTools\")"
      ],
      "execution_count": null,
      "outputs": [
        {
          "output_type": "stream",
          "text": [
            "\u001b[32m\u001b[1m   Updating\u001b[22m\u001b[39m registry at `~/.julia/registries/General`\n",
            "\u001b[32m\u001b[1m  Resolving\u001b[22m\u001b[39m package versions...\n",
            "\u001b[32m\u001b[1m  Installed\u001b[22m\u001b[39m BenchmarkTools ─ v0.5.0\n",
            "\u001b[32m\u001b[1mUpdating\u001b[22m\u001b[39m `~/.julia/environments/v1.5/Project.toml`\n",
            " \u001b[90m [6e4b80f9] \u001b[39m\u001b[92m+ BenchmarkTools v0.5.0\u001b[39m\n",
            "\u001b[32m\u001b[1mUpdating\u001b[22m\u001b[39m `~/.julia/environments/v1.5/Manifest.toml`\n",
            " \u001b[90m [6e4b80f9] \u001b[39m\u001b[92m+ BenchmarkTools v0.5.0\u001b[39m\n"
          ],
          "name": "stderr"
        }
      ]
    },
    {
      "cell_type": "code",
      "metadata": {
        "id": "yQlpeR9wNOi8",
        "colab": {
          "base_uri": "https://localhost:8080/"
        },
        "outputId": "1f746055-f882-4fd0-e176-e92600e8820f"
      },
      "source": [
        "using BenchmarkTools\n",
        "\n",
        "M = rand(2048, 2048)\n",
        "@benchmark M^2"
      ],
      "execution_count": null,
      "outputs": [
        {
          "output_type": "execute_result",
          "data": {
            "text/plain": [
              "BenchmarkTools.Trial: \n",
              "  memory estimate:  32.00 MiB\n",
              "  allocs estimate:  2\n",
              "  --------------\n",
              "  minimum time:     417.434 ms (0.00% GC)\n",
              "  median time:      431.325 ms (0.00% GC)\n",
              "  mean time:        435.868 ms (0.73% GC)\n",
              "  maximum time:     471.040 ms (0.71% GC)\n",
              "  --------------\n",
              "  samples:          12\n",
              "  evals/sample:     1"
            ]
          },
          "metadata": {
            "tags": []
          },
          "execution_count": 12
        }
      ]
    },
    {
      "cell_type": "code",
      "metadata": {
        "id": "XciCcMAJOT3_",
        "colab": {
          "base_uri": "https://localhost:8080/"
        },
        "outputId": "c80482e5-0f98-4685-c90c-fcce071efe51"
      },
      "source": [
        "if ENV[\"COLAB_GPU\"] == \"1\"\n",
        "    using CUDA\n",
        "\n",
        "    M_gpu = cu(M)\n",
        "    @benchmark CUDA.@sync M_gpu^2\n",
        "else\n",
        "    println(\"No GPU found.\")\n",
        "end"
      ],
      "execution_count": null,
      "outputs": [
        {
          "output_type": "execute_result",
          "data": {
            "text/plain": [
              "BenchmarkTools.Trial: \n",
              "  memory estimate:  416 bytes\n",
              "  allocs estimate:  11\n",
              "  --------------\n",
              "  minimum time:     2.757 ms (0.00% GC)\n",
              "  median time:      4.951 ms (0.00% GC)\n",
              "  mean time:        5.025 ms (0.03% GC)\n",
              "  maximum time:     9.150 ms (17.12% GC)\n",
              "  --------------\n",
              "  samples:          994\n",
              "  evals/sample:     1"
            ]
          },
          "metadata": {
            "tags": []
          },
          "execution_count": 13
        }
      ]
    },
    {
      "cell_type": "code",
      "metadata": {
        "id": "H1zO9fv8gfKN"
      },
      "source": [
        "M_gpu = nothing\n",
        "M=nothing"
      ],
      "execution_count": null,
      "outputs": []
    },
    {
      "cell_type": "code",
      "metadata": {
        "id": "4NiqrpPnhy_n",
        "colab": {
          "base_uri": "https://localhost:8080/"
        },
        "outputId": "3348416e-3039-4ec3-f987-dc4b89785f01"
      },
      "source": [
        "cd(\"/content/gdrive/MyDrive/minGPT\")\n",
        "pwd()"
      ],
      "execution_count": 4,
      "outputs": [
        {
          "output_type": "execute_result",
          "data": {
            "text/plain": [
              "\"/content/gdrive/MyDrive/minGPT\""
            ]
          },
          "metadata": {
            "tags": []
          },
          "execution_count": 4
        }
      ]
    },
    {
      "cell_type": "code",
      "metadata": {
        "id": "SLZAhjGejvbW",
        "colab": {
          "base_uri": "https://localhost:8080/"
        },
        "outputId": "f7c3d00a-52de-44c2-8318-f7a86e385069"
      },
      "source": [
        "using Flux: onehot\n",
        "\tusing Transformers: Vocabulary, decode\n",
        "\tusing Random\n",
        "\tusing Flux: throttle, @epochs, ADAMW, ADAM, RADAM, Momentum, Optimiser, logitcrossentropy, params\n",
        "\tusing Flux: softmax, onecold, WeightDecay\n",
        "\tusing DataStructures: Queue, enqueue!, dequeue!\n",
        "\tRandom.seed!(42)\n"
      ],
      "execution_count": 1,
      "outputs": [
        {
          "output_type": "execute_result",
          "data": {
            "text/plain": [
              "MersenneTwister(UInt32[0x0000002a], Random.DSFMT.DSFMT_state(Int32[964434469, 1073036706, 1860149520, 1073503458, 1687169063, 1073083486, -399267803, 1072983952, -909620556, 1072836235  …  -293054293, 1073002412, -1300127419, 1073642642, 1917177374, -666058738, -337596527, 1830741494, 382, 0]), [0.0, 0.0, 0.0, 0.0, 0.0, 0.0, 0.0, 0.0, 0.0, 0.0  …  0.0, 0.0, 0.0, 0.0, 0.0, 0.0, 0.0, 0.0, 0.0, 0.0], UInt128[0x00000000000000000000000000000000, 0x00000000000000000000000000000000, 0x00000000000000000000000000000000, 0x00000000000000000000000000000000, 0x00000000000000000000000000000000, 0x00000000000000000000000000000000, 0x00000000000000000000000000000000, 0x00000000000000000000000000000000, 0x00000000000000000000000000000000, 0x00000000000000000000000000000000  …  0x00000000000000000000000000000000, 0x00000000000000000000000000000000, 0x00000000000000000000000000000000, 0x00000000000000000000000000000000, 0x00000000000000000000000000000000, 0x00000000000000000000000000000000, 0x00000000000000000000000000000000, 0x00000000000000000000000000000000, 0x00000000000000000000000000000000, 0x00000000000000000000000000000000], 1002, 0)"
            ]
          },
          "metadata": {
            "tags": []
          },
          "execution_count": 1
        }
      ]
    },
    {
      "cell_type": "code",
      "metadata": {
        "colab": {
          "base_uri": "https://localhost:8080/"
        },
        "id": "CsppDVbHNA7j",
        "outputId": "5594ff38-ca16-4ca5-89f5-72fbcd3a32a4"
      },
      "source": [
        "import Pkg; Pkg.add(\"NNlib\")\n",
        "Pkg.add(\"Distributions\")\n",
        "Pkg.add(\"Juno\")"
      ],
      "execution_count": 2,
      "outputs": [
        {
          "output_type": "stream",
          "text": [
            "\u001b[32m\u001b[1m   Updating\u001b[22m\u001b[39m registry at `~/.julia/registries/General`\n",
            "\u001b[32m\u001b[1m  Resolving\u001b[22m\u001b[39m package versions...\n",
            "\u001b[32m\u001b[1mNo Changes\u001b[22m\u001b[39m to `~/.julia/environments/v1.5/Project.toml`\n",
            "\u001b[32m\u001b[1mNo Changes\u001b[22m\u001b[39m to `~/.julia/environments/v1.5/Manifest.toml`\n",
            "\u001b[32m\u001b[1m  Resolving\u001b[22m\u001b[39m package versions...\n",
            "\u001b[32m\u001b[1mNo Changes\u001b[22m\u001b[39m to `~/.julia/environments/v1.5/Project.toml`\n",
            "\u001b[32m\u001b[1mNo Changes\u001b[22m\u001b[39m to `~/.julia/environments/v1.5/Manifest.toml`\n",
            "\u001b[32m\u001b[1m  Resolving\u001b[22m\u001b[39m package versions...\n",
            "\u001b[32m\u001b[1mNo Changes\u001b[22m\u001b[39m to `~/.julia/environments/v1.5/Project.toml`\n",
            "\u001b[32m\u001b[1mNo Changes\u001b[22m\u001b[39m to `~/.julia/environments/v1.5/Manifest.toml`\n"
          ],
          "name": "stderr"
        }
      ]
    },
    {
      "cell_type": "code",
      "metadata": {
        "colab": {
          "base_uri": "https://localhost:8080/"
        },
        "id": "Byj-tkx0FhrW",
        "outputId": "a0e835d1-9343-4214-93e4-1672853e2446"
      },
      "source": [
        "using Flux\n",
        "\n",
        "module Datasets include(\"onJulia/src/datasets.jl\") end"
      ],
      "execution_count": 5,
      "outputs": [
        {
          "output_type": "stream",
          "text": [
            "WARNING: replacing module Datasets.\n"
          ],
          "name": "stderr"
        },
        {
          "output_type": "execute_result",
          "data": {
            "text/plain": [
              "Main.Datasets"
            ]
          },
          "metadata": {
            "tags": []
          },
          "execution_count": 5
        }
      ]
    },
    {
      "cell_type": "code",
      "metadata": {
        "colab": {
          "base_uri": "https://localhost:8080/"
        },
        "id": "PcqDQhPOC3TN",
        "outputId": "7b0142bf-1fda-4ffc-a0ee-f418e8013855"
      },
      "source": [
        "f=\"input.txt\"\n",
        "s = open(f) do file\n",
        "      read(file, String)\n",
        "end\n",
        "data = s \n",
        "xxx=10    # I don't want the out put of the data assignment to be printed"
      ],
      "execution_count": 6,
      "outputs": [
        {
          "output_type": "execute_result",
          "data": {
            "text/plain": [
              "10"
            ]
          },
          "metadata": {
            "tags": []
          },
          "execution_count": 6
        }
      ]
    },
    {
      "cell_type": "code",
      "metadata": {
        "id": "qAVlhUeasJwJ",
        "colab": {
          "base_uri": "https://localhost:8080/"
        },
        "outputId": "ba9dafd1-96ab-4f61-fdfb-88a2b2dcb2ad"
      },
      "source": [
        "data[100:150]"
      ],
      "execution_count": 7,
      "outputs": [
        {
          "output_type": "execute_result",
          "data": {
            "text/plain": [
              "\"u are all resolved rather to die than to famish?\\n\\nA\""
            ]
          },
          "metadata": {
            "tags": []
          },
          "execution_count": 7
        }
      ]
    },
    {
      "cell_type": "code",
      "metadata": {
        "colab": {
          "base_uri": "https://localhost:8080/",
          "height": 339
        },
        "id": "F2ysnseBEdVI",
        "outputId": "3c8df01a-bc74-4c38-8ccc-e0103ff5dd2f"
      },
      "source": [
        "using CUDA\n",
        "CUDA.memory_status()"
      ],
      "execution_count": 8,
      "outputs": [
        {
          "output_type": "error",
          "ename": "LoadError",
          "evalue": "ignored",
          "traceback": [
            "CUDA error (code 214, CUDA_ERROR_ECC_UNCORRECTABLE)",
            "",
            "Stacktrace:",
            " [1] throw_api_error(::CUDA.cudaError_enum) at /root/.julia/packages/CUDA/dZvbp/lib/cudadrv/error.jl:103",
            " [2] macro expansion at /root/.julia/packages/CUDA/dZvbp/lib/cudadrv/error.jl:110 [inlined]",
            " [3] cuDevicePrimaryCtxRetain(::Base.RefValue{Ptr{Nothing}}, ::CuDevice) at /root/.julia/packages/CUDA/dZvbp/lib/utils/call.jl:93",
            " [4] CuContext(::CuPrimaryContext) at /root/.julia/packages/CUDA/dZvbp/lib/cudadrv/context/primary.jl:31",
            " [5] context(::CuDevice) at /root/.julia/packages/CUDA/dZvbp/src/state.jl:249",
            " [6] device!(::CuDevice, ::Nothing) at /root/.julia/packages/CUDA/dZvbp/src/state.jl:286",
            " [7] device!(::CuDevice) at /root/.julia/packages/CUDA/dZvbp/src/state.jl:265",
            " [8] initialize_thread(::Int64) at /root/.julia/packages/CUDA/dZvbp/src/state.jl:122",
            " [9] prepare_cuda_call() at /root/.julia/packages/CUDA/dZvbp/src/state.jl:80",
            " [10] device at /root/.julia/packages/CUDA/dZvbp/src/state.jl:227 [inlined]",
            " [11] memory_status(::IJulia.IJuliaStdio{Base.PipeEndpoint}) at /root/.julia/packages/CUDA/dZvbp/src/pool.jl:560 (repeats 2 times)",
            " [12] top-level scope at In[8]:2",
            " [13] include_string(::Function, ::Module, ::String, ::String) at ./loading.jl:1091"
          ]
        }
      ]
    },
    {
      "cell_type": "code",
      "metadata": {
        "colab": {
          "base_uri": "https://localhost:8080/"
        },
        "id": "rlFiBkLuh9GY",
        "outputId": "abc6bd2d-bcc9-4740-b4f5-5e244e45e01b"
      },
      "source": [
        "\n",
        "dataSetlength, vocab, sample = Datasets.asDataset(data)\n",
        "batch(dataLength,batchLength ) = hcat((sample(dataLength) for x in 1:batchLength)...)"
      ],
      "execution_count": 11,
      "outputs": [
        {
          "output_type": "stream",
          "text": [
            "datasize = length(s) = 1115394\n"
          ],
          "name": "stdout"
        },
        {
          "output_type": "execute_result",
          "data": {
            "text/plain": [
              "batch (generic function with 1 method)"
            ]
          },
          "metadata": {
            "tags": []
          },
          "execution_count": 11
        }
      ]
    },
    {
      "cell_type": "code",
      "metadata": {
        "colab": {
          "base_uri": "https://localhost:8080/"
        },
        "id": "ir21zsqzimPB",
        "outputId": "b510f946-935b-43ea-e8b7-744a76c6087f"
      },
      "source": [
        "## ---\n",
        "module Model include(\"onJulia/src/model.jl\") end\n",
        "\n",
        "lengthOfSentences=520"
      ],
      "execution_count": 12,
      "outputs": [
        {
          "output_type": "stream",
          "text": [
            "┌ Info: Precompiling Distributions [31c24e10-a181-5473-b8eb-7969acd0382f]\n",
            "└ @ Base loading.jl:1278\n"
          ],
          "name": "stderr"
        },
        {
          "output_type": "execute_result",
          "data": {
            "text/plain": [
              "520"
            ]
          },
          "metadata": {
            "tags": []
          },
          "execution_count": 12
        }
      ]
    },
    {
      "cell_type": "code",
      "metadata": {
        "colab": {
          "base_uri": "https://localhost:8080/"
        },
        "id": "n0piSuVYh_1x",
        "outputId": "4e995537-e0fa-4f1f-f5bb-9b01e0e0e040"
      },
      "source": [
        "model=Model.minGPT(numberAttnLayers=4, maxBlockSize=lengthOfSentences, vocabSize=length(vocab)) |> gpu"
      ],
      "execution_count": 13,
      "outputs": [
        {
          "output_type": "execute_result",
          "data": {
            "text/plain": [
              "Main.Model.minGPT{Transformers.Basic.Embed{Float32,CUDA.CuArray{Float32,2}},Main.Model.GPTPositionEmbedding{Float32,CUDA.CuArray{Float32,2}},Chain{NTuple{4,Transformers.Basic.Transformer{Transformers.Basic.MultiheadAttention{Dense{typeof(identity),CUDA.CuArray{Float32,2},CUDA.CuArray{Float32,1}},Dense{typeof(identity),CUDA.CuArray{Float32,2},CUDA.CuArray{Float32,1}},Dense{typeof(identity),CUDA.CuArray{Float32,2},CUDA.CuArray{Float32,1}},Dense{typeof(identity),CUDA.CuArray{Float32,2},CUDA.CuArray{Float32,1}},Dropout{Float64,Colon}},LayerNorm{CUDA.CuArray{Float32,1}},Transformers.Basic.PwFFN{Dense{typeof(gelu),CUDA.CuArray{Float32,2},CUDA.CuArray{Float32,1}},Dense{typeof(identity),CUDA.CuArray{Float32,2},CUDA.CuArray{Float32,1}}},LayerNorm{CUDA.CuArray{Float32,1}},Dropout{Float64,Colon}}}},Dropout{Float64,Colon},LayerNorm{CUDA.CuArray{Float32,1}},Transformers.Basic.Positionwise{Tuple{Dense{typeof(identity),CUDA.CuArray{Float32,2},CUDA.CuArray{Float32,1}}}}}(Embed(512), Main.Model.GPTPositionEmbedding{Float32,CUDA.CuArray{Float32,2}}(Float32[0.0 0.0 … 0.0 0.0; 0.0 0.0 … 0.0 0.0; … ; 0.0 0.0 … 0.0 0.0; 0.0 0.0 … 0.0 0.0]), Dropout(0.1), LayerNorm(512), Chain(Transformer(head=4, head_size=128, pwffn_size=2048, size=512), Transformer(head=4, head_size=128, pwffn_size=2048, size=512), Transformer(head=4, head_size=128, pwffn_size=2048, size=512), Transformer(head=4, head_size=128, pwffn_size=2048, size=512)), Positionwise(Dense(512, 66)))"
            ]
          },
          "metadata": {
            "tags": []
          },
          "execution_count": 13
        }
      ]
    },
    {
      "cell_type": "code",
      "metadata": {
        "colab": {
          "base_uri": "https://localhost:8080/",
          "height": 166
        },
        "id": "_MLQF8KNF1Ku",
        "outputId": "4542d0da-e1ed-4c18-a53f-f89b73050bbc"
      },
      "source": [
        "@show modelParmaLength=sum(length(p) for p in params(model))\n",
        "CUDA.memory_status()"
      ],
      "execution_count": 14,
      "outputs": [
        {
          "output_type": "stream",
          "text": [
            "modelParmaLength = sum((length(p) for p = params(model))) = 12944450\n"
          ],
          "name": "stdout"
        },
        {
          "output_type": "error",
          "ename": "LoadError",
          "evalue": "ignored",
          "traceback": [
            "UndefVarError: CUDA not defined",
            "",
            "Stacktrace:",
            " [1] top-level scope at In[14]:2",
            " [2] include_string(::Function, ::Module, ::String, ::String) at ./loading.jl:1091"
          ]
        }
      ]
    },
    {
      "cell_type": "code",
      "metadata": {
        "id": "Li2q8F1Cph3_",
        "colab": {
          "base_uri": "https://localhost:8080/"
        },
        "outputId": "4ba10f0c-485e-4f4c-a33d-91dbac16d529"
      },
      "source": [
        "# for a batch of sentences, extract 1st to one before last character as input\n",
        "# and 2nd to last char of each sentence as prediction.  Shape the predictred\n",
        "# values as a long one dim series of values, one hot encode them using the vocab\n",
        "\n",
        "trainingDataPair(b)=(b[1:end-1, :], onehot(vocab, reshape(b[2:end,:], :)))\n",
        "trainingData(dataLength,batchLength)= [trainingDataPair(batch(dataLength,batchLength))\n",
        "\t\tfor i in 1:dataSetlength/(dataLength*batchLength)]\n",
        "\n",
        "function loss(x,y)\n",
        "\tyhat=model(x)\n",
        "\tlogitcrossentropy(reshape(yhat,size(yhat)[1], :), y)\n",
        "end\n",
        "\n",
        "\n",
        "function validate()\n",
        "\ts=collect(\"Persia\")\n",
        "\tfor i in 1:20\n",
        "\t\tout=model(vocab(s))\n",
        "\t\tpush!(s, decode(vocab,onecold(softmax(out)[:,end])))\n",
        "\tend\n",
        "\tjoin(s)\n",
        "end"
      ],
      "execution_count": 16,
      "outputs": [
        {
          "output_type": "execute_result",
          "data": {
            "text/plain": [
              "validate (generic function with 1 method)"
            ]
          },
          "metadata": {
            "tags": []
          },
          "execution_count": 16
        }
      ]
    },
    {
      "cell_type": "code",
      "metadata": {
        "colab": {
          "base_uri": "https://localhost:8080/"
        },
        "id": "FNBzAr-ZM616",
        "outputId": "ff0a1d43-628f-4039-d36a-56606f85136e"
      },
      "source": [
        "#opt = RADAM()\n",
        "opt = ADAM( 0.0006, (0.9, 0.95))\n",
        "\n",
        "## ---\n",
        "module Train include(\"onJulia/src/train.jl\") end"
      ],
      "execution_count": 17,
      "outputs": [
        {
          "output_type": "stream",
          "text": [
            "┌ Info: Precompiling TensorBoardLogger [899adc3e-224a-11e9-021f-63837185c80f]\n",
            "└ @ Base loading.jl:1278\n"
          ],
          "name": "stderr"
        },
        {
          "output_type": "execute_result",
          "data": {
            "text/plain": [
              "Main.Train"
            ]
          },
          "metadata": {
            "tags": []
          },
          "execution_count": 17
        }
      ]
    },
    {
      "cell_type": "code",
      "metadata": {
        "colab": {
          "base_uri": "https://localhost:8080/"
        },
        "id": "p1jfoLi_NVVQ",
        "outputId": "9bc23b3f-ae30-4a3c-8109-dcece3e35f2d"
      },
      "source": [
        "function sampleFromModel(s=\"Whe\", minprob=.05) \n",
        "\tfunction explore(x, minprob)\n",
        "\t\tx[1] < minprob && return currentRes\n",
        "\t\tout=model(vocab(collect(x[2])))\n",
        "\t\tchoices=sort(collect(zip(softmax(out[:,end]), decode(vocab, collect(1:size(out)[1])))), rev=true)\n",
        "\t\toptions = [(x[1]*np, x[2]*nc) for (np,nc) in choices if (x[1]*np) > minprob ]\n",
        "\tend\n",
        "\ttoexplore=Queue{Tuple{Float32,String}}()\n",
        "\tenqueue!(toexplore,(1, s))  #start with the initial string and prob 1\n",
        "\tresults=[]\n",
        "\tfor i in toexplore\n",
        "\t\tnxt=dequeue!(toexplore)\n",
        "\t\tres=explore(nxt, minprob)\n",
        "\t\tif isempty(res)  # go as long as you can't add any more character and satisfy the prob\n",
        "\t\t\tpush!(results, nxt)\n",
        "\t\t\tcontinue #continue emptying the queue\n",
        "\t\tend\n",
        "\t\tfor r in res\n",
        "\t\t\tenqueue!(toexplore, r)  ## add elements for further exploration\n",
        "\t\tend\n",
        "\tend\n",
        "    #elements of the results are (prob, string), sort from high to low of the \n",
        "\t#longest match with highest prob\n",
        "\tsort(results, by=x->(length(x[2]), x[1]), rev=true)\n",
        "end\n"
      ],
      "execution_count": 18,
      "outputs": [
        {
          "output_type": "execute_result",
          "data": {
            "text/plain": [
              "sampleFromModel (generic function with 3 methods)"
            ]
          },
          "metadata": {
            "tags": []
          },
          "execution_count": 18
        }
      ]
    },
    {
      "cell_type": "code",
      "metadata": {
        "colab": {
          "base_uri": "https://localhost:8080/"
        },
        "id": "A3BXjCY1NqlK",
        "outputId": "a845666f-d042-44fe-a9ba-bbfc6ebd729c"
      },
      "source": [
        "sampleFromModel(\"Persia\", 0.01)"
      ],
      "execution_count": 19,
      "outputs": [
        {
          "output_type": "stream",
          "text": [
            "┌ Warning: Performing scalar operations on GPU arrays: This is very slow, consider disallowing these operations with `allowscalar(false)`\n",
            "└ @ GPUArrays /root/.julia/packages/GPUArrays/uaFZh/src/host/indexing.jl:43\n"
          ],
          "name": "stderr"
        },
        {
          "output_type": "execute_result",
          "data": {
            "text/plain": [
              "43-element Array{Any,1}:\n",
              " (0.057464916f0, \"Persia \")\n",
              " (0.04512562f0, \"Persiat\")\n",
              " (0.036171194f0, \"Persia□\")\n",
              " (0.029142538f0, \"PersiaF\")\n",
              " (0.025862757f0, \"Persia3\")\n",
              " (0.02511337f0, \"Persiaa\")\n",
              " (0.024748262f0, \"PersiaI\")\n",
              " (0.02432407f0, \"Persia&\")\n",
              " (0.023562754f0, \"Persiay\")\n",
              " (0.02345913f0, \"PersiaP\")\n",
              " (0.022322562f0, \"Persia,\")\n",
              " (0.021562232f0, \"Persiak\")\n",
              " (0.019305686f0, \"PersiaW\")\n",
              " ⋮\n",
              " (0.014010075f0, \"PersiaD\")\n",
              " (0.01371026f0, \"PersiaG\")\n",
              " (0.01321159f0, \"Persiaj\")\n",
              " (0.012742196f0, \"Persia;\")\n",
              " (0.012419085f0, \"Persiax\")\n",
              " (0.012038575f0, \"Persia-\")\n",
              " (0.012038232f0, \"Persiav\")\n",
              " (0.011987449f0, \"Persiam\")\n",
              " (0.011763874f0, \"PersiaX\")\n",
              " (0.011741664f0, \"Persiar\")\n",
              " (0.0116134845f0, \"Persiac\")\n",
              " (0.010567125f0, \"PersiaC\")"
            ]
          },
          "metadata": {
            "tags": []
          },
          "execution_count": 19
        }
      ]
    },
    {
      "cell_type": "code",
      "metadata": {
        "id": "PMKmiWaisXTg",
        "colab": {
          "base_uri": "https://localhost:8080/"
        },
        "outputId": "7e225279-e483-4154-828d-6fd7c0cc5fee"
      },
      "source": [
        "d=trainingData(lengthOfSentences, numberOfSentencesInBatch)\n",
        "size(d)"
      ],
      "execution_count": null,
      "outputs": [
        {
          "output_type": "execute_result",
          "data": {
            "text/plain": [
              "(214,)"
            ]
          },
          "metadata": {
            "tags": []
          },
          "execution_count": 68
        }
      ]
    },
    {
      "cell_type": "markdown",
      "metadata": {
        "id": "HhOesl6c4Whx"
      },
      "source": [
        ""
      ]
    },
    {
      "cell_type": "code",
      "metadata": {
        "colab": {
          "base_uri": "https://localhost:8080/",
          "height": 859
        },
        "id": "rlNJzmUXNv6O",
        "outputId": "3694fa0f-6a4d-487a-8ecd-5b689030455c"
      },
      "source": [
        "numberOfSentencesInBatch=30\n",
        "\n",
        "decay = 0.1\n",
        "optWithWeightDecay=Optimiser(opt,\n",
        "\t\t\tTrain.SelectiveWeightDecay(WeightDecay(decay), Model.noDecayList(model))) |> gpu\n",
        "\n",
        "\n",
        "ps = params(model)\n",
        "\n",
        "\n",
        "  d=trainingData(lengthOfSentences, numberOfSentencesInBatch) \n",
        "  Train.train!(loss,\n",
        "            ps,\n",
        "            d,\n",
        "            optWithWeightDecay,\n",
        "            sampleFromModel, repeat=3 )\n",
        "\n",
        "\n"
      ],
      "execution_count": 22,
      "outputs": [
        {
          "output_type": "error",
          "ename": "LoadError",
          "evalue": "ignored",
          "traceback": [
            "CUDA error: uncorrectable ECC error encountered (code 214, ERROR_ECC_UNCORRECTABLE)",
            "",
            "Stacktrace:",
            " [1] throw_api_error(::CUDA.cudaError_enum) at /root/.julia/packages/CUDA/dZvbp/lib/cudadrv/error.jl:103",
            " [2] macro expansion at /root/.julia/packages/CUDA/dZvbp/lib/cudadrv/error.jl:110 [inlined]",
            " [3] cuMemAlloc_v2(::Base.RefValue{CuPtr{Nothing}}, ::Int64) at /root/.julia/packages/CUDA/dZvbp/lib/utils/call.jl:93",
            " [4] alloc at /root/.julia/packages/CUDA/dZvbp/lib/cudadrv/memory.jl:69 [inlined]",
            " [5] macro expansion at /root/.julia/packages/CUDA/dZvbp/src/pool.jl:181 [inlined]",
            " [6] macro expansion at /root/.julia/packages/TimerOutputs/ZmKD7/src/TimerOutput.jl:206 [inlined]",
            " [7] macro expansion at /root/.julia/packages/CUDA/dZvbp/src/pool.jl:180 [inlined]",
            " [8] macro expansion at ./timing.jl:233 [inlined]",
            " [9] macro expansion at /root/.julia/packages/CUDA/dZvbp/src/pool.jl:179 [inlined]",
            " [10] macro expansion at /root/.julia/packages/CUDA/dZvbp/src/state.jl:206 [inlined]",
            " [11] actual_alloc(::CuDevice, ::Int64) at /root/.julia/packages/CUDA/dZvbp/src/pool.jl:171",
            " [12] macro expansion at /root/.julia/packages/CUDA/dZvbp/src/pool/binned.jl:143 [inlined]",
            " [13] macro expansion at /root/.julia/packages/TimerOutputs/ZmKD7/src/TimerOutput.jl:206 [inlined]",
            " [14] pool_alloc(::CuDevice, ::Int64) at /root/.julia/packages/CUDA/dZvbp/src/pool/binned.jl:142",
            " [15] macro expansion at /root/.julia/packages/TimerOutputs/ZmKD7/src/TimerOutput.jl:206 [inlined]",
            " [16] macro expansion at /root/.julia/packages/CUDA/dZvbp/src/pool.jl:296 [inlined]",
            " [17] macro expansion at ./timing.jl:233 [inlined]",
            " [18] alloc at /root/.julia/packages/CUDA/dZvbp/src/pool.jl:295 [inlined]",
            " [19] CuArray{Int64,2}(::UndefInitializer, ::Tuple{Int64,Int64}) at /root/.julia/packages/CUDA/dZvbp/src/array.jl:116",
            " [20] CuArray at /root/.julia/packages/CUDA/dZvbp/src/array.jl:124 [inlined]",
            " [21] similar(::Type{CuArray{Int64,N} where N}, ::Tuple{Int64,Int64}) at ./abstractarray.jl:675",
            " [22] convert(::Type{CuArray}, ::Array{Int64,2}) at /root/.julia/packages/GPUArrays/uaFZh/src/host/construction.jl:86",
            " [23] adapt_storage at /root/.julia/packages/CUDA/dZvbp/src/array.jl:341 [inlined]",
            " [24] adapt_structure at /root/.julia/packages/Adapt/8kQMV/src/Adapt.jl:42 [inlined]",
            " [25] adapt at /root/.julia/packages/Adapt/8kQMV/src/Adapt.jl:40 [inlined]",
            " [26] cu at /root/.julia/packages/CUDA/dZvbp/src/array.jl:347 [inlined]",
            " [27] #fmap#13 at /root/.julia/packages/Functors/YlETM/src/functor.jl:35 [inlined]",
            " [28] #14 at /root/.julia/packages/Functors/YlETM/src/functor.jl:35 [inlined]",
            " [29] map at ./tuple.jl:158 [inlined]",
            " [30] fmap1 at /root/.julia/packages/Functors/YlETM/src/functor.jl:30 [inlined]",
            " [31] fmap(::typeof(cu), ::Tuple{Array{Int64,2},Transformers.Basic.OneHotArray{0x00000042,1,2,Array{Transformers.Basic.OneHot{0x00000042},1}}}; cache::IdDict{Any,Any}) at /root/.julia/packages/Functors/YlETM/src/functor.jl:35",
            " [32] fmap at /root/.julia/packages/Functors/YlETM/src/functor.jl:34 [inlined]",
            " [33] gpu at /root/.julia/packages/Flux/05b38/src/functor.jl:74 [inlined]",
            " [34] |> at ./operators.jl:834 [inlined]",
            " [35] macro expansion at /content/gdrive/MyDrive/minGPT/onJulia/src/train.jl:83 [inlined]",
            " [36] macro expansion at /root/.julia/packages/Juno/n6wyj/src/progress.jl:134 [inlined]",
            " [37] train!(::Function, ::Zygote.Params, ::Array{Tuple{Array{Int64,2},Transformers.Basic.OneHotArray{0x00000042,1,2,Array{Transformers.Basic.OneHot{0x00000042},1}}},1}, ::Optimiser, ::typeof(sampleFromModel), ::TensorBoardLogger.TBLogger; rateDecay::Main.Train.var\"#cosRateFun#3\"{Float64,Int64,Int64}, repeat::Int64) at /content/gdrive/MyDrive/minGPT/onJulia/src/train.jl:79",
            " [38] top-level scope at In[22]:12",
            " [39] include_string(::Function, ::Module, ::String, ::String) at ./loading.jl:1091"
          ]
        }
      ]
    },
    {
      "cell_type": "code",
      "metadata": {
        "id": "vTEeN3wcX_j1",
        "colab": {
          "base_uri": "https://localhost:8080/"
        },
        "outputId": "53370f41-4c2c-4166-bcab-72b6198b8a22"
      },
      "source": [
        "model.pw.models[1].b\n"
      ],
      "execution_count": null,
      "outputs": [
        {
          "output_type": "execute_result",
          "data": {
            "text/plain": [
              "66-element CuArray{Float32,1}:\n",
              " -1.5513743\n",
              " -0.0863119\n",
              "  0.16213056\n",
              " -0.2024484\n",
              " -0.92951417\n",
              " -0.5469302\n",
              " -0.034112763\n",
              " -0.0040509147\n",
              " -0.23159942\n",
              " -0.12889002\n",
              " -0.22430605\n",
              " -0.06451803\n",
              " -0.19396299\n",
              "  ⋮\n",
              "  0.023614747\n",
              " -0.052799366\n",
              " -0.19879629\n",
              "  0.019089265\n",
              "  0.16964178\n",
              "  0.10373718\n",
              " -0.07236537\n",
              " -0.13919203\n",
              " -0.004549714\n",
              " -0.25447264\n",
              " -0.05559869\n",
              " -0.25983748"
            ]
          },
          "metadata": {
            "tags": []
          },
          "execution_count": 39
        }
      ]
    },
    {
      "cell_type": "code",
      "metadata": {
        "colab": {
          "base_uri": "https://localhost:8080/"
        },
        "id": "FvsKpKj-VFZ_",
        "outputId": "b0802738-1196-4ffc-fe99-c79aa3aaf4dc"
      },
      "source": [
        "Pkg.add(\"BSON\")\n",
        "using BSON"
      ],
      "execution_count": null,
      "outputs": [
        {
          "output_type": "stream",
          "text": [
            "\u001b[32m\u001b[1m  Resolving\u001b[22m\u001b[39m package versions...\n",
            "\u001b[32m\u001b[1mNo Changes\u001b[22m\u001b[39m to `~/.julia/environments/v1.5/Project.toml`\n",
            "\u001b[32m\u001b[1mNo Changes\u001b[22m\u001b[39m to `~/.julia/environments/v1.5/Manifest.toml`\n"
          ],
          "name": "stderr"
        }
      ]
    },
    {
      "cell_type": "code",
      "metadata": {
        "id": "nx4uaAFKYBzm"
      },
      "source": [
        "using BSON: \n",
        "@save \"inputtext_model.bson\"  model"
      ],
      "execution_count": null,
      "outputs": []
    },
    {
      "cell_type": "code",
      "metadata": {
        "id": "WdjlekSwYiRc"
      },
      "source": [
        "using Zygote\n",
        "using Flux\n",
        "using Transformers\n",
        "using CUDA\n",
        "using BSON:  @save, @load\n",
        "@load \"inputtext_model.bson\"  model\n"
      ],
      "execution_count": null,
      "outputs": []
    },
    {
      "cell_type": "code",
      "metadata": {
        "colab": {
          "base_uri": "https://localhost:8080/",
          "height": 793
        },
        "id": "KmSOVVNTN4tQ",
        "outputId": "d905b824-02ed-45ca-d3ea-909a2228fff2"
      },
      "source": [
        "sampleFromModel(\"Where is King Richard Duke of York, and \", 0.001)\n"
      ],
      "execution_count": null,
      "outputs": [
        {
          "output_type": "error",
          "ename": "LoadError",
          "evalue": "ignored",
          "traceback": [
            "CUDA error: out of memory (code 2, ERROR_OUT_OF_MEMORY)",
            "",
            "Stacktrace:",
            " [1] throw_api_error(::CUDA.cudaError_enum) at /root/.julia/packages/CUDA/dZvbp/lib/cudadrv/error.jl:103",
            " [2] CuModule(::String, ::Dict{CUDA.CUjit_option_enum,Any}) at /root/.julia/packages/CUDA/dZvbp/lib/cudadrv/module.jl:42",
            " [3] _cufunction(::GPUCompiler.FunctionSpec{Transformers.var\"#kernel1!#29\"{Float32,Tuple{Base.OneTo{Int64}},Tuple{Bool},Tuple{Int64},Int64},Tuple{CuDeviceArray{Float32,2,CUDA.AS.Global},CuDeviceArray{Float32,2,CUDA.AS.Global},CuDeviceArray{Float32,2,CUDA.AS.Global},Int64}}; kwargs::Base.Iterators.Pairs{Union{},Union{},Tuple{},NamedTuple{(),Tuple{}}}) at /root/.julia/packages/CUDA/dZvbp/src/compiler/execution.jl:337",
            " [4] _cufunction at /root/.julia/packages/CUDA/dZvbp/src/compiler/execution.jl:304 [inlined]",
            " [5] check_cache(::typeof(CUDA._cufunction), ::GPUCompiler.FunctionSpec{Transformers.var\"#kernel1!#29\"{Float32,Tuple{Base.OneTo{Int64}},Tuple{Bool},Tuple{Int64},Int64},Tuple{CuDeviceArray{Float32,2,CUDA.AS.Global},CuDeviceArray{Float32,2,CUDA.AS.Global},CuDeviceArray{Float32,2,CUDA.AS.Global},Int64}}, ::UInt64; kwargs::Base.Iterators.Pairs{Union{},Union{},Tuple{},NamedTuple{(),Tuple{}}}) at /root/.julia/packages/GPUCompiler/GKp4B/src/cache.jl:24",
            " [6] kernel1! at /root/.julia/packages/Transformers/ko7g9/src/cuda/statistic.jl:13 [inlined]",
            " [7] cached_compilation(::typeof(CUDA._cufunction), ::GPUCompiler.FunctionSpec{Transformers.var\"#kernel1!#29\"{Float32,Tuple{Base.OneTo{Int64}},Tuple{Bool},Tuple{Int64},Int64},Tuple{CuDeviceArray{Float32,2,CUDA.AS.Global},CuDeviceArray{Float32,2,CUDA.AS.Global},CuDeviceArray{Float32,2,CUDA.AS.Global},Int64}}, ::UInt64; kwargs::Base.Iterators.Pairs{Union{},Union{},Tuple{},NamedTuple{(),Tuple{}}}) at /root/.julia/packages/GPUCompiler/GKp4B/src/cache.jl:0",
            " [8] cached_compilation at /root/.julia/packages/GPUCompiler/GKp4B/src/cache.jl:40 [inlined]",
            " [9] cufunction(::Transformers.var\"#kernel1!#29\"{Float32,Tuple{Base.OneTo{Int64}},Tuple{Bool},Tuple{Int64},Int64}, ::Type{Tuple{CuDeviceArray{Float32,2,CUDA.AS.Global},CuDeviceArray{Float32,2,CUDA.AS.Global},CuDeviceArray{Float32,2,CUDA.AS.Global},Int64}}; name::Nothing, kwargs::Base.Iterators.Pairs{Union{},Union{},Tuple{},NamedTuple{(),Tuple{}}}) at /root/.julia/packages/CUDA/dZvbp/src/compiler/execution.jl:298",
            " [10] cufunction at /root/.julia/packages/CUDA/dZvbp/src/compiler/execution.jl:293 [inlined]",
            " [11] macro expansion at /root/.julia/packages/CUDA/dZvbp/src/compiler/execution.jl:109 [inlined]",
            " [12] centralize_sumabs2!(::CuArray{Float32,2}, ::CuArray{Float32,2}, ::CuArray{Float32,2}) at /root/.julia/packages/Transformers/ko7g9/src/cuda/statistic.jl:62",
            " [13] varm!(::CuArray{Float32,2}, ::CuArray{Float32,2}, ::CuArray{Float32,2}; corrected::Bool) at /buildworker/worker/package_linux64/build/usr/share/julia/stdlib/v1.5/Statistics/src/Statistics.jl:297",
            " [14] _varm at /buildworker/worker/package_linux64/build/usr/share/julia/stdlib/v1.5/Statistics/src/Statistics.jl:328 [inlined]",
            " [15] #varm#11 at /buildworker/worker/package_linux64/build/usr/share/julia/stdlib/v1.5/Statistics/src/Statistics.jl:326 [inlined]",
            " [16] #var#27 at /root/.julia/packages/Transformers/ko7g9/src/cuda/statistic.jl:4 [inlined]",
            " [17] std(::CuArray{Float32,2}; corrected::Bool, dims::Int64, mean::CuArray{Float32,2}) at /root/.julia/packages/Transformers/ko7g9/src/cuda/statistic.jl:5",
            " [18] normalise(::CuArray{Float32,2}; dims::Int64, ϵ::Float32) at /root/.julia/packages/Flux/05b38/src/layers/stateless.jl:23",
            " [19] LayerNorm at /root/.julia/packages/Flux/05b38/src/layers/normalise.jl:137 [inlined]",
            " [20] (::Main.Model.minGPT{Transformers.Basic.Embed{Float32,CuArray{Float32,2}},Main.Model.GPTPositionEmbedding{Float32,CuArray{Float32,2}},Chain{NTuple{4,Transformers.Basic.Transformer{Transformers.Basic.MultiheadAttention{Dense{typeof(identity),CuArray{Float32,2},CuArray{Float32,1}},Dense{typeof(identity),CuArray{Float32,2},CuArray{Float32,1}},Dense{typeof(identity),CuArray{Float32,2},CuArray{Float32,1}},Dense{typeof(identity),CuArray{Float32,2},CuArray{Float32,1}},Dropout{Float64,Colon}},LayerNorm{CuArray{Float32,1}},Transformers.Basic.PwFFN{Dense{typeof(gelu),CuArray{Float32,2},CuArray{Float32,1}},Dense{typeof(identity),CuArray{Float32,2},CuArray{Float32,1}}},LayerNorm{CuArray{Float32,1}},Dropout{Float64,Colon}}}},Dropout{Float64,Colon},LayerNorm{CuArray{Float32,1}},Transformers.Basic.Positionwise{Tuple{Dense{typeof(identity),CuArray{Float32,2},CuArray{Float32,1}}}}})(::Array{Int64,1}) at /content/gdrive/MyDrive/minGPT/onJulia/src/model.jl:80",
            " [21] (::var\"#explore#10\")(::Tuple{Float32,String}, ::Float64) at ./In[14]:4",
            " [22] sampleFromModel(::String, ::Float64) at ./In[14]:13",
            " [23] top-level scope at In[19]:1",
            " [24] include_string(::Function, ::Module, ::String, ::String) at ./loading.jl:1091"
          ]
        }
      ]
    },
    {
      "cell_type": "code",
      "metadata": {
        "id": "85X2L1FZXkcy"
      },
      "source": [
        ""
      ],
      "execution_count": null,
      "outputs": []
    },
    {
      "cell_type": "code",
      "metadata": {
        "colab": {
          "base_uri": "https://localhost:8080/"
        },
        "id": "kGDkDW_GSSG3",
        "outputId": "576564ca-cc66-4f38-820b-f29286d9a48e"
      },
      "source": [
        "Pkg.add(\"StatsBase\")\n",
        "Pkg.add(\"Plots\")"
      ],
      "execution_count": null,
      "outputs": [
        {
          "output_type": "stream",
          "text": [
            "\u001b[32m\u001b[1m  Resolving\u001b[22m\u001b[39m package versions...\n",
            "\u001b[32m\u001b[1mNo Changes\u001b[22m\u001b[39m to `~/.julia/environments/v1.5/Project.toml`\n",
            "\u001b[32m\u001b[1mNo Changes\u001b[22m\u001b[39m to `~/.julia/environments/v1.5/Manifest.toml`\n",
            "\u001b[32m\u001b[1m  Resolving\u001b[22m\u001b[39m package versions...\n",
            "\u001b[32m\u001b[1m  Installed\u001b[22m\u001b[39m Ogg_jll ───────── v1.3.4+2\n",
            "\u001b[32m\u001b[1m  Installed\u001b[22m\u001b[39m LAME_jll ──────── v3.100.0+3\n",
            "\u001b[32m\u001b[1m  Installed\u001b[22m\u001b[39m x265_jll ──────── v3.0.0+3\n",
            "\u001b[32m\u001b[1m  Installed\u001b[22m\u001b[39m PlotThemes ────── v1.0.3\n",
            "\u001b[32m\u001b[1m  Installed\u001b[22m\u001b[39m RecipesPipeline ─ v0.1.13\n",
            "\u001b[32m\u001b[1m  Installed\u001b[22m\u001b[39m Plots ─────────── v1.0.14\n",
            "\u001b[32m\u001b[1m  Installed\u001b[22m\u001b[39m Contour ───────── v0.5.7\n",
            "\u001b[32m\u001b[1m  Installed\u001b[22m\u001b[39m GeometryTypes ─── v0.8.4\n",
            "\u001b[32m\u001b[1m  Installed\u001b[22m\u001b[39m Showoff ───────── v0.3.2\n",
            "\u001b[32m\u001b[1m  Installed\u001b[22m\u001b[39m Grisu ─────────── v1.0.0\n",
            "\u001b[32m\u001b[1m  Installed\u001b[22m\u001b[39m FreeType2_jll ─── v2.10.1+5\n",
            "\u001b[32m\u001b[1m  Installed\u001b[22m\u001b[39m Opus_jll ──────── v1.3.1+3\n",
            "\u001b[32m\u001b[1m  Installed\u001b[22m\u001b[39m FFMPEG_jll ────── v4.3.1+4\n",
            "\u001b[32m\u001b[1m  Installed\u001b[22m\u001b[39m LibVPX_jll ────── v1.9.0+1\n",
            "\u001b[32m\u001b[1m  Installed\u001b[22m\u001b[39m libfdk_aac_jll ── v0.1.6+4\n",
            "\u001b[32m\u001b[1m  Installed\u001b[22m\u001b[39m PlotUtils ─────── v0.6.5\n",
            "\u001b[32m\u001b[1m  Installed\u001b[22m\u001b[39m libvorbis_jll ─── v1.3.6+6\n",
            "\u001b[32m\u001b[1m  Installed\u001b[22m\u001b[39m FFMPEG ────────── v0.3.0\n",
            "\u001b[32m\u001b[1m  Installed\u001b[22m\u001b[39m Bzip2_jll ─────── v1.0.6+5\n",
            "\u001b[32m\u001b[1m  Installed\u001b[22m\u001b[39m Measures ──────── v0.3.1\n",
            "\u001b[32m\u001b[1m  Installed\u001b[22m\u001b[39m FriBidi_jll ───── v1.0.5+6\n",
            "\u001b[32m\u001b[1m  Installed\u001b[22m\u001b[39m libass_jll ────── v0.14.0+4\n",
            "\u001b[32m\u001b[1m  Installed\u001b[22m\u001b[39m x264_jll ──────── v2020.7.14+2\n",
            "\u001b[32m\u001b[1m  Installed\u001b[22m\u001b[39m RecipesBase ───── v1.1.1\n",
            "\u001b[32m\u001b[1m  Installed\u001b[22m\u001b[39m GR ────────────── v0.48.0\n",
            "######################################################################### 100.0%\n",
            "######################################################################### 100.0%\n",
            "######################################################################### 100.0%\n",
            "######################################################################### 100.0%\n",
            "######################################################################### 100.0%\n",
            "######################################################################### 100.0%\n",
            "######################################################################### 100.0%\n",
            "######################################################################### 100.0%\n",
            "######################################################################### 100.0%\n",
            "######################################################################### 100.0%\n",
            "######################################################################### 100.0%\n",
            "######################################################################### 100.0%\n",
            "######################################################################### 100.0%\n",
            "\u001b[32m\u001b[1mUpdating\u001b[22m\u001b[39m `~/.julia/environments/v1.5/Project.toml`\n",
            " \u001b[90m [91a5bcdd] \u001b[39m\u001b[92m+ Plots v1.0.14\u001b[39m\n",
            "\u001b[32m\u001b[1mUpdating\u001b[22m\u001b[39m `~/.julia/environments/v1.5/Manifest.toml`\n",
            " \u001b[90m [6e34b625] \u001b[39m\u001b[92m+ Bzip2_jll v1.0.6+5\u001b[39m\n",
            " \u001b[90m [d38c429a] \u001b[39m\u001b[92m+ Contour v0.5.7\u001b[39m\n",
            " \u001b[90m [c87230d0] \u001b[39m\u001b[92m+ FFMPEG v0.3.0\u001b[39m\n",
            " \u001b[90m [b22a6f82] \u001b[39m\u001b[92m+ FFMPEG_jll v4.3.1+4\u001b[39m\n",
            " \u001b[90m [d7e528f0] \u001b[39m\u001b[92m+ FreeType2_jll v2.10.1+5\u001b[39m\n",
            " \u001b[90m [559328eb] \u001b[39m\u001b[92m+ FriBidi_jll v1.0.5+6\u001b[39m\n",
            " \u001b[90m [28b8d3ca] \u001b[39m\u001b[92m+ GR v0.48.0\u001b[39m\n",
            " \u001b[90m [4d00f742] \u001b[39m\u001b[92m+ GeometryTypes v0.8.4\u001b[39m\n",
            " \u001b[90m [42e2da0e] \u001b[39m\u001b[92m+ Grisu v1.0.0\u001b[39m\n",
            " \u001b[90m [c1c5ebd0] \u001b[39m\u001b[92m+ LAME_jll v3.100.0+3\u001b[39m\n",
            " \u001b[90m [dd192d2f] \u001b[39m\u001b[92m+ LibVPX_jll v1.9.0+1\u001b[39m\n",
            " \u001b[90m [442fdcdd] \u001b[39m\u001b[92m+ Measures v0.3.1\u001b[39m\n",
            " \u001b[90m [e7412a2a] \u001b[39m\u001b[92m+ Ogg_jll v1.3.4+2\u001b[39m\n",
            " \u001b[90m [91d4177d] \u001b[39m\u001b[92m+ Opus_jll v1.3.1+3\u001b[39m\n",
            " \u001b[90m [ccf2f8ad] \u001b[39m\u001b[92m+ PlotThemes v1.0.3\u001b[39m\n",
            " \u001b[90m [995b91a9] \u001b[39m\u001b[92m+ PlotUtils v0.6.5\u001b[39m\n",
            " \u001b[90m [91a5bcdd] \u001b[39m\u001b[92m+ Plots v1.0.14\u001b[39m\n",
            " \u001b[90m [3cdcf5f2] \u001b[39m\u001b[92m+ RecipesBase v1.1.1\u001b[39m\n",
            " \u001b[90m [01d81517] \u001b[39m\u001b[92m+ RecipesPipeline v0.1.13\u001b[39m\n",
            " \u001b[90m [992d4aef] \u001b[39m\u001b[92m+ Showoff v0.3.2\u001b[39m\n",
            " \u001b[90m [0ac62f75] \u001b[39m\u001b[92m+ libass_jll v0.14.0+4\u001b[39m\n",
            " \u001b[90m [f638f0a6] \u001b[39m\u001b[92m+ libfdk_aac_jll v0.1.6+4\u001b[39m\n",
            " \u001b[90m [f27f6e37] \u001b[39m\u001b[92m+ libvorbis_jll v1.3.6+6\u001b[39m\n",
            " \u001b[90m [1270edf5] \u001b[39m\u001b[92m+ x264_jll v2020.7.14+2\u001b[39m\n",
            " \u001b[90m [dfaa095f] \u001b[39m\u001b[92m+ x265_jll v3.0.0+3\u001b[39m\n",
            "\u001b[32m\u001b[1m   Building\u001b[22m\u001b[39m GR ───→ `~/.julia/packages/GR/yMV3y/deps/build.log`\n",
            "\u001b[32m\u001b[1m   Building\u001b[22m\u001b[39m Plots → `~/.julia/packages/Plots/8GUYs/deps/build.log`\n"
          ],
          "name": "stderr"
        }
      ]
    },
    {
      "cell_type": "code",
      "metadata": {
        "colab": {
          "base_uri": "https://localhost:8080/",
          "height": 810
        },
        "id": "xPZB-0HPQZ_V",
        "outputId": "aaab2f59-db5e-4152-ed04-dc6f6389e6dd"
      },
      "source": [
        "using StatsBase\n",
        "using Plots\n",
        "function getOutputResults(m, data, limit=5)\n",
        "\toutput=[]\n",
        "\tctr=0\n",
        "\tfor (x,y) in data\n",
        "\t\tout=softmax(m(x))\n",
        "\t\tout=reshape(out,size(out)[1], :)\n",
        "\t\tpush!(output, onecold(out)...)  ## get the encoded vocab using straight onecold, not onecold(vocab, ..) version\n",
        "\n",
        "\t\tctr +=1\n",
        "\t\tif  ctr > limit break end\n",
        "\tend\n",
        "\tconvert(Array{Int}, output)\n",
        "end\n",
        "\n",
        "d=trainingData(lengthOfSentences, numberOfSentencesInBatch)\n",
        "function OutputHistogram(m)\n",
        "\toutChars=getOutputResults(m, d)\n",
        "\tfit(Histogram, outChars, 0:1:length(vocab))\n",
        "end\n",
        "\n",
        "#Try a untrained model\n",
        "raw=OutputHistogram(Model.minGPT(maxBlockSize=lengthOfSentences, vocabSize=length(vocab)))\n",
        "\n",
        "#..a. and trained model\n",
        "trained=OutputHistogram(model)\n",
        "\n",
        "plot(raw)\n",
        "plot!(trained)"
      ],
      "execution_count": null,
      "outputs": [
        {
          "output_type": "error",
          "ename": "LoadError",
          "evalue": "ignored",
          "traceback": [
            "CUDA error: out of memory (code 2, ERROR_OUT_OF_MEMORY)",
            "",
            "Stacktrace:",
            " [1] throw_api_error(::CUDA.cudaError_enum) at /root/.julia/packages/CUDA/dZvbp/lib/cudadrv/error.jl:103",
            " [2] CuModule(::String, ::Dict{CUDA.CUjit_option_enum,Any}) at /root/.julia/packages/CUDA/dZvbp/lib/cudadrv/module.jl:42",
            " [3] _cufunction(::GPUCompiler.FunctionSpec{CUDA.var\"#kernel#873\"{CUDA.var\"#879#880\"{Float32}},Tuple{CuDeviceArray{Int64,1,CUDA.AS.Global},CuDeviceArray{Float32,1,CUDA.AS.Global}}}; kwargs::Base.Iterators.Pairs{Union{},Union{},Tuple{},NamedTuple{(),Tuple{}}}) at /root/.julia/packages/CUDA/dZvbp/src/compiler/execution.jl:337",
            " [4] _cufunction at /root/.julia/packages/CUDA/dZvbp/src/compiler/execution.jl:304 [inlined]",
            " [5] check_cache(::typeof(CUDA._cufunction), ::GPUCompiler.FunctionSpec{CUDA.var\"#kernel#873\"{CUDA.var\"#879#880\"{Float32}},Tuple{CuDeviceArray{Int64,1,CUDA.AS.Global},CuDeviceArray{Float32,1,CUDA.AS.Global}}}, ::UInt64; kwargs::Base.Iterators.Pairs{Union{},Union{},Tuple{},NamedTuple{(),Tuple{}}}) at /root/.julia/packages/GPUCompiler/GKp4B/src/cache.jl:24",
            " [6] kernel at /root/.julia/packages/CUDA/dZvbp/src/indexing.jl:102 [inlined]",
            " [7] cached_compilation(::typeof(CUDA._cufunction), ::GPUCompiler.FunctionSpec{CUDA.var\"#kernel#873\"{CUDA.var\"#879#880\"{Float32}},Tuple{CuDeviceArray{Int64,1,CUDA.AS.Global},CuDeviceArray{Float32,1,CUDA.AS.Global}}}, ::UInt64; kwargs::Base.Iterators.Pairs{Union{},Union{},Tuple{},NamedTuple{(),Tuple{}}}) at /root/.julia/packages/GPUCompiler/GKp4B/src/cache.jl:0",
            " [8] cached_compilation at /root/.julia/packages/GPUCompiler/GKp4B/src/cache.jl:40 [inlined]",
            " [9] cufunction(::CUDA.var\"#kernel#873\"{CUDA.var\"#879#880\"{Float32}}, ::Type{Tuple{CuDeviceArray{Int64,1,CUDA.AS.Global},CuDeviceArray{Float32,1,CUDA.AS.Global}}}; name::String, kwargs::Base.Iterators.Pairs{Union{},Union{},Tuple{},NamedTuple{(),Tuple{}}}) at /root/.julia/packages/CUDA/dZvbp/src/compiler/execution.jl:298",
            " [10] macro expansion at /root/.julia/packages/CUDA/dZvbp/src/compiler/execution.jl:109 [inlined]",
            " [11] findfirst(::CUDA.var\"#879#880\"{Float32}, ::CuArray{Float32,1}) at /root/.julia/packages/CUDA/dZvbp/src/indexing.jl:120",
            " [12] #findmax#878 at /root/.julia/packages/CUDA/dZvbp/src/indexing.jl:143 [inlined]",
            " [13] #argmax#656 at ./reducedim.jl:949 [inlined]",
            " [14] argmax at ./reducedim.jl:949 [inlined]",
            " [15] onecold(::CuArray{Float32,1}, ::UnitRange{Int64}) at /root/.julia/packages/Flux/05b38/src/onehot.jl:123 (repeats 2 times)",
            " [16] #57 at /root/.julia/packages/Flux/05b38/src/onehot.jl:126 [inlined]",
            " [17] inner_mapslices!(::Bool, ::Base.Iterators.Drop{CartesianIndices{1,Tuple{Base.OneTo{Int64}}}}, ::Int64, ::Array{Any,1}, ::Array{Int64,1}, ::Array{Any,1}, ::CuArray{Float32,1}, ::CuArray{Float32,2}, ::Flux.var\"#57#58\"{Tuple{}}, ::CuArray{Int64,2}) at ./abstractarray.jl:2129",
            " [18] mapslices(::Flux.var\"#57#58\"{Tuple{}}, ::CuArray{Float32,2}; dims::Int64) at ./abstractarray.jl:2119",
            " [19] onecold(::CuArray{Float32,2}) at /root/.julia/packages/Flux/05b38/src/onehot.jl:125",
            " [20] getOutputResults(::Main.Model.minGPT{Transformers.Basic.Embed{Float32,CuArray{Float32,2}},Main.Model.GPTPositionEmbedding{Float32,CuArray{Float32,2}},Chain{Tuple{Transformer{Transformers.Basic.MultiheadAttention{Dense{typeof(identity),CuArray{Float32,2},CuArray{Float32,1}},Dense{typeof(identity),CuArray{Float32,2},CuArray{Float32,1}},Dense{typeof(identity),CuArray{Float32,2},CuArray{Float32,1}},Dense{typeof(identity),CuArray{Float32,2},CuArray{Float32,1}},Dropout{Float64,Colon}},LayerNorm{CuArray{Float32,1}},Transformers.Basic.PwFFN{Dense{typeof(gelu),CuArray{Float32,2},CuArray{Float32,1}},Dense{typeof(identity),CuArray{Float32,2},CuArray{Float32,1}}},LayerNorm{CuArray{Float32,1}},Dropout{Float64,Colon}},Transformer{Transformers.Basic.MultiheadAttention{Dense{typeof(identity),CuArray{Float32,2},CuArray{Float32,1}},Dense{typeof(identity),CuArray{Float32,2},CuArray{Float32,1}},Dense{typeof(identity),CuArray{Float32,2},CuArray{Float32,1}},Dense{typeof(identity),CuArray{Float32,2},CuArray{Float32,1}},Dropout{Float64,Colon}},LayerNorm{CuArray{Float32,1}},Transformers.Basic.PwFFN{Dense{typeof(gelu),CuArray{Float32,2},CuArray{Float32,1}},Dense{typeof(identity),CuArray{Float32,2},CuArray{Float32,1}}},LayerNorm{CuArray{Float32,1}},Dropout{Float64,Colon}}}},Dropout{Float64,Colon},LayerNorm{CuArray{Float32,1}},Transformers.Basic.Positionwise{Tuple{Dense{typeof(identity),CuArray{Float32,2},CuArray{Float32,1}}}}}, ::Array{Tuple{Array{Int64,2},Transformers.Basic.OneHotArray{0x0000...",
            " [21] getOutputResults(::Main.Model.minGPT{Transformers.Basic.Embed{Float32,CuArray{Float32,2}},Main.Model.GPTPositionEmbedding{Float32,CuArray{Float32,2}},Chain{Tuple{Transformer{Transformers.Basic.MultiheadAttention{Dense{typeof(identity),CuArray{Float32,2},CuArray{Float32,1}},Dense{typeof(identity),CuArray{Float32,2},CuArray{Float32,1}},Dense{typeof(identity),CuArray{Float32,2},CuArray{Float32,1}},Dense{typeof(identity),CuArray{Float32,2},CuArray{Float32,1}},Dropout{Float64,Colon}},LayerNorm{CuArray{Float32,1}},Transformers.Basic.PwFFN{Dense{typeof(gelu),CuArray{Float32,2},CuArray{Float32,1}},Dense{typeof(identity),CuArray{Float32,2},CuArray{Float32,1}}},LayerNorm{CuArray{Float32,1}},Dropout{Float64,Colon}},Transformer{Transformers.Basic.MultiheadAttention{Dense{typeof(identity),CuArray{Float32,2},CuArray{Float32,1}},Dense{typeof(identity),CuArray{Float32,2},CuArray{Float32,1}},Dense{typeof(identity),CuArray{Float32,2},CuArray{Float32,1}},Dense{typeof(identity),CuArray{Float32,2},CuArray{Float32,1}},Dropout{Float64,Colon}},LayerNorm{CuArray{Float32,1}},Transformers.Basic.PwFFN{Dense{typeof(gelu),CuArray{Float32,2},CuArray{Float32,1}},Dense{typeof(identity),CuArray{Float32,2},CuArray{Float32,1}}},LayerNorm{CuArray{Float32,1}},Dropout{Float64,Colon}}}},Dropout{Float64,Colon},LayerNorm{CuArray{Float32,1}},Transformers.Basic.Positionwise{Tuple{Dense{typeof(identity),CuArray{Float32,2},CuArray{Float32,1}}}}}, ::Array{Tuple{Array{Int64,2},Transformers.Basic.OneHotArray{0x0000...",
            " [22] OutputHistogram(::Main.Model.minGPT{Transformers.Basic.Embed{Float32,CuArray{Float32,2}},Main.Model.GPTPositionEmbedding{Float32,CuArray{Float32,2}},Chain{Tuple{Transformer{Transformers.Basic.MultiheadAttention{Dense{typeof(identity),CuArray{Float32,2},CuArray{Float32,1}},Dense{typeof(identity),CuArray{Float32,2},CuArray{Float32,1}},Dense{typeof(identity),CuArray{Float32,2},CuArray{Float32,1}},Dense{typeof(identity),CuArray{Float32,2},CuArray{Float32,1}},Dropout{Float64,Colon}},LayerNorm{CuArray{Float32,1}},Transformers.Basic.PwFFN{Dense{typeof(gelu),CuArray{Float32,2},CuArray{Float32,1}},Dense{typeof(identity),CuArray{Float32,2},CuArray{Float32,1}}},LayerNorm{CuArray{Float32,1}},Dropout{Float64,Colon}},Transformer{Transformers.Basic.MultiheadAttention{Dense{typeof(identity),CuArray{Float32,2},CuArray{Float32,1}},Dense{typeof(identity),CuArray{Float32,2},CuArray{Float32,1}},Dense{typeof(identity),CuArray{Float32,2},CuArray{Float32,1}},Dense{typeof(identity),CuArray{Float32,2},CuArray{Float32,1}},Dropout{Float64,Colon}},LayerNorm{CuArray{Float32,1}},Transformers.Basic.PwFFN{Dense{typeof(gelu),CuArray{Float32,2},CuArray{Float32,1}},Dense{typeof(identity),CuArray{Float32,2},CuArray{Float32,1}}},LayerNorm{CuArray{Float32,1}},Dropout{Float64,Colon}}}},Dropout{Float64,Colon},LayerNorm{CuArray{Float32,1}},Transformers.Basic.Positionwise{Tuple{Dense{typeof(identity),CuArray{Float32,2},CuArray{Float32,1}}}}}) at ./In[47]:19",
            " [23] top-level scope at In[47]:27",
            " [24] include_string(::Function, ::Module, ::String, ::String) at ./loading.jl:1091"
          ]
        }
      ]
    },
    {
      "cell_type": "code",
      "metadata": {
        "colab": {
          "base_uri": "https://localhost:8080/"
        },
        "id": "ngRwL6dBct1q",
        "outputId": "f25393ae-cb29-4760-da05-5ac5faa98111"
      },
      "source": [
        "data = s \n",
        "collect(data)[1:10]"
      ],
      "execution_count": null,
      "outputs": [
        {
          "output_type": "execute_result",
          "data": {
            "text/plain": [
              "10-element Array{Char,1}:\n",
              " 'F': ASCII/Unicode U+0046 (category Lu: Letter, uppercase)\n",
              " 'i': ASCII/Unicode U+0069 (category Ll: Letter, lowercase)\n",
              " 'r': ASCII/Unicode U+0072 (category Ll: Letter, lowercase)\n",
              " 's': ASCII/Unicode U+0073 (category Ll: Letter, lowercase)\n",
              " 't': ASCII/Unicode U+0074 (category Ll: Letter, lowercase)\n",
              " ' ': ASCII/Unicode U+0020 (category Zs: Separator, space)\n",
              " 'C': ASCII/Unicode U+0043 (category Lu: Letter, uppercase)\n",
              " 'i': ASCII/Unicode U+0069 (category Ll: Letter, lowercase)\n",
              " 't': ASCII/Unicode U+0074 (category Ll: Letter, lowercase)\n",
              " 'i': ASCII/Unicode U+0069 (category Ll: Letter, lowercase)"
            ]
          },
          "metadata": {
            "tags": []
          },
          "execution_count": 75
        }
      ]
    },
    {
      "cell_type": "code",
      "metadata": {
        "colab": {
          "base_uri": "https://localhost:8080/"
        },
        "id": "VGR81FCVSQrU",
        "outputId": "f111cb75-af8b-4c25-92b1-c11ac41dccef"
      },
      "source": [
        "GC.gc(true)\n",
        "CUDA.memory_status()\n"
      ],
      "execution_count": null,
      "outputs": [
        {
          "output_type": "stream",
          "text": [
            "Effective GPU memory usage: 99.97% (14.723 GiB/14.726 GiB)\n",
            "CUDA allocator usage: 14.540 GiB\n",
            "binned usage: 14.540 GiB (115.742 MiB allocated, 14.427 GiB cached)\n"
          ],
          "name": "stdout"
        }
      ]
    },
    {
      "cell_type": "code",
      "metadata": {
        "id": "2wNM7NfGSN1k"
      },
      "source": [
        "model=nothing; GC.gc(true)"
      ],
      "execution_count": null,
      "outputs": []
    },
    {
      "cell_type": "code",
      "metadata": {
        "colab": {
          "base_uri": "https://localhost:8080/"
        },
        "id": "RVLSXHd1eWK7",
        "outputId": "0f3b4dab-75f1-4c01-ec9b-e649f5cf8a1e"
      },
      "source": [
        "CUDA.memory_status()\n"
      ],
      "execution_count": null,
      "outputs": [
        {
          "output_type": "stream",
          "text": [
            "Effective GPU memory usage: 8.28% (1.219 GiB/14.726 GiB)\n",
            "CUDA allocator usage: 1.047 GiB\n",
            "binned usage: 1.047 GiB (0 bytes allocated, 1.047 GiB cached)\n"
          ],
          "name": "stdout"
        }
      ]
    },
    {
      "cell_type": "code",
      "metadata": {
        "colab": {
          "base_uri": "https://localhost:8080/"
        },
        "id": "mArXn2yteY3T",
        "outputId": "d9996950-5339-482b-9974-b7ccd52d4291"
      },
      "source": [
        "CUDA.reclaim()"
      ],
      "execution_count": null,
      "outputs": [
        {
          "output_type": "execute_result",
          "data": {
            "text/plain": [
              "1124073472"
            ]
          },
          "metadata": {
            "tags": []
          },
          "execution_count": 21
        }
      ]
    },
    {
      "cell_type": "code",
      "metadata": {
        "colab": {
          "base_uri": "https://localhost:8080/"
        },
        "id": "t3gbx_Ibehf4",
        "outputId": "b8b4d9a5-c69f-4fa3-eee2-21b3fbf341c8"
      },
      "source": [
        "CUDA.memory_status()\n"
      ],
      "execution_count": null,
      "outputs": [
        {
          "output_type": "stream",
          "text": [
            "Effective GPU memory usage: 1.17% (175.875 MiB/14.726 GiB)\n",
            "CUDA allocator usage: 0 bytes\n",
            "binned usage: 0 bytes (0 bytes allocated, 0 bytes cached)\n"
          ],
          "name": "stdout"
        }
      ]
    },
    {
      "cell_type": "code",
      "metadata": {
        "id": "tLdQn-90ej6-"
      },
      "source": [
        ""
      ],
      "execution_count": null,
      "outputs": []
    },
    {
      "cell_type": "code",
      "metadata": {
        "id": "vD2UftRPetCK"
      },
      "source": [
        ""
      ],
      "execution_count": null,
      "outputs": []
    }
  ]
}