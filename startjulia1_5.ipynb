{
  "nbformat": 4,
  "nbformat_minor": 0,
  "metadata": {
    "colab": {
      "name": "startjulia1.5.ipynb",
      "provenance": [],
      "include_colab_link": true
    },
    "kernelspec": {
      "name": "julia-1.5",
      "display_name": "Julia 1.5"
    },
    "accelerator": "GPU"
  },
  "cells": [
    {
      "cell_type": "markdown",
      "metadata": {
        "id": "view-in-github",
        "colab_type": "text"
      },
      "source": [
        "<a href=\"https://colab.research.google.com/github/daryoush/colab-julia-1.5/blob/master/startjulia1_5.ipynb\" target=\"_parent\"><img src=\"https://colab.research.google.com/assets/colab-badge.svg\" alt=\"Open In Colab\"/></a>"
      ]
    },
    {
      "cell_type": "code",
      "metadata": {
        "id": "oMSuTc3pDlHv",
        "outputId": "afe65d8b-1765-4bf8-aa45-ffebbb8966e0",
        "colab": {
          "base_uri": "https://localhost:8080/",
          "height": 1000
        }
      },
      "source": [
        "### NOTE THIS WORKS AS PYTHON, IT ONLY WORKS WHEN THE RUNTIME COMPLAINS ABOUT JULIA RUNTIME, SO IT REVERTS TO PYTHON. AFTER JULIA IS INSTALLED, CHANGE TO JULIA RUNTIME\n",
        "\n",
        "!curl -sSL \"https://julialang-s3.julialang.org/bin/linux/x64/1.5/julia-1.5.0-linux-x86_64.tar.gz\" -o julia.tar.gz\n",
        "!tar -xzf julia.tar.gz -C /usr --strip-components 1\n",
        "!rm -rf julia.tar.gz*\n",
        "!julia -e 'using Pkg; pkg\"add IJulia; precompile\"'\n",
        "!julia -e 'using Pkg; Pkg.add([ \"CUDA\", \"Flux\",\\\n",
        "    \"Random\",\"InformationMeasures\", \"DataStructures\", \"Transformers\",\"Statistics\", \"Dates\",\\\n",
        "    \"BSON\",\\\n",
        "    \"Images\",\\\n",
        "     \"MLDatasets\",\\\n",
        "    \"Parameters\",\\\n",
        "    \"Printf\",\\\n",
        "    ]);' ###Pkg.precompile()'\n",
        "!echo \"DONE\""
      ],
      "execution_count": 1,
      "outputs": [
        {
          "output_type": "stream",
          "text": [
            "\u001b[32m\u001b[1m Installing\u001b[22m\u001b[39m known registries into `~/.julia`\n",
            "######################################################################## 100.0%\n",
            "\u001b[32m\u001b[1m      Added\u001b[22m\u001b[39m registry `General` to `~/.julia/registries/General`\n",
            "\u001b[32m\u001b[1m  Resolving\u001b[22m\u001b[39m package versions...\n",
            "\u001b[32m\u001b[1m  Installed\u001b[22m\u001b[39m ZMQ ───────────── v1.2.1\n",
            "\u001b[32m\u001b[1m  Installed\u001b[22m\u001b[39m ZeroMQ_jll ────── v4.3.2+5\n",
            "\u001b[32m\u001b[1m  Installed\u001b[22m\u001b[39m SoftGlobalScope ─ v1.1.0\n",
            "\u001b[32m\u001b[1m  Installed\u001b[22m\u001b[39m Conda ─────────── v1.4.1\n",
            "\u001b[32m\u001b[1m  Installed\u001b[22m\u001b[39m VersionParsing ── v1.2.0\n",
            "\u001b[32m\u001b[1m  Installed\u001b[22m\u001b[39m IJulia ────────── v1.21.4\n",
            "\u001b[32m\u001b[1m  Installed\u001b[22m\u001b[39m JSON ──────────── v0.21.1\n",
            "\u001b[32m\u001b[1m  Installed\u001b[22m\u001b[39m JLLWrappers ───── v1.1.2\n",
            "\u001b[32m\u001b[1m  Installed\u001b[22m\u001b[39m Artifacts ─────── v1.3.0\n",
            "\u001b[32m\u001b[1m  Installed\u001b[22m\u001b[39m MbedTLS ───────── v1.0.2\n",
            "\u001b[32m\u001b[1m  Installed\u001b[22m\u001b[39m Parsers ───────── v1.0.11\n",
            "\u001b[32m\u001b[1m  Installed\u001b[22m\u001b[39m MbedTLS_jll ───── v2.16.8+0\n",
            "\u001b[32m\u001b[1mDownloading\u001b[22m\u001b[39m artifact: ZeroMQ\n",
            "######################################################################## 100.0%\n",
            "\u001b[1A\u001b[2K\u001b[?25h\u001b[32m\u001b[1mDownloading\u001b[22m\u001b[39m artifact: MbedTLS\n",
            "######################################################################## 100.0%\n",
            "\u001b[1A\u001b[2K\u001b[?25h\u001b[32m\u001b[1mUpdating\u001b[22m\u001b[39m `~/.julia/environments/v1.5/Project.toml`\n",
            " \u001b[90m [7073ff75] \u001b[39m\u001b[92m+ IJulia v1.21.4\u001b[39m\n",
            "\u001b[32m\u001b[1mUpdating\u001b[22m\u001b[39m `~/.julia/environments/v1.5/Manifest.toml`\n",
            " \u001b[90m [56f22d72] \u001b[39m\u001b[92m+ Artifacts v1.3.0\u001b[39m\n",
            " \u001b[90m [8f4d0f93] \u001b[39m\u001b[92m+ Conda v1.4.1\u001b[39m\n",
            " \u001b[90m [7073ff75] \u001b[39m\u001b[92m+ IJulia v1.21.4\u001b[39m\n",
            " \u001b[90m [692b3bcd] \u001b[39m\u001b[92m+ JLLWrappers v1.1.2\u001b[39m\n",
            " \u001b[90m [682c06a0] \u001b[39m\u001b[92m+ JSON v0.21.1\u001b[39m\n",
            " \u001b[90m [739be429] \u001b[39m\u001b[92m+ MbedTLS v1.0.2\u001b[39m\n",
            " \u001b[90m [c8ffd9c3] \u001b[39m\u001b[92m+ MbedTLS_jll v2.16.8+0\u001b[39m\n",
            " \u001b[90m [69de0a69] \u001b[39m\u001b[92m+ Parsers v1.0.11\u001b[39m\n",
            " \u001b[90m [b85f4697] \u001b[39m\u001b[92m+ SoftGlobalScope v1.1.0\u001b[39m\n",
            " \u001b[90m [81def892] \u001b[39m\u001b[92m+ VersionParsing v1.2.0\u001b[39m\n",
            " \u001b[90m [c2297ded] \u001b[39m\u001b[92m+ ZMQ v1.2.1\u001b[39m\n",
            " \u001b[90m [8f1865be] \u001b[39m\u001b[92m+ ZeroMQ_jll v4.3.2+5\u001b[39m\n",
            " \u001b[90m [2a0f44e3] \u001b[39m\u001b[92m+ Base64\u001b[39m\n",
            " \u001b[90m [ade2ca70] \u001b[39m\u001b[92m+ Dates\u001b[39m\n",
            " \u001b[90m [8ba89e20] \u001b[39m\u001b[92m+ Distributed\u001b[39m\n",
            " \u001b[90m [7b1f6079] \u001b[39m\u001b[92m+ FileWatching\u001b[39m\n",
            " \u001b[90m [b77e0a4c] \u001b[39m\u001b[92m+ InteractiveUtils\u001b[39m\n",
            " \u001b[90m [76f85450] \u001b[39m\u001b[92m+ LibGit2\u001b[39m\n",
            " \u001b[90m [8f399da3] \u001b[39m\u001b[92m+ Libdl\u001b[39m\n",
            " \u001b[90m [56ddb016] \u001b[39m\u001b[92m+ Logging\u001b[39m\n",
            " \u001b[90m [d6f4376e] \u001b[39m\u001b[92m+ Markdown\u001b[39m\n",
            " \u001b[90m [a63ad114] \u001b[39m\u001b[92m+ Mmap\u001b[39m\n",
            " \u001b[90m [44cfe95a] \u001b[39m\u001b[92m+ Pkg\u001b[39m\n",
            " \u001b[90m [de0858da] \u001b[39m\u001b[92m+ Printf\u001b[39m\n",
            " \u001b[90m [3fa0cd96] \u001b[39m\u001b[92m+ REPL\u001b[39m\n",
            " \u001b[90m [9a3f8284] \u001b[39m\u001b[92m+ Random\u001b[39m\n",
            " \u001b[90m [ea8e919c] \u001b[39m\u001b[92m+ SHA\u001b[39m\n",
            " \u001b[90m [9e88b42a] \u001b[39m\u001b[92m+ Serialization\u001b[39m\n",
            " \u001b[90m [6462fe0b] \u001b[39m\u001b[92m+ Sockets\u001b[39m\n",
            " \u001b[90m [8dfed614] \u001b[39m\u001b[92m+ Test\u001b[39m\n",
            " \u001b[90m [cf7118a7] \u001b[39m\u001b[92m+ UUIDs\u001b[39m\n",
            " \u001b[90m [4ec0a83e] \u001b[39m\u001b[92m+ Unicode\u001b[39m\n",
            "\u001b[32m\u001b[1m   Building\u001b[22m\u001b[39m Conda ─→ `~/.julia/packages/Conda/3rPhK/deps/build.log`\n",
            "\u001b[32m\u001b[1m   Building\u001b[22m\u001b[39m IJulia → `~/.julia/packages/IJulia/rWZ9e/deps/build.log`\n",
            "\u001b[32m\u001b[1mPrecompiling\u001b[22m\u001b[39m project...\n",
            "\u001b[32m\u001b[1m   Updating\u001b[22m\u001b[39m registry at `~/.julia/registries/General`\n",
            "\u001b[32m\u001b[1m  Resolving\u001b[22m\u001b[39m package versions...\n",
            "\u001b[32m\u001b[1m  Installed\u001b[22m\u001b[39m Flux ───────────────────────── v0.11.1\n",
            "\u001b[32m\u001b[1m  Installed\u001b[22m\u001b[39m Images ─────────────────────── v0.23.0\n",
            "\u001b[32m\u001b[1m  Installed\u001b[22m\u001b[39m DataStructures ─────────────── v0.17.20\n",
            "\u001b[32m\u001b[1m  Installed\u001b[22m\u001b[39m BSON ───────────────────────── v0.2.6\n",
            "\u001b[32m\u001b[1m  Installed\u001b[22m\u001b[39m MLDatasets ─────────────────── v0.5.2\n",
            "\u001b[32m\u001b[1m  Installed\u001b[22m\u001b[39m CUDA ───────────────────────── v1.3.3\n",
            "\u001b[32m\u001b[1m  Installed\u001b[22m\u001b[39m Parameters ─────────────────── v0.12.1\n",
            "\u001b[32m\u001b[1m  Installed\u001b[22m\u001b[39m DocStringExtensions ────────── v0.8.3\n",
            "\u001b[32m\u001b[1m  Installed\u001b[22m\u001b[39m Adapt ──────────────────────── v2.3.0\n",
            "\u001b[32m\u001b[1m  Installed\u001b[22m\u001b[39m InformationMeasures ────────── v0.3.0\n",
            "\u001b[32m\u001b[1m  Installed\u001b[22m\u001b[39m Transformers ───────────────── v0.1.7\n",
            "\u001b[32m\u001b[1m  Installed\u001b[22m\u001b[39m SIMDPirates ────────────────── v0.8.25\n",
            "\u001b[32m\u001b[1m  Installed\u001b[22m\u001b[39m OffsetArrays ───────────────── v1.3.1\n",
            "\u001b[32m\u001b[1m  Installed\u001b[22m\u001b[39m Distances ──────────────────── v0.9.2\n",
            "\u001b[32m\u001b[1m  Installed\u001b[22m\u001b[39m PaddedViews ────────────────── v0.5.6\n",
            "\u001b[32m\u001b[1m  Installed\u001b[22m\u001b[39m WoodburyMatrices ───────────── v0.5.2\n",
            "\u001b[32m\u001b[1m  Installed\u001b[22m\u001b[39m FFTViews ───────────────────── v0.3.1\n",
            "\u001b[32m\u001b[1m  Installed\u001b[22m\u001b[39m Functors ───────────────────── v0.1.0\n",
            "\u001b[32m\u001b[1m  Installed\u001b[22m\u001b[39m FileIO ─────────────────────── v1.4.3\n",
            "\u001b[32m\u001b[1m  Installed\u001b[22m\u001b[39m LoopVectorization ──────────── v0.8.26\n",
            "\u001b[32m\u001b[1m  Installed\u001b[22m\u001b[39m ForwardDiff ────────────────── v0.10.12\n",
            "\u001b[32m\u001b[1m  Installed\u001b[22m\u001b[39m Media ──────────────────────── v0.5.0\n",
            "\u001b[32m\u001b[1m  Installed\u001b[22m\u001b[39m IRTools ────────────────────── v0.4.1\n",
            "\u001b[32m\u001b[1m  Installed\u001b[22m\u001b[39m ImageFiltering ─────────────── v0.6.16\n",
            "\u001b[32m\u001b[1m  Installed\u001b[22m\u001b[39m Blosc_jll ──────────────────── v1.14.3+1\n",
            "\u001b[32m\u001b[1m  Installed\u001b[22m\u001b[39m ImageMorphology ────────────── v0.2.9\n",
            "\u001b[32m\u001b[1m  Installed\u001b[22m\u001b[39m SpecialFunctions ───────────── v0.10.3\n",
            "\u001b[32m\u001b[1m  Installed\u001b[22m\u001b[39m CustomUnitRanges ───────────── v1.0.0\n",
            "\u001b[32m\u001b[1m  Installed\u001b[22m\u001b[39m CoordinateTransformations ──── v0.6.0\n",
            "\u001b[32m\u001b[1m  Installed\u001b[22m\u001b[39m DiffResults ────────────────── v1.0.2\n",
            "\u001b[32m\u001b[1m  Installed\u001b[22m\u001b[39m Juno ───────────────────────── v0.8.4\n",
            "\u001b[32m\u001b[1m  Installed\u001b[22m\u001b[39m ImageDistances ─────────────── v0.2.8\n",
            "\u001b[32m\u001b[1m  Installed\u001b[22m\u001b[39m OrderedCollections ─────────── v1.3.1\n",
            "\u001b[32m\u001b[1m  Installed\u001b[22m\u001b[39m CommonSubexpressions ───────── v0.3.0\n",
            "\u001b[32m\u001b[1m  Installed\u001b[22m\u001b[39m NNlib ──────────────────────── v0.7.5\n",
            "\u001b[32m\u001b[1m  Installed\u001b[22m\u001b[39m Strided ────────────────────── v1.1.1\n",
            "\u001b[32m\u001b[1m  Installed\u001b[22m\u001b[39m IniFile ────────────────────── v0.5.0\n",
            "\u001b[32m\u001b[1m  Installed\u001b[22m\u001b[39m StaticArrays ───────────────── v0.12.4\n",
            "\u001b[32m\u001b[1m  Installed\u001b[22m\u001b[39m SLEEFPirates ───────────────── v0.5.5\n",
            "\u001b[32m\u001b[1m  Installed\u001b[22m\u001b[39m Requires ───────────────────── v1.1.0\n",
            "\u001b[32m\u001b[1m  Installed\u001b[22m\u001b[39m Missings ───────────────────── v0.4.4\n",
            "\u001b[32m\u001b[1m  Installed\u001b[22m\u001b[39m RangeArrays ────────────────── v0.3.2\n",
            "\u001b[32m\u001b[1m  Installed\u001b[22m\u001b[39m InternedStrings ────────────── v0.7.0\n",
            "\u001b[32m\u001b[1m  Installed\u001b[22m\u001b[39m HDF5_jll ───────────────────── v1.10.5+6\n",
            "\u001b[32m\u001b[1m  Installed\u001b[22m\u001b[39m IterTools ──────────────────── v1.3.0\n",
            "\u001b[32m\u001b[1m  Installed\u001b[22m\u001b[39m ImageShow ──────────────────── v0.2.3\n",
            "\u001b[32m\u001b[1m  Installed\u001b[22m\u001b[39m ChainRules ─────────────────── v0.7.27\n",
            "\u001b[32m\u001b[1m  Installed\u001b[22m\u001b[39m Ratios ─────────────────────── v0.4.0\n",
            "\u001b[32m\u001b[1m  Installed\u001b[22m\u001b[39m ArrayLayouts ───────────────── v0.4.9\n",
            "\u001b[32m\u001b[1m  Installed\u001b[22m\u001b[39m DataDeps ───────────────────── v0.7.2\n",
            "\u001b[32m\u001b[1m  Installed\u001b[22m\u001b[39m GPUArrays ──────────────────── v5.2.1\n",
            "\u001b[32m\u001b[1m  Installed\u001b[22m\u001b[39m Rotations ──────────────────── v1.0.1\n",
            "\u001b[32m\u001b[1m  Installed\u001b[22m\u001b[39m BinDeps ────────────────────── v1.0.1\n",
            "\u001b[32m\u001b[1m  Installed\u001b[22m\u001b[39m ColorVectorSpace ───────────── v0.8.6\n",
            "\u001b[32m\u001b[1m  Installed\u001b[22m\u001b[39m Zygote ─────────────────────── v0.5.9\n",
            "\u001b[32m\u001b[1m  Installed\u001b[22m\u001b[39m MAT ────────────────────────── v0.8.1\n",
            "\u001b[32m\u001b[1m  Installed\u001b[22m\u001b[39m Zstd_jll ───────────────────── v1.4.5+2\n",
            "\u001b[32m\u001b[1m  Installed\u001b[22m\u001b[39m GZip ───────────────────────── v0.5.1\n",
            "\u001b[32m\u001b[1m  Installed\u001b[22m\u001b[39m AbstractTrees ──────────────── v0.3.3\n",
            "\u001b[32m\u001b[1m  Installed\u001b[22m\u001b[39m NaNMath ────────────────────── v0.3.4\n",
            "\u001b[32m\u001b[1m  Installed\u001b[22m\u001b[39m UnPack ─────────────────────── v1.0.2\n",
            "\u001b[32m\u001b[1m  Installed\u001b[22m\u001b[39m FFTW ───────────────────────── v1.2.4\n",
            "\u001b[32m\u001b[1m  Installed\u001b[22m\u001b[39m ZygoteRules ────────────────── v0.2.0\n",
            "\u001b[32m\u001b[1m  Installed\u001b[22m\u001b[39m LLVM ───────────────────────── v2.0.0\n",
            "\u001b[32m\u001b[1m  Installed\u001b[22m\u001b[39m TimerOutputs ───────────────── v0.5.6\n",
            "\u001b[32m\u001b[1m  Installed\u001b[22m\u001b[39m LightXML ───────────────────── v0.9.0\n",
            "\u001b[32m\u001b[1m  Installed\u001b[22m\u001b[39m CompilerSupportLibraries_jll ─ v0.3.4+0\n",
            "\u001b[32m\u001b[1m  Installed\u001b[22m\u001b[39m MosaicViews ────────────────── v0.2.3\n",
            "\u001b[32m\u001b[1m  Installed\u001b[22m\u001b[39m MKL_jll ────────────────────── v2020.2.254+0\n",
            "\u001b[32m\u001b[1m  Installed\u001b[22m\u001b[39m URIParser ──────────────────── v0.4.1\n",
            "\u001b[32m\u001b[1m  Installed\u001b[22m\u001b[39m TiledIteration ─────────────── v0.2.5\n",
            "\u001b[32m\u001b[1m  Installed\u001b[22m\u001b[39m StrTables ──────────────────── v1.0.1\n",
            "\u001b[32m\u001b[1m  Installed\u001b[22m\u001b[39m DataAPI ────────────────────── v1.3.0\n",
            "\u001b[32m\u001b[1m  Installed\u001b[22m\u001b[39m StatsBase ──────────────────── v0.33.2\n",
            "\u001b[32m\u001b[1m  Installed\u001b[22m\u001b[39m SimpleTraits ───────────────── v0.9.3\n",
            "\u001b[32m\u001b[1m  Installed\u001b[22m\u001b[39m TupleTools ─────────────────── v1.2.0\n",
            "\u001b[32m\u001b[1m  Installed\u001b[22m\u001b[39m FillArrays ─────────────────── v0.9.7\n",
            "\u001b[32m\u001b[1m  Installed\u001b[22m\u001b[39m Colors ─────────────────────── v0.12.4\n",
            "\u001b[32m\u001b[1m  Installed\u001b[22m\u001b[39m FixedPointNumbers ──────────── v0.8.4\n",
            "\u001b[32m\u001b[1m  Installed\u001b[22m\u001b[39m BufferedStreams ────────────── v1.0.0\n",
            "\u001b[32m\u001b[1m  Installed\u001b[22m\u001b[39m EllipsisNotation ───────────── v0.4.0\n",
            "\u001b[32m\u001b[1m  Installed\u001b[22m\u001b[39m AxisAlgorithms ─────────────── v1.0.0\n",
            "\u001b[32m\u001b[1m  Installed\u001b[22m\u001b[39m DiffRules ──────────────────── v1.0.1\n",
            "\u001b[32m\u001b[1m  Installed\u001b[22m\u001b[39m ZipFile ────────────────────── v0.9.3\n",
            "\u001b[32m\u001b[1m  Installed\u001b[22m\u001b[39m FFTW_jll ───────────────────── v3.3.9+6\n",
            "\u001b[32m\u001b[1m  Installed\u001b[22m\u001b[39m IntervalSets ───────────────── v0.5.1\n",
            "\u001b[32m\u001b[1m  Installed\u001b[22m\u001b[39m ChainRulesCore ─────────────── v0.9.17\n",
            "\u001b[32m\u001b[1m  Installed\u001b[22m\u001b[39m Reexport ───────────────────── v0.2.0\n",
            "\u001b[32m\u001b[1m  Installed\u001b[22m\u001b[39m Libiconv_jll ───────────────── v1.16.0+7\n",
            "\u001b[32m\u001b[1m  Installed\u001b[22m\u001b[39m OpenSpecFun_jll ────────────── v0.5.3+4\n",
            "\u001b[32m\u001b[1m  Installed\u001b[22m\u001b[39m ComputationalResources ─────── v0.3.2\n",
            "\u001b[32m\u001b[1m  Installed\u001b[22m\u001b[39m IndirectArrays ─────────────── v0.5.1\n",
            "\u001b[32m\u001b[1m  Installed\u001b[22m\u001b[39m MappedArrays ───────────────── v0.2.2\n",
            "\u001b[32m\u001b[1m  Installed\u001b[22m\u001b[39m ImageAxes ──────────────────── v0.6.7\n",
            "\u001b[32m\u001b[1m  Installed\u001b[22m\u001b[39m MuladdMacro ────────────────── v0.2.2\n",
            "\u001b[32m\u001b[1m  Installed\u001b[22m\u001b[39m Lz4_jll ────────────────────── v1.9.2+2\n",
            "\u001b[32m\u001b[1m  Installed\u001b[22m\u001b[39m CEnum ──────────────────────── v0.4.1\n",
            "\u001b[32m\u001b[1m  Installed\u001b[22m\u001b[39m ColorTypes ─────────────────── v0.10.9\n",
            "\u001b[32m\u001b[1m  Installed\u001b[22m\u001b[39m CatIndices ─────────────────── v0.2.1\n",
            "\u001b[32m\u001b[1m  Installed\u001b[22m\u001b[39m MacroTools ─────────────────── v0.5.6\n",
            "\u001b[32m\u001b[1m  Installed\u001b[22m\u001b[39m ImageTransformations ───────── v0.8.6\n",
            "\u001b[32m\u001b[1m  Installed\u001b[22m\u001b[39m ImageMetadata ──────────────── v0.9.4\n",
            "\u001b[32m\u001b[1m  Installed\u001b[22m\u001b[39m Graphics ───────────────────── v1.0.2\n",
            "\u001b[32m\u001b[1m  Installed\u001b[22m\u001b[39m BytePairEncoding ───────────── v0.1.1\n",
            "\u001b[32m\u001b[1m  Installed\u001b[22m\u001b[39m SortingAlgorithms ──────────── v0.3.1\n",
            "\u001b[32m\u001b[1m  Installed\u001b[22m\u001b[39m ImageQualityIndexes ────────── v0.2.0\n",
            "\u001b[32m\u001b[1m  Installed\u001b[22m\u001b[39m Interpolations ─────────────── v0.12.10\n",
            "\u001b[32m\u001b[1m  Installed\u001b[22m\u001b[39m AxisArrays ─────────────────── v0.4.3\n",
            "\u001b[32m\u001b[1m  Installed\u001b[22m\u001b[39m Compat ─────────────────────── v3.21.0\n",
            "\u001b[32m\u001b[1m  Installed\u001b[22m\u001b[39m ImageContrastAdjustment ────── v0.3.5\n",
            "\u001b[32m\u001b[1m  Installed\u001b[22m\u001b[39m GPUCompiler ────────────────── v0.6.1\n",
            "\u001b[32m\u001b[1m  Installed\u001b[22m\u001b[39m XML2_jll ───────────────────── v2.9.10+3\n",
            "\u001b[32m\u001b[1m  Installed\u001b[22m\u001b[39m CodecZlib ──────────────────── v0.7.0\n",
            "\u001b[32m\u001b[1m  Installed\u001b[22m\u001b[39m Zlib_jll ───────────────────── v1.2.11+18\n",
            "\u001b[32m\u001b[1m  Installed\u001b[22m\u001b[39m ImageCore ──────────────────── v0.8.18\n",
            "\u001b[32m\u001b[1m  Installed\u001b[22m\u001b[39m TranscodingStreams ─────────── v0.9.5\n",
            "\u001b[32m\u001b[1m  Installed\u001b[22m\u001b[39m AbstractFFTs ───────────────── v0.5.0\n",
            "\u001b[32m\u001b[1m  Installed\u001b[22m\u001b[39m ExprTools ──────────────────── v0.1.3\n",
            "\u001b[32m\u001b[1m  Installed\u001b[22m\u001b[39m VectorizationBase ──────────── v0.12.33\n",
            "\u001b[32m\u001b[1m  Installed\u001b[22m\u001b[39m HDF5 ───────────────────────── v0.13.6\n",
            "\u001b[32m\u001b[1m  Installed\u001b[22m\u001b[39m HTTP ───────────────────────── v0.8.19\n",
            "\u001b[32m\u001b[1m  Installed\u001b[22m\u001b[39m CpuId ──────────────────────── v0.2.2\n",
            "\u001b[32m\u001b[1m  Installed\u001b[22m\u001b[39m Blosc ──────────────────────── v0.7.0\n",
            "\u001b[32m\u001b[1m  Installed\u001b[22m\u001b[39m IntelOpenMP_jll ────────────── v2018.0.3+0\n",
            "\u001b[32m\u001b[1m  Installed\u001b[22m\u001b[39m BinaryProvider ─────────────── v0.5.10\n",
            "\u001b[32m\u001b[1m  Installed\u001b[22m\u001b[39m IdentityRanges ─────────────── v0.3.1\n",
            "\u001b[32m\u001b[1m  Installed\u001b[22m\u001b[39m HTML_Entities ──────────────── v1.0.0\n",
            "\u001b[32m\u001b[1m  Installed\u001b[22m\u001b[39m Discretizers ───────────────── v3.2.0\n",
            "\u001b[32m\u001b[1m  Installed\u001b[22m\u001b[39m WordTokenizers ─────────────── v0.5.6\n",
            "\u001b[32m\u001b[1m  Installed\u001b[22m\u001b[39m Pickle ─────────────────────── v0.2.0\n",
            "\u001b[32m\u001b[1mDownloading\u001b[22m\u001b[39m artifact: Blosc\n",
            "######################################################################## 100.0%\n",
            "\u001b[1A\u001b[2K\u001b[?25h\u001b[32m\u001b[1mDownloading\u001b[22m\u001b[39m artifact: HDF5\n",
            "######################################################################## 100.0%\n",
            "\u001b[1A\u001b[2K\u001b[?25h\u001b[32m\u001b[1mDownloading\u001b[22m\u001b[39m artifact: Zstd\n",
            "######################################################################## 100.0%\n",
            "\u001b[1A\u001b[2K\u001b[?25h\u001b[32m\u001b[1mDownloading\u001b[22m\u001b[39m artifact: CompilerSupportLibraries\n",
            "######################################################################## 100.0%\n",
            "\u001b[1A\u001b[2K\u001b[?25h\u001b[32m\u001b[1mDownloading\u001b[22m\u001b[39m artifact: FFTW\n",
            "######################################################################## 100.0%\n",
            "\u001b[1A\u001b[2K\u001b[?25h\u001b[32m\u001b[1mDownloading\u001b[22m\u001b[39m artifact: Libiconv\n",
            "######################################################################## 100.0%\n",
            "\u001b[1A\u001b[2K\u001b[?25h\u001b[32m\u001b[1mDownloading\u001b[22m\u001b[39m artifact: OpenSpecFun\n",
            "######################################################################## 100.0%\n",
            "\u001b[1A\u001b[2K\u001b[?25h\u001b[32m\u001b[1mDownloading\u001b[22m\u001b[39m artifact: Lz4\n",
            "######################################################################## 100.0%\n",
            "\u001b[1A\u001b[2K\u001b[?25h\u001b[32m\u001b[1mDownloading\u001b[22m\u001b[39m artifact: XML2\n",
            "######################################################################## 100.0%\n",
            "\u001b[1A\u001b[2K\u001b[?25h\u001b[32m\u001b[1mDownloading\u001b[22m\u001b[39m artifact: Zlib\n",
            "######################################################################## 100.0%\n",
            "\u001b[1A\u001b[2K\u001b[?25h\u001b[32m\u001b[1mDownloading\u001b[22m\u001b[39m artifact: IntelOpenMP\n",
            "######################################################################## 100.0%\n",
            "\u001b[1A\u001b[2K\u001b[?25h\u001b[32m\u001b[1mUpdating\u001b[22m\u001b[39m `~/.julia/environments/v1.5/Project.toml`\n",
            " \u001b[90m [fbb218c0] \u001b[39m\u001b[92m+ BSON v0.2.6\u001b[39m\n",
            " \u001b[90m [052768ef] \u001b[39m\u001b[92m+ CUDA v1.3.3\u001b[39m\n",
            " \u001b[90m [864edb3b] \u001b[39m\u001b[92m+ DataStructures v0.17.20\u001b[39m\n",
            " \u001b[90m [587475ba] \u001b[39m\u001b[92m+ Flux v0.11.1\u001b[39m\n",
            " \u001b[90m [916415d5] \u001b[39m\u001b[92m+ Images v0.23.0\u001b[39m\n",
            " \u001b[90m [96684042] \u001b[39m\u001b[92m+ InformationMeasures v0.3.0\u001b[39m\n",
            " \u001b[90m [eb30cadb] \u001b[39m\u001b[92m+ MLDatasets v0.5.2\u001b[39m\n",
            " \u001b[90m [d96e819e] \u001b[39m\u001b[92m+ Parameters v0.12.1\u001b[39m\n",
            " \u001b[90m [21ca0261] \u001b[39m\u001b[92m+ Transformers v0.1.7\u001b[39m\n",
            " \u001b[90m [ade2ca70] \u001b[39m\u001b[92m+ Dates\u001b[39m\n",
            " \u001b[90m [de0858da] \u001b[39m\u001b[92m+ Printf\u001b[39m\n",
            " \u001b[90m [9a3f8284] \u001b[39m\u001b[92m+ Random\u001b[39m\n",
            " \u001b[90m [10745b16] \u001b[39m\u001b[92m+ Statistics\u001b[39m\n",
            "\u001b[32m\u001b[1mUpdating\u001b[22m\u001b[39m `~/.julia/environments/v1.5/Manifest.toml`\n",
            " \u001b[90m [621f4979] \u001b[39m\u001b[92m+ AbstractFFTs v0.5.0\u001b[39m\n",
            " \u001b[90m [1520ce14] \u001b[39m\u001b[92m+ AbstractTrees v0.3.3\u001b[39m\n",
            " \u001b[90m [79e6a3ab] \u001b[39m\u001b[92m+ Adapt v2.3.0\u001b[39m\n",
            " \u001b[90m [4c555306] \u001b[39m\u001b[92m+ ArrayLayouts v0.4.9\u001b[39m\n",
            " \u001b[90m [13072b0f] \u001b[39m\u001b[92m+ AxisAlgorithms v1.0.0\u001b[39m\n",
            " \u001b[90m [39de3d68] \u001b[39m\u001b[92m+ AxisArrays v0.4.3\u001b[39m\n",
            " \u001b[90m [fbb218c0] \u001b[39m\u001b[92m+ BSON v0.2.6\u001b[39m\n",
            " \u001b[90m [9e28174c] \u001b[39m\u001b[92m+ BinDeps v1.0.1\u001b[39m\n",
            " \u001b[90m [b99e7846] \u001b[39m\u001b[92m+ BinaryProvider v0.5.10\u001b[39m\n",
            " \u001b[90m [a74b3585] \u001b[39m\u001b[92m+ Blosc v0.7.0\u001b[39m\n",
            " \u001b[90m [0b7ba130] \u001b[39m\u001b[92m+ Blosc_jll v1.14.3+1\u001b[39m\n",
            " \u001b[90m [e1450e63] \u001b[39m\u001b[92m+ BufferedStreams v1.0.0\u001b[39m\n",
            " \u001b[90m [a4280ba5] \u001b[39m\u001b[92m+ BytePairEncoding v0.1.1\u001b[39m\n",
            " \u001b[90m [fa961155] \u001b[39m\u001b[92m+ CEnum v0.4.1\u001b[39m\n",
            " \u001b[90m [052768ef] \u001b[39m\u001b[92m+ CUDA v1.3.3\u001b[39m\n",
            " \u001b[90m [aafaddc9] \u001b[39m\u001b[92m+ CatIndices v0.2.1\u001b[39m\n",
            " \u001b[90m [082447d4] \u001b[39m\u001b[92m+ ChainRules v0.7.27\u001b[39m\n",
            " \u001b[90m [d360d2e6] \u001b[39m\u001b[92m+ ChainRulesCore v0.9.17\u001b[39m\n",
            " \u001b[90m [944b1d66] \u001b[39m\u001b[92m+ CodecZlib v0.7.0\u001b[39m\n",
            " \u001b[90m [3da002f7] \u001b[39m\u001b[92m+ ColorTypes v0.10.9\u001b[39m\n",
            " \u001b[90m [c3611d14] \u001b[39m\u001b[92m+ ColorVectorSpace v0.8.6\u001b[39m\n",
            " \u001b[90m [5ae59095] \u001b[39m\u001b[92m+ Colors v0.12.4\u001b[39m\n",
            " \u001b[90m [bbf7d656] \u001b[39m\u001b[92m+ CommonSubexpressions v0.3.0\u001b[39m\n",
            " \u001b[90m [34da2185] \u001b[39m\u001b[92m+ Compat v3.21.0\u001b[39m\n",
            " \u001b[90m [e66e0078] \u001b[39m\u001b[92m+ CompilerSupportLibraries_jll v0.3.4+0\u001b[39m\n",
            " \u001b[90m [ed09eef8] \u001b[39m\u001b[92m+ ComputationalResources v0.3.2\u001b[39m\n",
            " \u001b[90m [150eb455] \u001b[39m\u001b[92m+ CoordinateTransformations v0.6.0\u001b[39m\n",
            " \u001b[90m [adafc99b] \u001b[39m\u001b[92m+ CpuId v0.2.2\u001b[39m\n",
            " \u001b[90m [dc8bdbbb] \u001b[39m\u001b[92m+ CustomUnitRanges v1.0.0\u001b[39m\n",
            " \u001b[90m [9a962f9c] \u001b[39m\u001b[92m+ DataAPI v1.3.0\u001b[39m\n",
            " \u001b[90m [124859b0] \u001b[39m\u001b[92m+ DataDeps v0.7.2\u001b[39m\n",
            " \u001b[90m [864edb3b] \u001b[39m\u001b[92m+ DataStructures v0.17.20\u001b[39m\n",
            " \u001b[90m [163ba53b] \u001b[39m\u001b[92m+ DiffResults v1.0.2\u001b[39m\n",
            " \u001b[90m [b552c78f] \u001b[39m\u001b[92m+ DiffRules v1.0.1\u001b[39m\n",
            " \u001b[90m [6e83dbb3] \u001b[39m\u001b[92m+ Discretizers v3.2.0\u001b[39m\n",
            " \u001b[90m [b4f34e82] \u001b[39m\u001b[92m+ Distances v0.9.2\u001b[39m\n",
            " \u001b[90m [ffbed154] \u001b[39m\u001b[92m+ DocStringExtensions v0.8.3\u001b[39m\n",
            " \u001b[90m [da5c29d0] \u001b[39m\u001b[92m+ EllipsisNotation v0.4.0\u001b[39m\n",
            " \u001b[90m [e2ba6199] \u001b[39m\u001b[92m+ ExprTools v0.1.3\u001b[39m\n",
            " \u001b[90m [4f61f5a4] \u001b[39m\u001b[92m+ FFTViews v0.3.1\u001b[39m\n",
            " \u001b[90m [7a1cc6ca] \u001b[39m\u001b[92m+ FFTW v1.2.4\u001b[39m\n",
            " \u001b[90m [f5851436] \u001b[39m\u001b[92m+ FFTW_jll v3.3.9+6\u001b[39m\n",
            " \u001b[90m [5789e2e9] \u001b[39m\u001b[92m+ FileIO v1.4.3\u001b[39m\n",
            " \u001b[90m [1a297f60] \u001b[39m\u001b[92m+ FillArrays v0.9.7\u001b[39m\n",
            " \u001b[90m [53c48c17] \u001b[39m\u001b[92m+ FixedPointNumbers v0.8.4\u001b[39m\n",
            " \u001b[90m [587475ba] \u001b[39m\u001b[92m+ Flux v0.11.1\u001b[39m\n",
            " \u001b[90m [f6369f11] \u001b[39m\u001b[92m+ ForwardDiff v0.10.12\u001b[39m\n",
            " \u001b[90m [d9f16b24] \u001b[39m\u001b[92m+ Functors v0.1.0\u001b[39m\n",
            " \u001b[90m [0c68f7d7] \u001b[39m\u001b[92m+ GPUArrays v5.2.1\u001b[39m\n",
            " \u001b[90m [61eb1bfa] \u001b[39m\u001b[92m+ GPUCompiler v0.6.1\u001b[39m\n",
            " \u001b[90m [92fee26a] \u001b[39m\u001b[92m+ GZip v0.5.1\u001b[39m\n",
            " \u001b[90m [a2bd30eb] \u001b[39m\u001b[92m+ Graphics v1.0.2\u001b[39m\n",
            " \u001b[90m [f67ccb44] \u001b[39m\u001b[92m+ HDF5 v0.13.6\u001b[39m\n",
            " \u001b[90m [0234f1f7] \u001b[39m\u001b[92m+ HDF5_jll v1.10.5+6\u001b[39m\n",
            " \u001b[90m [7693890a] \u001b[39m\u001b[92m+ HTML_Entities v1.0.0\u001b[39m\n",
            " \u001b[90m [cd3eb016] \u001b[39m\u001b[92m+ HTTP v0.8.19\u001b[39m\n",
            " \u001b[90m [7869d1d1] \u001b[39m\u001b[92m+ IRTools v0.4.1\u001b[39m\n",
            " \u001b[90m [bbac6d45] \u001b[39m\u001b[92m+ IdentityRanges v0.3.1\u001b[39m\n",
            " \u001b[90m [2803e5a7] \u001b[39m\u001b[92m+ ImageAxes v0.6.7\u001b[39m\n",
            " \u001b[90m [f332f351] \u001b[39m\u001b[92m+ ImageContrastAdjustment v0.3.5\u001b[39m\n",
            " \u001b[90m [a09fc81d] \u001b[39m\u001b[92m+ ImageCore v0.8.18\u001b[39m\n",
            " \u001b[90m [51556ac3] \u001b[39m\u001b[92m+ ImageDistances v0.2.8\u001b[39m\n",
            " \u001b[90m [6a3955dd] \u001b[39m\u001b[92m+ ImageFiltering v0.6.16\u001b[39m\n",
            " \u001b[90m [bc367c6b] \u001b[39m\u001b[92m+ ImageMetadata v0.9.4\u001b[39m\n",
            " \u001b[90m [787d08f9] \u001b[39m\u001b[92m+ ImageMorphology v0.2.9\u001b[39m\n",
            " \u001b[90m [2996bd0c] \u001b[39m\u001b[92m+ ImageQualityIndexes v0.2.0\u001b[39m\n",
            " \u001b[90m [4e3cecfd] \u001b[39m\u001b[92m+ ImageShow v0.2.3\u001b[39m\n",
            " \u001b[90m [02fcd773] \u001b[39m\u001b[92m+ ImageTransformations v0.8.6\u001b[39m\n",
            " \u001b[90m [916415d5] \u001b[39m\u001b[92m+ Images v0.23.0\u001b[39m\n",
            " \u001b[90m [9b13fd28] \u001b[39m\u001b[92m+ IndirectArrays v0.5.1\u001b[39m\n",
            " \u001b[90m [96684042] \u001b[39m\u001b[92m+ InformationMeasures v0.3.0\u001b[39m\n",
            " \u001b[90m [83e8ac13] \u001b[39m\u001b[92m+ IniFile v0.5.0\u001b[39m\n",
            " \u001b[90m [1d5cc7b8] \u001b[39m\u001b[92m+ IntelOpenMP_jll v2018.0.3+0\u001b[39m\n",
            " \u001b[90m [7d512f48] \u001b[39m\u001b[92m+ InternedStrings v0.7.0\u001b[39m\n",
            " \u001b[90m [a98d9a8b] \u001b[39m\u001b[92m+ Interpolations v0.12.10\u001b[39m\n",
            " \u001b[90m [8197267c] \u001b[39m\u001b[92m+ IntervalSets v0.5.1\u001b[39m\n",
            " \u001b[90m [c8e1da08] \u001b[39m\u001b[92m+ IterTools v1.3.0\u001b[39m\n",
            " \u001b[90m [e5e0dc1b] \u001b[39m\u001b[92m+ Juno v0.8.4\u001b[39m\n",
            " \u001b[90m [929cbde3] \u001b[39m\u001b[92m+ LLVM v2.0.0\u001b[39m\n",
            " \u001b[90m [94ce4f54] \u001b[39m\u001b[92m+ Libiconv_jll v1.16.0+7\u001b[39m\n",
            " \u001b[90m [9c8b4983] \u001b[39m\u001b[92m+ LightXML v0.9.0\u001b[39m\n",
            " \u001b[90m [bdcacae8] \u001b[39m\u001b[92m+ LoopVectorization v0.8.26\u001b[39m\n",
            " \u001b[90m [5ced341a] \u001b[39m\u001b[92m+ Lz4_jll v1.9.2+2\u001b[39m\n",
            " \u001b[90m [23992714] \u001b[39m\u001b[92m+ MAT v0.8.1\u001b[39m\n",
            " \u001b[90m [856f044c] \u001b[39m\u001b[92m+ MKL_jll v2020.2.254+0\u001b[39m\n",
            " \u001b[90m [eb30cadb] \u001b[39m\u001b[92m+ MLDatasets v0.5.2\u001b[39m\n",
            " \u001b[90m [1914dd2f] \u001b[39m\u001b[92m+ MacroTools v0.5.6\u001b[39m\n",
            " \u001b[90m [dbb5928d] \u001b[39m\u001b[92m+ MappedArrays v0.2.2\u001b[39m\n",
            " \u001b[90m [e89f7d12] \u001b[39m\u001b[92m+ Media v0.5.0\u001b[39m\n",
            " \u001b[90m [e1d29d7a] \u001b[39m\u001b[92m+ Missings v0.4.4\u001b[39m\n",
            " \u001b[90m [e94cdb99] \u001b[39m\u001b[92m+ MosaicViews v0.2.3\u001b[39m\n",
            " \u001b[90m [46d2c3a1] \u001b[39m\u001b[92m+ MuladdMacro v0.2.2\u001b[39m\n",
            " \u001b[90m [872c559c] \u001b[39m\u001b[92m+ NNlib v0.7.5\u001b[39m\n",
            " \u001b[90m [77ba4419] \u001b[39m\u001b[92m+ NaNMath v0.3.4\u001b[39m\n",
            " \u001b[90m [6fe1bfb0] \u001b[39m\u001b[92m+ OffsetArrays v1.3.1\u001b[39m\n",
            " \u001b[90m [efe28fd5] \u001b[39m\u001b[92m+ OpenSpecFun_jll v0.5.3+4\u001b[39m\n",
            " \u001b[90m [bac558e1] \u001b[39m\u001b[92m+ OrderedCollections v1.3.1\u001b[39m\n",
            " \u001b[90m [5432bcbf] \u001b[39m\u001b[92m+ PaddedViews v0.5.6\u001b[39m\n",
            " \u001b[90m [d96e819e] \u001b[39m\u001b[92m+ Parameters v0.12.1\u001b[39m\n",
            " \u001b[90m [fbb45041] \u001b[39m\u001b[92m+ Pickle v0.2.0\u001b[39m\n",
            " \u001b[90m [b3c3ace0] \u001b[39m\u001b[92m+ RangeArrays v0.3.2\u001b[39m\n",
            " \u001b[90m [c84ed2f1] \u001b[39m\u001b[92m+ Ratios v0.4.0\u001b[39m\n",
            " \u001b[90m [189a3867] \u001b[39m\u001b[92m+ Reexport v0.2.0\u001b[39m\n",
            " \u001b[90m [ae029012] \u001b[39m\u001b[92m+ Requires v1.1.0\u001b[39m\n",
            " \u001b[90m [6038ab10] \u001b[39m\u001b[92m+ Rotations v1.0.1\u001b[39m\n",
            " \u001b[90m [21efa798] \u001b[39m\u001b[92m+ SIMDPirates v0.8.25\u001b[39m\n",
            " \u001b[90m [476501e8] \u001b[39m\u001b[92m+ SLEEFPirates v0.5.5\u001b[39m\n",
            " \u001b[90m [699a6c99] \u001b[39m\u001b[92m+ SimpleTraits v0.9.3\u001b[39m\n",
            " \u001b[90m [a2af1166] \u001b[39m\u001b[92m+ SortingAlgorithms v0.3.1\u001b[39m\n",
            " \u001b[90m [276daf66] \u001b[39m\u001b[92m+ SpecialFunctions v0.10.3\u001b[39m\n",
            " \u001b[90m [90137ffa] \u001b[39m\u001b[92m+ StaticArrays v0.12.4\u001b[39m\n",
            " \u001b[90m [2913bbd2] \u001b[39m\u001b[92m+ StatsBase v0.33.2\u001b[39m\n",
            " \u001b[90m [9700d1a9] \u001b[39m\u001b[92m+ StrTables v1.0.1\u001b[39m\n",
            " \u001b[90m [5e0ebb24] \u001b[39m\u001b[92m+ Strided v1.1.1\u001b[39m\n",
            " \u001b[90m [06e1c1a7] \u001b[39m\u001b[92m+ TiledIteration v0.2.5\u001b[39m\n",
            " \u001b[90m [a759f4b9] \u001b[39m\u001b[92m+ TimerOutputs v0.5.6\u001b[39m\n",
            " \u001b[90m [3bb67fe8] \u001b[39m\u001b[92m+ TranscodingStreams v0.9.5\u001b[39m\n",
            " \u001b[90m [21ca0261] \u001b[39m\u001b[92m+ Transformers v0.1.7\u001b[39m\n",
            " \u001b[90m [9d95972d] \u001b[39m\u001b[92m+ TupleTools v1.2.0\u001b[39m\n",
            " \u001b[90m [30578b45] \u001b[39m\u001b[92m+ URIParser v0.4.1\u001b[39m\n",
            " \u001b[90m [3a884ed6] \u001b[39m\u001b[92m+ UnPack v1.0.2\u001b[39m\n",
            " \u001b[90m [3d5dd08c] \u001b[39m\u001b[92m+ VectorizationBase v0.12.33\u001b[39m\n",
            " \u001b[90m [efce3f68] \u001b[39m\u001b[92m+ WoodburyMatrices v0.5.2\u001b[39m\n",
            " \u001b[90m [796a5d58] \u001b[39m\u001b[92m+ WordTokenizers v0.5.6\u001b[39m\n",
            " \u001b[90m [02c8fc9c] \u001b[39m\u001b[92m+ XML2_jll v2.9.10+3\u001b[39m\n",
            " \u001b[90m [a5390f91] \u001b[39m\u001b[92m+ ZipFile v0.9.3\u001b[39m\n",
            " \u001b[90m [83775a58] \u001b[39m\u001b[92m+ Zlib_jll v1.2.11+18\u001b[39m\n",
            " \u001b[90m [3161d3a3] \u001b[39m\u001b[92m+ Zstd_jll v1.4.5+2\u001b[39m\n",
            " \u001b[90m [e88e6eb3] \u001b[39m\u001b[92m+ Zygote v0.5.9\u001b[39m\n",
            " \u001b[90m [700de1a5] \u001b[39m\u001b[92m+ ZygoteRules v0.2.0\u001b[39m\n",
            " \u001b[90m [8bb1440f] \u001b[39m\u001b[92m+ DelimitedFiles\u001b[39m\n",
            " \u001b[90m [9fa8497b] \u001b[39m\u001b[92m+ Future\u001b[39m\n",
            " \u001b[90m [37e2e46d] \u001b[39m\u001b[92m+ LinearAlgebra\u001b[39m\n",
            " \u001b[90m [9abbd945] \u001b[39m\u001b[92m+ Profile\u001b[39m\n",
            " \u001b[90m [1a1011a3] \u001b[39m\u001b[92m+ SharedArrays\u001b[39m\n",
            " \u001b[90m [2f01184e] \u001b[39m\u001b[92m+ SparseArrays\u001b[39m\n",
            " \u001b[90m [10745b16] \u001b[39m\u001b[92m+ Statistics\u001b[39m\n",
            "\u001b[32m\u001b[1m   Building\u001b[22m\u001b[39m SLEEFPirates ─→ `~/.julia/packages/SLEEFPirates/jGsib/deps/build.log`\n",
            "\u001b[32m\u001b[1m   Building\u001b[22m\u001b[39m FFTW ─────────→ `~/.julia/packages/FFTW/DMUbN/deps/build.log`\n",
            "\u001b[32m\u001b[1m   Building\u001b[22m\u001b[39m HTML_Entities → `~/.julia/packages/HTML_Entities/g4t7p/deps/build.log`\n",
            "\u001b[32m\u001b[1m   Building\u001b[22m\u001b[39m HDF5 ─────────→ `~/.julia/packages/HDF5/T1b9x/deps/build.log`\n",
            "DONE\n"
          ],
          "name": "stdout"
        }
      ]
    },
    {
      "cell_type": "code",
      "metadata": {
        "id": "qrtJwtCUgCjX"
      },
      "source": [
        ""
      ],
      "execution_count": null,
      "outputs": []
    },
    {
      "cell_type": "code",
      "metadata": {
        "id": "PtcQ1zjJgRYo"
      },
      "source": [
        ""
      ],
      "execution_count": null,
      "outputs": []
    },
    {
      "cell_type": "markdown",
      "metadata": {
        "id": "rSZzQeJUg2f2"
      },
      "source": [
        "**NOW GO TO EDIT NOTEBOOK SETTING AND SET IT TO JULIA**\n",
        "For adding new packages, it should be in python or the syntax may need to be in Julia!"
      ]
    },
    {
      "cell_type": "code",
      "metadata": {
        "id": "kXRGHHhhg9N_",
        "outputId": "ce7e3c77-632a-419d-9bfb-7949ec795262",
        "colab": {
          "base_uri": "https://localhost:8080/",
          "height": 87
        }
      },
      "source": [
        "[1,2,3]"
      ],
      "execution_count": 1,
      "outputs": [
        {
          "output_type": "execute_result",
          "data": {
            "text/plain": [
              "3-element Array{Int64,1}:\n",
              " 1\n",
              " 2\n",
              " 3"
            ]
          },
          "metadata": {
            "tags": []
          },
          "execution_count": 1
        }
      ]
    },
    {
      "cell_type": "code",
      "metadata": {
        "id": "4NiqrpPnhy_n",
        "outputId": "73e4684a-de78-4b9e-9238-75a00de5c973",
        "colab": {
          "base_uri": "https://localhost:8080/",
          "height": 156
        }
      },
      "source": [
        "using CUDA\n",
        "CuArray{Int}(undef, 2)"
      ],
      "execution_count": null,
      "outputs": [
        {
          "output_type": "stream",
          "text": [
            "┌ Info: Precompiling CUDA [052768ef-5323-5732-b1bb-66c8b64840ba]\n",
            "└ @ Base loading.jl:1278\n"
          ],
          "name": "stderr"
        },
        {
          "output_type": "stream",
          "text": [
            "\u001b[32m\u001b[1mDownloading\u001b[22m\u001b[39m artifact: CUDA101\n",
            "\u001b[?25l"
          ],
          "name": "stdout"
        },
        {
          "output_type": "stream",
          "text": [
            "######################################################################### 100.0%\n"
          ],
          "name": "stderr"
        },
        {
          "output_type": "stream",
          "text": [
            "\u001b[1A\u001b[2K\u001b[?25h\u001b[32m\u001b[1mDownloading\u001b[22m\u001b[39m artifact: CUDNN_CUDA101\n",
            "\u001b[?25l"
          ],
          "name": "stdout"
        },
        {
          "output_type": "stream",
          "text": [
            "######################################################################### 100.0%\n"
          ],
          "name": "stderr"
        },
        {
          "output_type": "stream",
          "text": [
            "\u001b[1A\u001b[2K\u001b[?25h\u001b[32m\u001b[1mDownloading\u001b[22m\u001b[39m artifact: CUTENSOR_CUDA101\n",
            "\u001b[?25l"
          ],
          "name": "stdout"
        },
        {
          "output_type": "stream",
          "text": [
            "######################################################################### 100.0%\n"
          ],
          "name": "stderr"
        },
        {
          "output_type": "stream",
          "text": [
            "\u001b[1A\u001b[2K\u001b[?25h"
          ],
          "name": "stdout"
        }
      ]
    },
    {
      "cell_type": "code",
      "metadata": {
        "id": "SLZAhjGejvbW",
        "outputId": "3797b0fb-f36c-4850-d758-4c4dfbf0d237",
        "colab": {
          "base_uri": "https://localhost:8080/",
          "height": 52
        }
      },
      "source": [
        "using Flux"
      ],
      "execution_count": 1,
      "outputs": [
        {
          "output_type": "stream",
          "text": [
            "┌ Info: Precompiling Flux [587475ba-b771-5e3f-ad9e-33799f191a9c]\n",
            "└ @ Base loading.jl:1278\n"
          ],
          "name": "stderr"
        }
      ]
    },
    {
      "cell_type": "code",
      "metadata": {
        "id": "HJKQEvRRj5vZ",
        "outputId": "29e5f2ca-64b0-48f9-c506-59a4e3c33627",
        "colab": {
          "base_uri": "https://localhost:8080/",
          "height": 87
        }
      },
      "source": [
        "gpu([1,2,3])"
      ],
      "execution_count": 2,
      "outputs": [
        {
          "output_type": "execute_result",
          "data": {
            "text/plain": [
              "3-element CUDA.CuArray{Int64,1}:\n",
              " 1\n",
              " 2\n",
              " 3"
            ]
          },
          "metadata": {
            "tags": []
          },
          "execution_count": 2
        }
      ]
    },
    {
      "cell_type": "code",
      "metadata": {
        "id": "Ps1EDZj_JsJt",
        "outputId": "ff88115b-5216-4d1b-8cb9-ea8eb8270c32",
        "colab": {
          "base_uri": "https://localhost:8080/",
          "height": 107
        }
      },
      "source": [
        "##module minGPTonJulia\n",
        "\n",
        "\n",
        "import Random\n",
        "using Flux, Flux.Optimise\n",
        "using Flux: crossentropy, Momentum\n",
        "using Flux.Losses: logitcrossentropy\n",
        "using Flux: onehotbatch, onecold, OneHotVector\n",
        "using InformationMeasures\n",
        "using DataStructures: SortedSet\n",
        "using Transformers\n",
        "using Statistics\n",
        "using Transformers.Basic\n",
        "using Flux: @functor\n",
        "using BSON: @save, @load\n",
        "using Dates\n",
        "\n",
        "### We need to get a random value from the data, define it like distribution!!!\n",
        "s = open(\"input.txt\") do file\n",
        "    read(file, String)\n",
        "end\n",
        "@show datasize=length(s)\n",
        "\n",
        "chars=[SortedSet(s)...]\n",
        "@show vocabSize=length(chars)\n",
        "\n",
        "## each character gets the offset within the chars set.\n",
        "itos = Dict(ic for ic in zip(1:vocabSize, chars))\n",
        "stoi = Dict(ci for ci in zip(chars, 1:vocabSize))\n",
        "\n",
        "encodeString(s) = [stoi[c] for c in s]\n",
        "decodeOffsetToChar(i) = itos[i]\n",
        "function randomData(noSamples, lengthOfSamples)\n",
        "    res=[]\n",
        "    for i in 1:noSamples\n",
        "        ## For data size of 10 and 2 byte sample.\n",
        "        ## get a random number from 0 to 10-2+1 (9)\n",
        "        ## at extremes start = 1   get 1:1+2-1\n",
        "        ###            start = 9   get 9:9+2-1\n",
        "        start=rand(1:datasize-lengthOfSamples+1)   ## 0 to size-block length\n",
        "        push!(res, s[start:start+lengthOfSamples-1])\n",
        "    end\n",
        "    res\n",
        "end\n",
        "\n",
        "\n",
        "\n",
        "###end # module\n",
        "\n",
        "function trainingBatch(batchsize=511, blocksize=128)\n",
        "    samples = hcat( encodeString.(randomData(batchsize, blocksize+1))...)\n",
        "    xs=samples[1:end-1,:]\n",
        "    ys=samples[2:end,:]\n",
        "    xs,ys\n",
        "end\n",
        "\n",
        "\n",
        "# \"\"\"\n",
        "# GPT model:\n",
        "# - the initial stem consists of a combination of token encoding and a positional encoding\n",
        "# - the meat of it is a uniform sequence of Transformer blocks\n",
        "#     - each Transformer is a sequential combination of a 1-hidden-layer MLP block and a self-attention block\n",
        "#     - all blocks feed into a central residual pathway similar to resnets\n",
        "# - the final decoder is a linear projection into a vanilla Softmax classifier\n",
        "# \"\"\"\n",
        "\n",
        "struct minGPT{ EM<:Embed,\n",
        "                PM<:PositionEmbedding,\n",
        "\t\t\t\tDP<:Dropout,\n",
        "                C<:Chain,\n",
        "\t\t\t\tPW<:Positionwise\n",
        "                }\n",
        "    em::EM\n",
        "    pe::PM\n",
        "    emDrop::DP\n",
        "\tblocks::C\n",
        "    # mh::MA\n",
        "    # mhn::LA\n",
        "    # pw::P\n",
        "    # pwn::LP\n",
        "    # drop::DP\n",
        "\tpw::PW\n",
        "end\n",
        "\n",
        "@functor minGPT\n",
        "\n",
        "function minGPT(conf)\n",
        "  @show conf[\"num_attention_layers\"]\n",
        "\tattentions = ( Transformer(conf[\"hidden_size\"],\n",
        "\t\t\t\t\t\t\tconf[\"num_attention_heads\"],\n",
        "\t\t\t\t\t\t\t## hs is not specified, so internat attnetion size is calculated\n",
        "\t\t\t\t\t\t\t## ps is the size in the mlp block, 4 times the attention size\n",
        "\t\t\t\t\t\t\tconf[\"hidden_size\"]*4;\n",
        "\t\t\t\t\t\t\tfuture=true,\n",
        "\t\t\t\t\t\t\tact=conf[\"hidden_act\"],\n",
        "\t\t\t\t\t\t\tpdrop=conf[\"attn_pdrop\"])\n",
        "\t\t\tfor i in 1:conf[\"num_attention_layers\"])\n",
        "    minGPT(\n",
        "\t\t\tEmbed(conf[\"hidden_size\"], conf[\"vocab_size\"]),\n",
        "\t\t\tPositionEmbedding(\n",
        "\t  \t\t\tconf[\"hidden_size\"],\n",
        "\t  \t\t\tconf[\"max_position_embeddings\"];\n",
        "\t  \t\t\ttrainable = true),\n",
        "        \tDropout(conf[\"embd_pdrop\"]),\n",
        "\t\t\tChain(attentions...),\n",
        "\n",
        "\t\t\t#  NOTE THAT the multihead attention is not exported, but the transfomers are\n",
        "\t\t\t#  The transformer has a layer norm at the end\n",
        "\t\t\t#  for GPT we need to change the Pointwise and add gelu\n",
        "\t\t\tPositionwise(Dense(conf[\"hidden_size\"], conf[\"vocab_size\"])) #, logsoftmax)\n",
        "    )\n",
        "end\n",
        "\n",
        "function (g::minGPT)(x::T) where T\n",
        "\twe = g.em(x, inv(sqrt(size(g.em.embedding)[1]))) ## use the sqrt of embeding size\n",
        "\te = we .+ g.pe(we)\n",
        "    drop=g.emDrop(e)\n",
        "\tdec=g.blocks(drop)\n",
        "\tpw=g.pw(dec)\n",
        "end\n",
        "\n",
        "\n",
        "const config = Dict(\n",
        "  \"attention_probs_dropout_prob\" => 0.1,\n",
        "  \"initializer_range\"            => 0.02,\n",
        "  \"hidden_act\"                   => gelu,\n",
        "  \"num_hidden_layers\"            => 12,\n",
        "  \"hidden_size\"                  => 512,   ## embedding of each char in sentence\n",
        "  \"max_position_embeddings\"      => 128,   ## length of sentences\n",
        "  \"type_vocab_size\"              => 2,\n",
        "  \"vocab_size\"                   => vocabSize,\n",
        "  \"num_attention_heads\"          => 8,\n",
        "  \"num_attention_layers\"         => 1, #12,\n",
        "  \"hidden_dropout_prob\"          => 0.1,\n",
        "  \"intermediate_size\"            => 3072,\n",
        "  \"embd_pdrop\"\t\t\t\t\t => 0.1,\n",
        "  \"resid_pdrop\" \t\t\t     => 0.1,\n",
        "  \"attn_pdrop\"\t\t\t\t\t => 0.1\n",
        ")\n",
        "\n",
        "\n",
        "\n",
        "m = minGPT(config) |> gpu\n",
        "\n",
        "\n",
        "## x will be the input string, y would be the predicted string from x\n",
        "## y starts with 2nd character of x, and ends with character after the\n",
        "## last\n",
        "##  x and y would be the batch input and output\n",
        "## Note the final value is agg over the batch, default agg is mean\n",
        "function loss(x, y)\n",
        "\tdesiredLastCharPostion = y[end,:]\n",
        "\tdesiredLastCharOnehotEncoded = hcat([ OneHotVector(p, vocabSize)   for p in desiredLastCharPostion]...)\n",
        "\tpredictedDistOfLastChar = m(x)[:,end,:]\n",
        "\tlogitcrossentropy(predictedDistOfLastChar,desiredLastCharOnehotEncoded)\n",
        "end\n",
        "\n",
        "\n",
        "accuracy(x, y) = mean( onecold(softmax(m(x)[:,end,:]), chars) .== decodeOffsetToChar.(y[end,:]))\n",
        "\n",
        "\n",
        "## Try a run of the network with random data\n",
        "# note strings are encoded.  So the value of char is offset within the\n",
        "# chars array.    So the last character of the desiredOutput is the\n",
        "# offset of the deisred character.  That output of the model is distribution\n",
        "# over the chars.   SO we do the cross entropy with the prob at the location\n",
        "# of the desiredOutput's last char\n",
        "\n",
        "const trainConfig = Dict(\n",
        "\t\t\t\t\t  \"max_epochs\" => 10,   # 200,\n",
        "                      \"batch_size\" => 520,\n",
        "\t\t\t\t\t  \"learning_rate\" => 6e-4,\n",
        "                      \"lr_decay\" => true,\n",
        "\t\t\t\t\t  \"warmup_tokens\" => 512*20,\n",
        "                      \"num_workers\" => 4)\n",
        "\n",
        "ps = params(m)\n",
        "print(m)\n",
        "opt = ADAM(trainConfig[\"learning_rate\"])\n",
        "\n",
        "\n",
        "modelSaveName = \"model-$(now()).bson\"\n",
        "modelWeightName =  \"model-weights$(now()).bson\"\n",
        "\n",
        "function train!()\n",
        "\t@info trainConfig[\"batch_size\"], datasize÷trainConfig[\"batch_size\"]\n",
        "\t@info \"start training\"\n",
        "\tfor epoch = 1:trainConfig[\"max_epochs\"]\n",
        "\t  @show epoch\n",
        "\t  for i = 1:datasize÷trainConfig[\"batch_size\"]   ## sample random blocks\n",
        "      d = trainingBatch(trainConfig[\"batch_size\"]) |> gpu\n",
        "\t\t  @show ep,b, l = epoch, i, loss(d...)\n",
        "\t\t  grad = gradient(()->l, ps)\n",
        "\t\t  update!(opt, ps, grad)\n",
        "\t\t  if i % 10 == 0\n",
        "\t\t\t  @save  modelSaveName m\n",
        "\t\t\t  weights = params(m)\n",
        "\t\t\t  @save modelWeightName weights\n",
        "\t\t  end\n",
        "\t  end\n",
        "\t  @show accuracy(trainingBatch(trainConfig[\"batch_size\"])...)\n",
        "\n",
        "\tend\n",
        "end\n",
        "\n",
        "\n",
        "\n",
        "\n",
        "\n"
      ],
      "execution_count": 1,
      "outputs": [
        {
          "output_type": "stream",
          "text": [
            "datasize = length(s) = 1115394\n",
            "vocabSize = length(chars) = 65\n",
            "conf[\"num_attention_layers\"] = 1\n",
            "minGPT{Embed{Float32,CUDA.CuArray{Float32,2}},PositionEmbedding{Float32,CUDA.CuArray{Float32,2}},Dropout{Float64,Colon},Chain{Tuple{Transformer{Transformers.Basic.MultiheadAttention{Dense{typeof(identity),CUDA.CuArray{Float32,2},CUDA.CuArray{Float32,1}},Dense{typeof(identity),CUDA.CuArray{Float32,2},CUDA.CuArray{Float32,1}},Dense{typeof(identity),CUDA.CuArray{Float32,2},CUDA.CuArray{Float32,1}},Dense{typeof(identity),CUDA.CuArray{Float32,2},CUDA.CuArray{Float32,1}},Dropout{Float64,Colon}},LayerNorm{CUDA.CuArray{Float32,1}},Transformers.Basic.PwFFN{Dense{typeof(gelu),CUDA.CuArray{Float32,2},CUDA.CuArray{Float32,1}},Dense{typeof(identity),CUDA.CuArray{Float32,2},CUDA.CuArray{Float32,1}}},LayerNorm{CUDA.CuArray{Float32,1}},Dropout{Float64,Colon}}}},Positionwise{Tuple{Dense{typeof(identity),CUDA.CuArray{Float32,2},CUDA.CuArray{Float32,1}}}}}(Embed(512), PositionEmbedding(512, max_len=128), Dropout(0.1), Chain(Transformer(head=8, head_size=64, pwffn_size=2048, size=512)), Positionwise(Dense(512, 65)))"
          ],
          "name": "stdout"
        },
        {
          "output_type": "execute_result",
          "data": {
            "text/plain": [
              "train! (generic function with 1 method)"
            ]
          },
          "metadata": {
            "tags": []
          },
          "execution_count": 1
        }
      ]
    },
    {
      "cell_type": "code",
      "metadata": {
        "id": "yRnTxrkmbfOj",
        "outputId": "2c15dee2-f8ea-4c8c-e8ff-3ac7f543ec41",
        "colab": {
          "base_uri": "https://localhost:8080/",
          "height": 35
        }
      },
      "source": [
        "x,y  = trainingBatch(trainConfig[\"batch_size\"])"
      ],
      "execution_count": 6,
      "outputs": [
        {
          "output_type": "execute_result",
          "data": {
            "text/plain": [
              "([45 48 … 44 45; 54 53 … 51 2; … ; 31 33 … 58 47; 28 47 … 2 44], [54 53 … 51 2; 57 2 … 43 51; … ; 28 47 … 2 44; 24 48 … 59 2])"
            ]
          },
          "metadata": {
            "tags": []
          },
          "execution_count": 6
        }
      ]
    },
    {
      "cell_type": "code",
      "metadata": {
        "id": "sg0CHHQHbkri",
        "outputId": "701ae64a-7f87-4563-976a-c99df0df0930",
        "colab": {
          "base_uri": "https://localhost:8080/",
          "height": 72
        }
      },
      "source": [
        "m2 = minGPT(config)   ## RAM VERSION"
      ],
      "execution_count": 13,
      "outputs": [
        {
          "output_type": "stream",
          "text": [
            "conf[\"num_attention_layers\"] = 1\n"
          ],
          "name": "stdout"
        },
        {
          "output_type": "execute_result",
          "data": {
            "text/plain": [
              "minGPT{Embed{Float32,Array{Float32,2}},PositionEmbedding{Float32,Array{Float32,2}},Dropout{Float64,Colon},Chain{Tuple{Transformer{Transformers.Basic.MultiheadAttention{Dense{typeof(identity),Array{Float32,2},Array{Float32,1}},Dense{typeof(identity),Array{Float32,2},Array{Float32,1}},Dense{typeof(identity),Array{Float32,2},Array{Float32,1}},Dense{typeof(identity),Array{Float32,2},Array{Float32,1}},Dropout{Float64,Colon}},LayerNorm{Array{Float32,1}},Transformers.Basic.PwFFN{Dense{typeof(gelu),Array{Float32,2},Array{Float32,1}},Dense{typeof(identity),Array{Float32,2},Array{Float32,1}}},LayerNorm{Array{Float32,1}},Dropout{Float64,Colon}}}},Positionwise{Tuple{Dense{typeof(identity),Array{Float32,2},Array{Float32,1}}}}}(Embed(512), PositionEmbedding(512, max_len=128), Dropout(0.1), Chain(Transformer(head=8, head_size=64, pwffn_size=2048, size=512)), Positionwise(Dense(512, 65)))"
            ]
          },
          "metadata": {
            "tags": []
          },
          "execution_count": 13
        }
      ]
    },
    {
      "cell_type": "code",
      "metadata": {
        "id": "EqeCLa5ocJgn",
        "outputId": "569a7df3-7488-4932-a52c-88fd1c6a5172",
        "colab": {
          "base_uri": "https://localhost:8080/",
          "height": 35
        }
      },
      "source": [
        "typeof(m2(x))"
      ],
      "execution_count": 17,
      "outputs": [
        {
          "output_type": "execute_result",
          "data": {
            "text/plain": [
              "Array{Float32,3}"
            ]
          },
          "metadata": {
            "tags": []
          },
          "execution_count": 17
        }
      ]
    },
    {
      "cell_type": "code",
      "metadata": {
        "id": "DUSeqG5icrie",
        "outputId": "11408d72-8ae9-4d86-af13-8e69b38038c1",
        "colab": {
          "base_uri": "https://localhost:8080/",
          "height": 35
        }
      },
      "source": [
        "typeof(y)"
      ],
      "execution_count": 19,
      "outputs": [
        {
          "output_type": "execute_result",
          "data": {
            "text/plain": [
              "Array{Int64,2}"
            ]
          },
          "metadata": {
            "tags": []
          },
          "execution_count": 19
        }
      ]
    },
    {
      "cell_type": "code",
      "metadata": {
        "id": "gNfLtlJ6cxFs",
        "outputId": "d87bb19f-a949-466a-d239-f75ae418af78",
        "colab": {
          "base_uri": "https://localhost:8080/",
          "height": 35
        }
      },
      "source": [
        "function loss2(x, y)\n",
        "\tdesiredLastCharPostion = y[end,:]\n",
        "\tdesiredLastCharOnehotEncoded = hcat([ OneHotVector(p, vocabSize)   for p in desiredLastCharPostion]...)\n",
        "\tpredictedDistOfLastChar = m2(x)[:,end,:]\n",
        "\tlogitcrossentropy(predictedDistOfLastChar,desiredLastCharOnehotEncoded)\n",
        "end"
      ],
      "execution_count": 26,
      "outputs": [
        {
          "output_type": "execute_result",
          "data": {
            "text/plain": [
              "loss2 (generic function with 1 method)"
            ]
          },
          "metadata": {
            "tags": []
          },
          "execution_count": 26
        }
      ]
    },
    {
      "cell_type": "code",
      "metadata": {
        "id": "HtERGSPHc3S2",
        "outputId": "37001199-ef06-4877-8993-271bf4b76e79",
        "colab": {
          "base_uri": "https://localhost:8080/",
          "height": 87
        }
      },
      "source": [
        "loss2(x,y)"
      ],
      "execution_count": 29,
      "outputs": [
        {
          "output_type": "stream",
          "text": [
            "typeof(desiredLastCharPostion) = Array{Int64,1}\n",
            "typeof(desiredLastCharOnehotEncoded) = Flux.OneHotMatrix{Array{OneHotVector,1}}\n",
            "typeof(predictedDistOfLastChar) = Array{Float32,2}\n"
          ],
          "name": "stdout"
        },
        {
          "output_type": "execute_result",
          "data": {
            "text/plain": [
              "4.935269f0"
            ]
          },
          "metadata": {
            "tags": []
          },
          "execution_count": 29
        }
      ]
    },
    {
      "cell_type": "code",
      "metadata": {
        "id": "xhoDVZ1QeOmc",
        "outputId": "a329fd01-37fb-42c3-af21-5996ee8d85f4",
        "colab": {
          "base_uri": "https://localhost:8080/",
          "height": 723
        }
      },
      "source": [
        "xg = x |> gpu\n",
        "yg = y |> gpu\n",
        "loss(xg, yg)"
      ],
      "execution_count": 30,
      "outputs": [
        {
          "output_type": "error",
          "ename": "LoadError",
          "evalue": "ignored",
          "traceback": [
            "CUDA error: invalid argument (code 1, ERROR_INVALID_VALUE)",
            "",
            "Stacktrace:",
            " [1] throw_api_error(::CUDA.cudaError_enum) at /root/.julia/packages/CUDA/dZvbp/lib/cudadrv/error.jl:103",
            " [2] macro expansion at /root/.julia/packages/CUDA/dZvbp/lib/cudadrv/error.jl:110 [inlined]",
            " [3] cuLaunchKernel(::CUDA.CuFunction, ::UInt32, ::UInt32, ::UInt32, ::UInt32, ::UInt32, ::UInt32, ::Int64, ::CUDA.CuStream, ::Array{Ptr{Nothing},1}, ::Ptr{Nothing}) at /root/.julia/packages/CUDA/dZvbp/lib/utils/call.jl:93",
            " [4] #594 at /root/.julia/packages/CUDA/dZvbp/lib/cudadrv/execution.jl:69 [inlined]",
            " [5] macro expansion at /root/.julia/packages/CUDA/dZvbp/lib/cudadrv/execution.jl:33 [inlined]",
            " [6] pack_arguments at /root/.julia/packages/CUDA/dZvbp/lib/cudadrv/execution.jl:9 [inlined]",
            " [7] launch(::CUDA.CuFunction, ::CUDA.CuDeviceArray{Float32,3,CUDA.AS.Global}, ::CUDA.CuDeviceArray{Float32,2,CUDA.AS.Global}, ::CUDA.CuDeviceArray{Int64,2,CUDA.AS.Global}; blocks::Tuple{Int64,Int64}, threads::Tuple{Int64,Int64}, cooperative::Bool, shmem::Int64, stream::CUDA.CuStream) at /root/.julia/packages/CUDA/dZvbp/lib/cudadrv/execution.jl:62",
            " [8] #599 at /root/.julia/packages/CUDA/dZvbp/lib/cudadrv/execution.jl:138 [inlined]",
            " [9] macro expansion at /root/.julia/packages/CUDA/dZvbp/lib/cudadrv/execution.jl:97 [inlined]",
            " [10] convert_arguments at /root/.julia/packages/CUDA/dZvbp/lib/cudadrv/execution.jl:79 [inlined]",
            " [11] #cudacall#598 at /root/.julia/packages/CUDA/dZvbp/lib/cudadrv/execution.jl:137 [inlined]",
            " [12] #cudacall#777 at /root/.julia/packages/CUDA/dZvbp/src/compiler/execution.jl:218 [inlined]",
            " [13] macro expansion at /root/.julia/packages/CUDA/dZvbp/src/compiler/execution.jl:199 [inlined]",
            " [14] #call#761 at /root/.julia/packages/CUDA/dZvbp/src/compiler/execution.jl:170 [inlined]",
            " [15] #_#780 at /root/.julia/packages/CUDA/dZvbp/src/compiler/execution.jl:347 [inlined]",
            " [16] macro expansion at /root/.julia/packages/CUDA/dZvbp/src/compiler/execution.jl:110 [inlined]",
            " [17] gather(::CUDA.CuArray{Float32,2}, ::CUDA.CuArray{Int64,2}) at /root/.julia/packages/Transformers/ko7g9/src/cuda/gather_gpu.jl:26",
            " [18] (::Embed{Float32,CUDA.CuArray{Float32,2}})(::CUDA.CuArray{Int64,2}, ::Float64) at /root/.julia/packages/Transformers/ko7g9/src/basic/embeds/embed.jl:25",
            " [19] (::minGPT{Embed{Float32,CUDA.CuArray{Float32,2}},PositionEmbedding{Float32,CUDA.CuArray{Float32,2}},Dropout{Float64,Colon},Chain{Tuple{Transformer{Transformers.Basic.MultiheadAttention{Dense{typeof(identity),CUDA.CuArray{Float32,2},CUDA.CuArray{Float32,1}},Dense{typeof(identity),CUDA.CuArray{Float32,2},CUDA.CuArray{Float32,1}},Dense{typeof(identity),CUDA.CuArray{Float32,2},CUDA.CuArray{Float32,1}},Dense{typeof(identity),CUDA.CuArray{Float32,2},CUDA.CuArray{Float32,1}},Dropout{Float64,Colon}},LayerNorm{CUDA.CuArray{Float32,1}},Transformers.Basic.PwFFN{Dense{typeof(gelu),CUDA.CuArray{Float32,2},CUDA.CuArray{Float32,1}},Dense{typeof(identity),CUDA.CuArray{Float32,2},CUDA.CuArray{Float32,1}}},LayerNorm{CUDA.CuArray{Float32,1}},Dropout{Float64,Colon}}}},Positionwise{Tuple{Dense{typeof(identity),CUDA.CuArray{Float32,2},CUDA.CuArray{Float32,1}}}}})(::CUDA.CuArray{Int64,2}) at ./In[1]:115",
            " [20] loss(::CUDA.CuArray{Int64,2}, ::CUDA.CuArray{Int64,2}) at ./In[1]:154",
            " [21] top-level scope at In[30]:3",
            " [22] include_string(::Function, ::Module, ::String, ::String) at ./loading.jl:1091",
            " [23] execute_code(::String, ::String) at /root/.julia/packages/IJulia/rWZ9e/src/execute_request.jl:27",
            " [24] execute_request(::ZMQ.Socket, ::IJulia.Msg) at /root/.julia/packages/IJulia/rWZ9e/src/execute_request.jl:86",
            " [25] #invokelatest#1 at ./essentials.jl:710 [inlined]",
            " [26] invokelatest at ./essentials.jl:709 [inlined]",
            " [27] eventloop(::ZMQ.Socket) at /root/.julia/packages/IJulia/rWZ9e/src/eventloop.jl:8",
            " [28] (::IJulia.var\"#15#18\")() at ./task.jl:356"
          ]
        }
      ]
    },
    {
      "cell_type": "code",
      "metadata": {
        "id": "3foi5coodAXK",
        "outputId": "f88eab63-1efe-4a05-8484-795bea79bb71",
        "colab": {
          "base_uri": "https://localhost:8080/",
          "height": 35
        }
      },
      "source": [
        "typeof(chars)"
      ],
      "execution_count": 22,
      "outputs": [
        {
          "output_type": "execute_result",
          "data": {
            "text/plain": [
              "Array{Char,1}"
            ]
          },
          "metadata": {
            "tags": []
          },
          "execution_count": 22
        }
      ]
    },
    {
      "cell_type": "code",
      "metadata": {
        "id": "DvNoyNCYYFH3",
        "outputId": "6d9bc811-da15-4e78-88a9-c53cc8850895",
        "colab": {
          "base_uri": "https://localhost:8080/",
          "height": 879
        }
      },
      "source": [
        "train!()"
      ],
      "execution_count": 2,
      "outputs": [
        {
          "output_type": "stream",
          "text": [
            "epoch = 1\n"
          ],
          "name": "stdout"
        },
        {
          "output_type": "stream",
          "text": [
            "┌ Info: (520, 2144)\n",
            "└ @ Main In[1]:186\n",
            "┌ Info: start training\n",
            "└ @ Main In[1]:187\n",
            "┌ Warning: Performing scalar operations on GPU arrays: This is very slow, consider disallowing these operations with `allowscalar(false)`\n",
            "└ @ GPUArrays /root/.julia/packages/GPUArrays/uaFZh/src/host/indexing.jl:43\n"
          ],
          "name": "stderr"
        },
        {
          "output_type": "error",
          "ename": "LoadError",
          "evalue": "ignored",
          "traceback": [
            "CUDA error: invalid argument (code 1, ERROR_INVALID_VALUE)",
            "",
            "Stacktrace:",
            " [1] throw_api_error(::CUDA.cudaError_enum) at /root/.julia/packages/CUDA/dZvbp/lib/cudadrv/error.jl:103",
            " [2] macro expansion at /root/.julia/packages/CUDA/dZvbp/lib/cudadrv/error.jl:110 [inlined]",
            " [3] cuLaunchKernel(::CUDA.CuFunction, ::UInt32, ::UInt32, ::UInt32, ::UInt32, ::UInt32, ::UInt32, ::Int64, ::CUDA.CuStream, ::Array{Ptr{Nothing},1}, ::Ptr{Nothing}) at /root/.julia/packages/CUDA/dZvbp/lib/utils/call.jl:93",
            " [4] #594 at /root/.julia/packages/CUDA/dZvbp/lib/cudadrv/execution.jl:69 [inlined]",
            " [5] macro expansion at /root/.julia/packages/CUDA/dZvbp/lib/cudadrv/execution.jl:33 [inlined]",
            " [6] pack_arguments at /root/.julia/packages/CUDA/dZvbp/lib/cudadrv/execution.jl:9 [inlined]",
            " [7] launch(::CUDA.CuFunction, ::CUDA.CuDeviceArray{Float32,3,CUDA.AS.Global}, ::CUDA.CuDeviceArray{Float32,2,CUDA.AS.Global}, ::CUDA.CuDeviceArray{Int64,2,CUDA.AS.Global}; blocks::Tuple{Int64,Int64}, threads::Tuple{Int64,Int64}, cooperative::Bool, shmem::Int64, stream::CUDA.CuStream) at /root/.julia/packages/CUDA/dZvbp/lib/cudadrv/execution.jl:62",
            " [8] #599 at /root/.julia/packages/CUDA/dZvbp/lib/cudadrv/execution.jl:138 [inlined]",
            " [9] macro expansion at /root/.julia/packages/CUDA/dZvbp/lib/cudadrv/execution.jl:97 [inlined]",
            " [10] convert_arguments at /root/.julia/packages/CUDA/dZvbp/lib/cudadrv/execution.jl:79 [inlined]",
            " [11] #cudacall#598 at /root/.julia/packages/CUDA/dZvbp/lib/cudadrv/execution.jl:137 [inlined]",
            " [12] #cudacall#777 at /root/.julia/packages/CUDA/dZvbp/src/compiler/execution.jl:218 [inlined]",
            " [13] macro expansion at /root/.julia/packages/CUDA/dZvbp/src/compiler/execution.jl:199 [inlined]",
            " [14] #call#761 at /root/.julia/packages/CUDA/dZvbp/src/compiler/execution.jl:170 [inlined]",
            " [15] #_#780 at /root/.julia/packages/CUDA/dZvbp/src/compiler/execution.jl:347 [inlined]",
            " [16] macro expansion at /root/.julia/packages/CUDA/dZvbp/src/compiler/execution.jl:110 [inlined]",
            " [17] gather(::CUDA.CuArray{Float32,2}, ::CUDA.CuArray{Int64,2}) at /root/.julia/packages/Transformers/ko7g9/src/cuda/gather_gpu.jl:26",
            " [18] (::Embed{Float32,CUDA.CuArray{Float32,2}})(::CUDA.CuArray{Int64,2}, ::Float64) at /root/.julia/packages/Transformers/ko7g9/src/basic/embeds/embed.jl:25",
            " [19] (::minGPT{Embed{Float32,CUDA.CuArray{Float32,2}},PositionEmbedding{Float32,CUDA.CuArray{Float32,2}},Dropout{Float64,Colon},Chain{Tuple{Transformer{Transformers.Basic.MultiheadAttention{Dense{typeof(identity),CUDA.CuArray{Float32,2},CUDA.CuArray{Float32,1}},Dense{typeof(identity),CUDA.CuArray{Float32,2},CUDA.CuArray{Float32,1}},Dense{typeof(identity),CUDA.CuArray{Float32,2},CUDA.CuArray{Float32,1}},Dense{typeof(identity),CUDA.CuArray{Float32,2},CUDA.CuArray{Float32,1}},Dropout{Float64,Colon}},LayerNorm{CUDA.CuArray{Float32,1}},Transformers.Basic.PwFFN{Dense{typeof(gelu),CUDA.CuArray{Float32,2},CUDA.CuArray{Float32,1}},Dense{typeof(identity),CUDA.CuArray{Float32,2},CUDA.CuArray{Float32,1}}},LayerNorm{CUDA.CuArray{Float32,1}},Dropout{Float64,Colon}}}},Positionwise{Tuple{Dense{typeof(identity),CUDA.CuArray{Float32,2},CUDA.CuArray{Float32,1}}}}})(::CUDA.CuArray{Int64,2}) at ./In[1]:115",
            " [20] loss(::CUDA.CuArray{Int64,2}, ::CUDA.CuArray{Int64,2}) at ./In[1]:154",
            " [21] macro expansion at ./show.jl:641 [inlined]",
            " [22] train!() at ./In[1]:192",
            " [23] top-level scope at In[2]:1",
            " [24] include_string(::Function, ::Module, ::String, ::String) at ./loading.jl:1091",
            " [25] execute_code(::String, ::String) at /root/.julia/packages/IJulia/rWZ9e/src/execute_request.jl:27",
            " [26] execute_request(::ZMQ.Socket, ::IJulia.Msg) at /root/.julia/packages/IJulia/rWZ9e/src/execute_request.jl:86",
            " [27] #invokelatest#1 at ./essentials.jl:710 [inlined]",
            " [28] invokelatest at ./essentials.jl:709 [inlined]",
            " [29] eventloop(::ZMQ.Socket) at /root/.julia/packages/IJulia/rWZ9e/src/eventloop.jl:8",
            " [30] (::IJulia.var\"#15#18\")() at ./task.jl:356"
          ]
        }
      ]
    },
    {
      "cell_type": "code",
      "metadata": {
        "id": "kHXB7D69hAt2",
        "outputId": "cd02cbae-187e-4d23-ed2a-edbd7ee01019",
        "colab": {
          "base_uri": "https://localhost:8080/",
          "height": 496
        }
      },
      "source": [
        "\n",
        "N = 2^10\n",
        "x = fill(1.0f0, N)  # a vector filled with 1.0 (Float32)\n",
        "y = fill(2.0f0, N)  # a vector filled with 2.0\n",
        "\n",
        "x_d = CUDA.fill(1.0f0, N)  # a vector stored on the GPU filled with 1.0 (Float32)\n",
        "y_d = CUDA.fill(2.0f0, N)  # a vector stored on the GPU filled with 2.0"
      ],
      "execution_count": null,
      "outputs": [
        {
          "output_type": "execute_result",
          "data": {
            "text/plain": [
              "1024-element CuArray{Float32,1}:\n",
              " 2.0\n",
              " 2.0\n",
              " 2.0\n",
              " 2.0\n",
              " 2.0\n",
              " 2.0\n",
              " 2.0\n",
              " 2.0\n",
              " 2.0\n",
              " 2.0\n",
              " 2.0\n",
              " 2.0\n",
              " 2.0\n",
              " ⋮\n",
              " 2.0\n",
              " 2.0\n",
              " 2.0\n",
              " 2.0\n",
              " 2.0\n",
              " 2.0\n",
              " 2.0\n",
              " 2.0\n",
              " 2.0\n",
              " 2.0\n",
              " 2.0\n",
              " 2.0"
            ]
          },
          "metadata": {
            "tags": []
          },
          "execution_count": 4
        }
      ]
    },
    {
      "cell_type": "code",
      "metadata": {
        "id": "qrgl-x8GhTO_",
        "outputId": "42620c99-c42d-45cb-9aa9-792c12892fd2",
        "colab": {
          "base_uri": "https://localhost:8080/",
          "height": 514
        }
      },
      "source": [
        "@time  y .+= x"
      ],
      "execution_count": null,
      "outputs": [
        {
          "output_type": "stream",
          "text": [
            "  0.000016 seconds (2 allocations: 64 bytes)\n"
          ],
          "name": "stdout"
        },
        {
          "output_type": "execute_result",
          "data": {
            "text/plain": [
              "1024-element Array{Float32,1}:\n",
              " 5.0\n",
              " 5.0\n",
              " 5.0\n",
              " 5.0\n",
              " 5.0\n",
              " 5.0\n",
              " 5.0\n",
              " 5.0\n",
              " 5.0\n",
              " 5.0\n",
              " 5.0\n",
              " 5.0\n",
              " 5.0\n",
              " ⋮\n",
              " 5.0\n",
              " 5.0\n",
              " 5.0\n",
              " 5.0\n",
              " 5.0\n",
              " 5.0\n",
              " 5.0\n",
              " 5.0\n",
              " 5.0\n",
              " 5.0\n",
              " 5.0\n",
              " 5.0"
            ]
          },
          "metadata": {
            "tags": []
          },
          "execution_count": 9
        }
      ]
    },
    {
      "cell_type": "code",
      "metadata": {
        "id": "mU3-DT00kNYg",
        "outputId": "47ce4996-b286-4b94-c54f-7ca8a880ce77",
        "colab": {
          "base_uri": "https://localhost:8080/",
          "height": 514
        }
      },
      "source": [
        "@time y_d .+= x_d"
      ],
      "execution_count": null,
      "outputs": [
        {
          "output_type": "stream",
          "text": [
            "  0.000082 seconds (27 allocations: 704 bytes)\n"
          ],
          "name": "stdout"
        },
        {
          "output_type": "execute_result",
          "data": {
            "text/plain": [
              "1024-element CuArray{Float32,1}:\n",
              " 5.0\n",
              " 5.0\n",
              " 5.0\n",
              " 5.0\n",
              " 5.0\n",
              " 5.0\n",
              " 5.0\n",
              " 5.0\n",
              " 5.0\n",
              " 5.0\n",
              " 5.0\n",
              " 5.0\n",
              " 5.0\n",
              " ⋮\n",
              " 5.0\n",
              " 5.0\n",
              " 5.0\n",
              " 5.0\n",
              " 5.0\n",
              " 5.0\n",
              " 5.0\n",
              " 5.0\n",
              " 5.0\n",
              " 5.0\n",
              " 5.0\n",
              " 5.0"
            ]
          },
          "metadata": {
            "tags": []
          },
          "execution_count": 10
        }
      ]
    },
    {
      "cell_type": "code",
      "metadata": {
        "id": "j-wkhea8kS09",
        "outputId": "8ad857d9-46f6-48b1-e112-d5299e89cdc1",
        "colab": {
          "base_uri": "https://localhost:8080/",
          "height": 1000
        }
      },
      "source": [
        "# Classifies MNIST digits with a convolutional network.\n",
        "# Writes out saved model to the file \"mnist_conv.bson\".\n",
        "# Demonstrates basic model construction, training, saving,\n",
        "# conditional early-exit, and learning rate scheduling.\n",
        "#\n",
        "# This model, while simple, should hit around 99% test\n",
        "# accuracy after training for approximately 20 epochs.\n",
        "\n",
        "using Flux, Flux.Data.MNIST, Statistics\n",
        "using Flux: onehotbatch, onecold, logitcrossentropy\n",
        "using Base.Iterators: partition\n",
        "using Printf, BSON\n",
        "using Parameters: @with_kw\n",
        "#using CUDAapi\n",
        "# if has_cuda()\n",
        "#     @info \"CUDA is on\"\n",
        "#     import CuArrays\n",
        "#     CuArrays.allowscalar(false)\n",
        "# end\n",
        "\n",
        "@with_kw mutable struct Args\n",
        "    lr::Float64 = 3e-3\n",
        "    epochs::Int = 20\n",
        "    batch_size = 128\n",
        "    savepath::String = \"./\" \n",
        "end\n",
        "\n",
        "# Bundle images together with labels and group into minibatchess\n",
        "function make_minibatch(X, Y, idxs)\n",
        "    X_batch = Array{Float32}(undef, size(X[1])..., 1, length(idxs))\n",
        "    for i in 1:length(idxs)\n",
        "        X_batch[:, :, :, i] = Float32.(X[idxs[i]])\n",
        "    end\n",
        "    Y_batch = onehotbatch(Y[idxs], 0:9)\n",
        "    return (X_batch, Y_batch)\n",
        "end\n",
        "\n",
        "function get_processed_data(args)\n",
        "    # Load labels and images from Flux.Data.MNIST\n",
        "    train_labels = MNIST.labels()\n",
        "    train_imgs = MNIST.images()\n",
        "    mb_idxs = partition(1:length(train_imgs), args.batch_size)\n",
        "    train_set = [make_minibatch(train_imgs, train_labels, i) for i in mb_idxs] \n",
        "    \n",
        "    # Prepare test set as one giant minibatch:\n",
        "    test_imgs = MNIST.images(:test)\n",
        "    test_labels = MNIST.labels(:test)\n",
        "    test_set = make_minibatch(test_imgs, test_labels, 1:length(test_imgs))\n",
        "\n",
        "    return train_set, test_set\n",
        "\n",
        "end\n",
        "\n",
        "# Build model\n",
        "function build_model(args; imgsize = (28,28,1), nclasses = 10)\n",
        "    cnn_output_size = Int.(floor.([imgsize[1]/8,imgsize[2]/8,32]))\t\n",
        "\n",
        "    return Chain(\n",
        "    # First convolution, operating upon a 28x28 image\n",
        "    Conv((3, 3), imgsize[3]=>16, pad=(1,1), relu),\n",
        "    MaxPool((2,2)),\n",
        "\n",
        "    # Second convolution, operating upon a 14x14 image\n",
        "    Conv((3, 3), 16=>32, pad=(1,1), relu),\n",
        "    MaxPool((2,2)),\n",
        "\n",
        "    # Third convolution, operating upon a 7x7 image\n",
        "    Conv((3, 3), 32=>32, pad=(1,1), relu),\n",
        "    MaxPool((2,2)),\n",
        "\n",
        "    # Reshape 3d tensor into a 2d one using `Flux.flatten`, at this point it should be (3, 3, 32, N)\n",
        "    flatten,\n",
        "    Dense(prod(cnn_output_size), 10))\n",
        "end\n",
        "\n",
        "# We augment `x` a little bit here, adding in random noise. \n",
        "augment(x) = x .+ gpu(0.1f0*randn(eltype(x), size(x)))\n",
        "\n",
        "# Returns a vector of all parameters used in model\n",
        "paramvec(m) = vcat(map(p->reshape(p, :), params(m))...)\n",
        "\n",
        "# Function to check if any element is NaN or not\n",
        "anynan(x) = any(isnan.(x))\n",
        "\n",
        "accuracy(x, y, model) = mean(onecold(cpu(model(x))) .== onecold(cpu(y)))\n",
        "\n",
        "function train(; kws...)\t\n",
        "    args = Args(; kws...)\n",
        "\n",
        "    @info(\"Loading data set\")\n",
        "    train_set, test_set = get_processed_data(args)\n",
        "\n",
        "    # Define our model.  We will use a simple convolutional architecture with\n",
        "    # three iterations of Conv -> ReLU -> MaxPool, followed by a final Dense layer.\n",
        "    @info(\"Building model...\")\n",
        "    model = build_model(args) \n",
        "\n",
        "    # Load model and datasets onto GPU, if enabled\n",
        "    train_set = gpu.(train_set)\n",
        "    test_set = gpu.(test_set)\n",
        "    model = gpu(model)\n",
        "    \n",
        "    # Make sure our model is nicely precompiled before starting our training loop\n",
        "    model(train_set[1][1])\n",
        "\n",
        "    # `loss()` calculates the crossentropy loss between our prediction `y_hat`\n",
        "    # (calculated from `model(x)`) and the ground truth `y`.  We augment the data\n",
        "    # a bit, adding gaussian random noise to our image to make it more robust.\n",
        "    function loss(x, y)    \n",
        "        x̂ = augment(x)\n",
        "        ŷ = model(x̂)\n",
        "        return logitcrossentropy(ŷ, y)\n",
        "    end\n",
        "\t\n",
        "    # Train our model with the given training set using the ADAM optimizer and\n",
        "    # printing out performance against the test set as we go.\n",
        "    opt = ADAM(args.lr)\n",
        "\t\n",
        "    @info(\"Beginning training loop...\")\n",
        "    best_acc = 0.0\n",
        "    last_improvement = 0\n",
        "    for epoch_idx in 1:args.epochs\n",
        "        # Train for a single epoch\n",
        "        Flux.train!(loss, params(model), train_set, opt)\n",
        "\t    \n",
        "        # Terminate on NaN\n",
        "        if anynan(paramvec(model))\n",
        "            @error \"NaN params\"\n",
        "            break\n",
        "        end\n",
        "\t\n",
        "        # Calculate accuracy:\n",
        "        acc = accuracy(test_set..., model)\n",
        "\t\t\n",
        "        @info(@sprintf(\"[%d]: Test accuracy: %.4f\", epoch_idx, acc))\n",
        "        # If our accuracy is good enough, quit out.\n",
        "        if acc >= 0.999\n",
        "            @info(\" -> Early-exiting: We reached our target accuracy of 99.9%\")\n",
        "            break\n",
        "        end\n",
        "\t\n",
        "        # If this is the best accuracy we've seen so far, save the model out\n",
        "        if acc >= best_acc\n",
        "            @info(\" -> New best accuracy! Saving model out to mnist_conv.bson\")\n",
        "            BSON.@save joinpath(args.savepath, \"mnist_conv.bson\") params=cpu.(params(model)) epoch_idx acc\n",
        "            best_acc = acc\n",
        "            last_improvement = epoch_idx\n",
        "        end\n",
        "\t\n",
        "        # If we haven't seen improvement in 5 epochs, drop our learning rate:\n",
        "        if epoch_idx - last_improvement >= 5 && opt.eta > 1e-6\n",
        "            opt.eta /= 10.0\n",
        "            @warn(\" -> Haven't improved in a while, dropping learning rate to $(opt.eta)!\")\n",
        "   \n",
        "            # After dropping learning rate, give it a few epochs to improve\n",
        "            last_improvement = epoch_idx\n",
        "        end\n",
        "\t\n",
        "        if epoch_idx - last_improvement >= 10\n",
        "            @warn(\" -> We're calling this converged.\")\n",
        "            break\n",
        "        end\n",
        "    end\n",
        "end\n",
        "\n",
        "# Testing the model, from saved model\n",
        "function test(; kws...)\n",
        "    args = Args(; kws...)\n",
        "    \n",
        "    # Loading the test data\n",
        "    _,test_set = get_processed_data(args)\n",
        "    \n",
        "    # Re-constructing the model with random initial weights\n",
        "    model = build_model(args)\n",
        "    \n",
        "    # Loading the saved parameters\n",
        "    BSON.@load joinpath(args.savepath, \"mnist_conv.bson\") params\n",
        "    \n",
        "    # Loading parameters onto the model\n",
        "    Flux.loadparams!(model, params)\n",
        "    \n",
        "    test_set = gpu.(test_set)\n",
        "    model = gpu(model)\n",
        "    @show accuracy(test_set...,model)\n",
        "end\n",
        "\n",
        "cd(@__DIR__) \n",
        "train()\n",
        "test()"
      ],
      "execution_count": null,
      "outputs": [
        {
          "output_type": "stream",
          "text": [
            "┌ Info: Loading data set\n",
            "└ @ Main In[13]:90\n",
            "┌ Info: Building model...\n",
            "└ @ Main In[13]:95\n",
            "┌ Info: Beginning training loop...\n",
            "└ @ Main In[13]:119\n",
            "┌ Info: [1]: Test accuracy: 0.9820\n",
            "└ @ Main In[13]:135\n",
            "┌ Info:  -> New best accuracy! Saving model out to mnist_conv.bson\n",
            "└ @ Main In[13]:144\n",
            "┌ Info: [2]: Test accuracy: 0.9871\n",
            "└ @ Main In[13]:135\n",
            "┌ Info:  -> New best accuracy! Saving model out to mnist_conv.bson\n",
            "└ @ Main In[13]:144\n",
            "┌ Info: [3]: Test accuracy: 0.9888\n",
            "└ @ Main In[13]:135\n",
            "┌ Info:  -> New best accuracy! Saving model out to mnist_conv.bson\n",
            "└ @ Main In[13]:144\n",
            "┌ Info: [4]: Test accuracy: 0.9852\n",
            "└ @ Main In[13]:135\n",
            "┌ Info: [5]: Test accuracy: 0.9820\n",
            "└ @ Main In[13]:135\n",
            "┌ Info: [6]: Test accuracy: 0.9885\n",
            "└ @ Main In[13]:135\n",
            "┌ Info: [7]: Test accuracy: 0.9873\n",
            "└ @ Main In[13]:135\n",
            "┌ Info: [8]: Test accuracy: 0.9886\n",
            "└ @ Main In[13]:135\n",
            "┌ Warning:  -> Haven't improved in a while, dropping learning rate to 0.00030000000000000003!\n",
            "└ @ Main In[13]:153\n",
            "┌ Info: [9]: Test accuracy: 0.9926\n",
            "└ @ Main In[13]:135\n",
            "┌ Info:  -> New best accuracy! Saving model out to mnist_conv.bson\n",
            "└ @ Main In[13]:144\n",
            "┌ Info: [10]: Test accuracy: 0.9926\n",
            "└ @ Main In[13]:135\n",
            "┌ Info:  -> New best accuracy! Saving model out to mnist_conv.bson\n",
            "└ @ Main In[13]:144\n",
            "┌ Info: [11]: Test accuracy: 0.9927\n",
            "└ @ Main In[13]:135\n",
            "┌ Info:  -> New best accuracy! Saving model out to mnist_conv.bson\n",
            "└ @ Main In[13]:144\n",
            "┌ Info: [12]: Test accuracy: 0.9925\n",
            "└ @ Main In[13]:135\n",
            "┌ Info: [13]: Test accuracy: 0.9928\n",
            "└ @ Main In[13]:135\n",
            "┌ Info:  -> New best accuracy! Saving model out to mnist_conv.bson\n",
            "└ @ Main In[13]:144\n",
            "┌ Info: [14]: Test accuracy: 0.9928\n",
            "└ @ Main In[13]:135\n",
            "┌ Info:  -> New best accuracy! Saving model out to mnist_conv.bson\n",
            "└ @ Main In[13]:144\n",
            "┌ Info: [15]: Test accuracy: 0.9926\n",
            "└ @ Main In[13]:135\n",
            "┌ Info: [16]: Test accuracy: 0.9926\n",
            "└ @ Main In[13]:135\n",
            "┌ Info: [17]: Test accuracy: 0.9925\n",
            "└ @ Main In[13]:135\n",
            "┌ Info: [18]: Test accuracy: 0.9928\n",
            "└ @ Main In[13]:135\n",
            "┌ Info:  -> New best accuracy! Saving model out to mnist_conv.bson\n",
            "└ @ Main In[13]:144\n",
            "┌ Info: [19]: Test accuracy: 0.9925\n",
            "└ @ Main In[13]:135\n",
            "┌ Info: [20]: Test accuracy: 0.9922\n",
            "└ @ Main In[13]:135\n"
          ],
          "name": "stderr"
        },
        {
          "output_type": "stream",
          "text": [
            "accuracy(test_set..., model) = 0.9928\n"
          ],
          "name": "stdout"
        },
        {
          "output_type": "execute_result",
          "data": {
            "text/plain": [
              "0.9928"
            ]
          },
          "metadata": {
            "tags": []
          },
          "execution_count": 13
        }
      ]
    },
    {
      "cell_type": "code",
      "metadata": {
        "id": "iF6s-zyoo4OA",
        "outputId": "95bb7286-13c8-45fe-fdd7-04e66f3b8f67",
        "colab": {
          "base_uri": "https://localhost:8080/",
          "height": 87
        }
      },
      "source": [
        "[1,2,3]"
      ],
      "execution_count": null,
      "outputs": [
        {
          "output_type": "execute_result",
          "data": {
            "text/plain": [
              "3-element Array{Int64,1}:\n",
              " 1\n",
              " 2\n",
              " 3"
            ]
          },
          "metadata": {
            "tags": []
          },
          "execution_count": 14
        }
      ]
    },
    {
      "cell_type": "code",
      "metadata": {
        "id": "Li2q8F1Cph3_"
      },
      "source": [
        ""
      ],
      "execution_count": null,
      "outputs": []
    }
  ]
}