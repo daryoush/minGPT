{
  "nbformat": 4,
  "nbformat_minor": 0,
  "metadata": {
    "colab": {
      "name": "startjulia1.5.ipynb",
      "provenance": [],
      "toc_visible": true,
      "include_colab_link": true
    },
    "kernelspec": {
      "name": "julia-1.5",
      "display_name": "Julia 1.5"
    },
    "accelerator": "GPU"
  },
  "cells": [
    {
      "cell_type": "markdown",
      "metadata": {
        "id": "view-in-github",
        "colab_type": "text"
      },
      "source": [
        "<a href=\"https://colab.research.google.com/github/daryoush/minGPT/blob/master/startjulia1_5.ipynb\" target=\"_parent\"><img src=\"https://colab.research.google.com/assets/colab-badge.svg\" alt=\"Open In Colab\"/></a>"
      ]
    },
    {
      "cell_type": "code",
      "metadata": {
        "colab": {
          "base_uri": "https://localhost:8080/"
        },
        "id": "hSuEgBeJCRbu",
        "outputId": "1610ba54-16fe-45dd-d4f4-ae1b15d489d0"
      },
      "source": [
        "from google.colab import drive\n",
        "drive.mount('/content/gdrive')\n"
      ],
      "execution_count": 1,
      "outputs": [
        {
          "output_type": "stream",
          "text": [
            "Mounted at /content/gdrive\n"
          ],
          "name": "stdout"
        }
      ]
    },
    {
      "cell_type": "code",
      "metadata": {
        "colab": {
          "base_uri": "https://localhost:8080/"
        },
        "id": "rGCxW9ZpEpgQ",
        "outputId": "24deb622-6310-473d-a95f-1a858c224638"
      },
      "source": [
        "%cd /content/gdrive/My Drive/\n",
        "#! git clone https://github.com/daryoush/minGPT.git\n",
        "%cd minGPT\n",
        "! git pull\n",
        "#! pip install <desired-python-library>"
      ],
      "execution_count": 2,
      "outputs": [
        {
          "output_type": "stream",
          "text": [
            "/content/gdrive/My Drive\n",
            "/content/gdrive/My Drive/minGPT\n",
            "remote: Enumerating objects: 5, done.\u001b[K\n",
            "remote: Counting objects: 100% (5/5), done.\u001b[K\n",
            "remote: Compressing objects: 100% (3/3), done.\u001b[K\n",
            "remote: Total 3 (delta 2), reused 0 (delta 0), pack-reused 0\u001b[K\n",
            "Unpacking objects: 100% (3/3), done.\n",
            "From https://github.com/daryoush/minGPT\n",
            "   22fab47..34ca2ed  master     -> origin/master\n",
            "Updating 22fab47..34ca2ed\n",
            "Fast-forward\n",
            " startjulia1_5.ipynb | 577 \u001b[32m++++++++++++++++++++++++\u001b[m\u001b[31m----------------------------\u001b[m\n",
            " 1 file changed, 261 insertions(+), 316 deletions(-)\n"
          ],
          "name": "stdout"
        }
      ]
    },
    {
      "cell_type": "markdown",
      "metadata": {
        "id": "0w4VnqTlDiFT"
      },
      "source": [
        "# New Section"
      ]
    },
    {
      "cell_type": "code",
      "metadata": {
        "id": "oMSuTc3pDlHv",
        "colab": {
          "base_uri": "https://localhost:8080/"
        },
        "outputId": "a6b4adbe-0750-42b6-da15-94f31087aa47"
      },
      "source": [
        "### NOTE THIS WORKS AS PYTHON, IT ONLY WORKS WHEN THE RUNTIME COMPLAINS ABOUT JULIA RUNTIME, SO IT REVERTS TO PYTHON. AFTER JULIA IS INSTALLED, CHANGE TO JULIA RUNTIME\n",
        "\n",
        "!curl -sSL \"https://julialang-s3.julialang.org/bin/linux/x64/1.5/julia-1.5.0-linux-x86_64.tar.gz\" -o julia.tar.gz\n",
        "!tar -xzf julia.tar.gz -C /usr --strip-components 1\n",
        "!rm -rf julia.tar.gz*\n",
        "!julia -e 'using Pkg; pkg\"add IJulia; precompile\"'\n",
        "!julia -e 'using Pkg; Pkg.add([ \"CUDA\", \"Flux\",\"Zygote\",\"Profile\", \"TensorBoardLogger\", \"Logging\",\\\n",
        "    \"Random\",\"InformationMeasures\", \"DataStructures\", \"Transformers\",\"Statistics\", \"Dates\",\\\n",
        "    \"BSON\",\\\n",
        "    \"Images\",\\\n",
        "    \"MLDatasets\",\\\n",
        "    \"Parameters\",\\\n",
        "    \"Printf\",\\\n",
        "    ]);' ###Pkg.precompile()'\n",
        "!echo \"DONE\""
      ],
      "execution_count": 3,
      "outputs": [
        {
          "output_type": "stream",
          "text": [
            "\u001b[32m\u001b[1m Installing\u001b[22m\u001b[39m known registries into `~/.julia`\n",
            "######################################################################## 100.0%\n",
            "\u001b[32m\u001b[1m      Added\u001b[22m\u001b[39m registry `General` to `~/.julia/registries/General`\n",
            "\u001b[32m\u001b[1m  Resolving\u001b[22m\u001b[39m package versions...\n",
            "\u001b[32m\u001b[1m  Installed\u001b[22m\u001b[39m ZeroMQ_jll ────── v4.3.2+5\n",
            "\u001b[32m\u001b[1m  Installed\u001b[22m\u001b[39m Conda ─────────── v1.5.0\n",
            "\u001b[32m\u001b[1m  Installed\u001b[22m\u001b[39m SoftGlobalScope ─ v1.1.0\n",
            "\u001b[32m\u001b[1m  Installed\u001b[22m\u001b[39m ZMQ ───────────── v1.2.1\n",
            "\u001b[32m\u001b[1m  Installed\u001b[22m\u001b[39m JSON ──────────── v0.21.1\n",
            "\u001b[32m\u001b[1m  Installed\u001b[22m\u001b[39m VersionParsing ── v1.2.0\n",
            "\u001b[32m\u001b[1m  Installed\u001b[22m\u001b[39m JLLWrappers ───── v1.1.3\n",
            "\u001b[32m\u001b[1m  Installed\u001b[22m\u001b[39m IJulia ────────── v1.23.1\n",
            "\u001b[32m\u001b[1m  Installed\u001b[22m\u001b[39m Artifacts ─────── v1.3.0\n",
            "\u001b[32m\u001b[1m  Installed\u001b[22m\u001b[39m MbedTLS ───────── v1.0.3\n",
            "\u001b[32m\u001b[1m  Installed\u001b[22m\u001b[39m MbedTLS_jll ───── v2.16.8+1\n",
            "\u001b[32m\u001b[1m  Installed\u001b[22m\u001b[39m Parsers ───────── v1.0.15\n",
            "\u001b[32m\u001b[1mDownloading\u001b[22m\u001b[39m artifact: ZeroMQ\n",
            "######################################################################## 100.0%\n",
            "\u001b[1A\u001b[2K\u001b[?25h\u001b[32m\u001b[1mDownloading\u001b[22m\u001b[39m artifact: MbedTLS\n",
            "######################################################################## 100.0%\n",
            "\u001b[1A\u001b[2K\u001b[?25h\u001b[32m\u001b[1mUpdating\u001b[22m\u001b[39m `~/.julia/environments/v1.5/Project.toml`\n",
            " \u001b[90m [7073ff75] \u001b[39m\u001b[92m+ IJulia v1.23.1\u001b[39m\n",
            "\u001b[32m\u001b[1mUpdating\u001b[22m\u001b[39m `~/.julia/environments/v1.5/Manifest.toml`\n",
            " \u001b[90m [56f22d72] \u001b[39m\u001b[92m+ Artifacts v1.3.0\u001b[39m\n",
            " \u001b[90m [8f4d0f93] \u001b[39m\u001b[92m+ Conda v1.5.0\u001b[39m\n",
            " \u001b[90m [7073ff75] \u001b[39m\u001b[92m+ IJulia v1.23.1\u001b[39m\n",
            " \u001b[90m [692b3bcd] \u001b[39m\u001b[92m+ JLLWrappers v1.1.3\u001b[39m\n",
            " \u001b[90m [682c06a0] \u001b[39m\u001b[92m+ JSON v0.21.1\u001b[39m\n",
            " \u001b[90m [739be429] \u001b[39m\u001b[92m+ MbedTLS v1.0.3\u001b[39m\n",
            " \u001b[90m [c8ffd9c3] \u001b[39m\u001b[92m+ MbedTLS_jll v2.16.8+1\u001b[39m\n",
            " \u001b[90m [69de0a69] \u001b[39m\u001b[92m+ Parsers v1.0.15\u001b[39m\n",
            " \u001b[90m [b85f4697] \u001b[39m\u001b[92m+ SoftGlobalScope v1.1.0\u001b[39m\n",
            " \u001b[90m [81def892] \u001b[39m\u001b[92m+ VersionParsing v1.2.0\u001b[39m\n",
            " \u001b[90m [c2297ded] \u001b[39m\u001b[92m+ ZMQ v1.2.1\u001b[39m\n",
            " \u001b[90m [8f1865be] \u001b[39m\u001b[92m+ ZeroMQ_jll v4.3.2+5\u001b[39m\n",
            " \u001b[90m [2a0f44e3] \u001b[39m\u001b[92m+ Base64\u001b[39m\n",
            " \u001b[90m [ade2ca70] \u001b[39m\u001b[92m+ Dates\u001b[39m\n",
            " \u001b[90m [8ba89e20] \u001b[39m\u001b[92m+ Distributed\u001b[39m\n",
            " \u001b[90m [7b1f6079] \u001b[39m\u001b[92m+ FileWatching\u001b[39m\n",
            " \u001b[90m [b77e0a4c] \u001b[39m\u001b[92m+ InteractiveUtils\u001b[39m\n",
            " \u001b[90m [76f85450] \u001b[39m\u001b[92m+ LibGit2\u001b[39m\n",
            " \u001b[90m [8f399da3] \u001b[39m\u001b[92m+ Libdl\u001b[39m\n",
            " \u001b[90m [56ddb016] \u001b[39m\u001b[92m+ Logging\u001b[39m\n",
            " \u001b[90m [d6f4376e] \u001b[39m\u001b[92m+ Markdown\u001b[39m\n",
            " \u001b[90m [a63ad114] \u001b[39m\u001b[92m+ Mmap\u001b[39m\n",
            " \u001b[90m [44cfe95a] \u001b[39m\u001b[92m+ Pkg\u001b[39m\n",
            " \u001b[90m [de0858da] \u001b[39m\u001b[92m+ Printf\u001b[39m\n",
            " \u001b[90m [3fa0cd96] \u001b[39m\u001b[92m+ REPL\u001b[39m\n",
            " \u001b[90m [9a3f8284] \u001b[39m\u001b[92m+ Random\u001b[39m\n",
            " \u001b[90m [ea8e919c] \u001b[39m\u001b[92m+ SHA\u001b[39m\n",
            " \u001b[90m [9e88b42a] \u001b[39m\u001b[92m+ Serialization\u001b[39m\n",
            " \u001b[90m [6462fe0b] \u001b[39m\u001b[92m+ Sockets\u001b[39m\n",
            " \u001b[90m [8dfed614] \u001b[39m\u001b[92m+ Test\u001b[39m\n",
            " \u001b[90m [cf7118a7] \u001b[39m\u001b[92m+ UUIDs\u001b[39m\n",
            " \u001b[90m [4ec0a83e] \u001b[39m\u001b[92m+ Unicode\u001b[39m\n",
            "\u001b[32m\u001b[1m   Building\u001b[22m\u001b[39m Conda ─→ `~/.julia/packages/Conda/x5ml4/deps/build.log`\n",
            "\u001b[32m\u001b[1m   Building\u001b[22m\u001b[39m IJulia → `~/.julia/packages/IJulia/IDNmS/deps/build.log`\n",
            "\u001b[32m\u001b[1mPrecompiling\u001b[22m\u001b[39m project...\n",
            "\u001b[32m\u001b[1m   Updating\u001b[22m\u001b[39m registry at `~/.julia/registries/General`\n",
            "\u001b[32m\u001b[1m  Resolving\u001b[22m\u001b[39m package versions...\n",
            "\u001b[32m\u001b[1m  Installed\u001b[22m\u001b[39m InformationMeasures ────────── v0.3.0\n",
            "\u001b[32m\u001b[1m  Installed\u001b[22m\u001b[39m BSON ───────────────────────── v0.2.6\n",
            "\u001b[32m\u001b[1m  Installed\u001b[22m\u001b[39m DataStructures ─────────────── v0.17.20\n",
            "\u001b[32m\u001b[1m  Installed\u001b[22m\u001b[39m Zygote ─────────────────────── v0.5.17\n",
            "\u001b[32m\u001b[1m  Installed\u001b[22m\u001b[39m Flux ───────────────────────── v0.11.1\n",
            "\u001b[32m\u001b[1m  Installed\u001b[22m\u001b[39m TensorBoardLogger ──────────── v0.1.13\n",
            "\u001b[32m\u001b[1m  Installed\u001b[22m\u001b[39m Transformers ───────────────── v0.1.7\n",
            "\u001b[32m\u001b[1m  Installed\u001b[22m\u001b[39m CUDA ───────────────────────── v1.3.3\n",
            "\u001b[32m\u001b[1m  Installed\u001b[22m\u001b[39m p7zip_jll ──────────────────── v16.2.0+3\n",
            "\u001b[32m\u001b[1m  Installed\u001b[22m\u001b[39m Images ─────────────────────── v0.23.2\n",
            "\u001b[32m\u001b[1m  Installed\u001b[22m\u001b[39m WoodburyMatrices ───────────── v0.5.3\n",
            "\u001b[32m\u001b[1m  Installed\u001b[22m\u001b[39m Parameters ─────────────────── v0.12.1\n",
            "\u001b[32m\u001b[1m  Installed\u001b[22m\u001b[39m PaddedViews ────────────────── v0.5.7\n",
            "\u001b[32m\u001b[1m  Installed\u001b[22m\u001b[39m DocStringExtensions ────────── v0.8.3\n",
            "\u001b[32m\u001b[1m  Installed\u001b[22m\u001b[39m OffsetArrays ───────────────── v1.4.2\n",
            "\u001b[32m\u001b[1m  Installed\u001b[22m\u001b[39m MLDatasets ─────────────────── v0.5.3\n",
            "\u001b[32m\u001b[1m  Installed\u001b[22m\u001b[39m FFTViews ───────────────────── v0.3.1\n",
            "\u001b[32m\u001b[1m  Installed\u001b[22m\u001b[39m Functors ───────────────────── v0.1.0\n",
            "\u001b[32m\u001b[1m  Installed\u001b[22m\u001b[39m ImageDistances ─────────────── v0.2.9\n",
            "\u001b[32m\u001b[1m  Installed\u001b[22m\u001b[39m IRTools ────────────────────── v0.4.2\n",
            "\u001b[32m\u001b[1m  Installed\u001b[22m\u001b[39m OrderedCollections ─────────── v1.3.2\n",
            "\u001b[32m\u001b[1m  Installed\u001b[22m\u001b[39m FileIO ─────────────────────── v1.4.5\n",
            "\u001b[32m\u001b[1m  Installed\u001b[22m\u001b[39m NNlib ──────────────────────── v0.7.9\n",
            "\u001b[32m\u001b[1m  Installed\u001b[22m\u001b[39m StaticArrays ───────────────── v1.0.1\n",
            "\u001b[32m\u001b[1m  Installed\u001b[22m\u001b[39m ColorVectorSpace ───────────── v0.8.7\n",
            "\u001b[32m\u001b[1m  Installed\u001b[22m\u001b[39m SLEEFPirates ───────────────── v0.5.5\n",
            "\u001b[32m\u001b[1m  Installed\u001b[22m\u001b[39m LLVM ───────────────────────── v2.0.0\n",
            "\u001b[32m\u001b[1m  Installed\u001b[22m\u001b[39m DataAPI ────────────────────── v1.4.0\n",
            "\u001b[32m\u001b[1m  Installed\u001b[22m\u001b[39m EllipsisNotation ───────────── v0.4.0\n",
            "\u001b[32m\u001b[1m  Installed\u001b[22m\u001b[39m FixedPointNumbers ──────────── v0.7.1\n",
            "\u001b[32m\u001b[1m  Installed\u001b[22m\u001b[39m ChainRulesCore ─────────────── v0.9.24\n",
            "\u001b[32m\u001b[1m  Installed\u001b[22m\u001b[39m Reexport ───────────────────── v0.2.0\n",
            "\u001b[32m\u001b[1m  Installed\u001b[22m\u001b[39m Colors ─────────────────────── v0.10.2\n",
            "\u001b[32m\u001b[1m  Installed\u001b[22m\u001b[39m MappedArrays ───────────────── v0.2.2\n",
            "\u001b[32m\u001b[1m  Installed\u001b[22m\u001b[39m ComputationalResources ─────── v0.3.2\n",
            "\u001b[32m\u001b[1m  Installed\u001b[22m\u001b[39m ImageAxes ──────────────────── v0.6.7\n",
            "\u001b[32m\u001b[1m  Installed\u001b[22m\u001b[39m MuladdMacro ────────────────── v0.2.2\n",
            "\u001b[32m\u001b[1m  Installed\u001b[22m\u001b[39m Lz4_jll ────────────────────── v1.9.2+2\n",
            "\u001b[32m\u001b[1m  Installed\u001b[22m\u001b[39m SortingAlgorithms ──────────── v0.3.1\n",
            "\u001b[32m\u001b[1m  Installed\u001b[22m\u001b[39m ImageTransformations ───────── v0.8.8\n",
            "\u001b[32m\u001b[1m  Installed\u001b[22m\u001b[39m CEnum ──────────────────────── v0.4.1\n",
            "\u001b[32m\u001b[1m  Installed\u001b[22m\u001b[39m CodecZlib ──────────────────── v0.7.0\n",
            "\u001b[32m\u001b[1m  Installed\u001b[22m\u001b[39m GPUCompiler ────────────────── v0.6.1\n",
            "\u001b[32m\u001b[1m  Installed\u001b[22m\u001b[39m AbstractFFTs ───────────────── v0.5.0\n",
            "\u001b[32m\u001b[1m  Installed\u001b[22m\u001b[39m TranscodingStreams ─────────── v0.9.5\n",
            "\u001b[32m\u001b[1m  Installed\u001b[22m\u001b[39m Compat ─────────────────────── v3.25.0\n",
            "\u001b[32m\u001b[1m  Installed\u001b[22m\u001b[39m ForwardDiff ────────────────── v0.10.14\n",
            "\u001b[32m\u001b[1m  Installed\u001b[22m\u001b[39m CustomUnitRanges ───────────── v1.0.0\n",
            "\u001b[32m\u001b[1m  Installed\u001b[22m\u001b[39m InternedStrings ────────────── v0.7.0\n",
            "\u001b[32m\u001b[1m  Installed\u001b[22m\u001b[39m ImageFiltering ─────────────── v0.6.18\n",
            "\u001b[32m\u001b[1m  Installed\u001b[22m\u001b[39m Distances ──────────────────── v0.10.0\n",
            "\u001b[32m\u001b[1m  Installed\u001b[22m\u001b[39m DiffResults ────────────────── v1.0.3\n",
            "\u001b[32m\u001b[1m  Installed\u001b[22m\u001b[39m ImageMorphology ────────────── v0.2.9\n",
            "\u001b[32m\u001b[1m  Installed\u001b[22m\u001b[39m CommonSubexpressions ───────── v0.3.0\n",
            "\u001b[32m\u001b[1m  Installed\u001b[22m\u001b[39m HDF5_jll ───────────────────── v1.12.0+1\n",
            "\u001b[32m\u001b[1m  Installed\u001b[22m\u001b[39m StrTables ──────────────────── v1.0.1\n",
            "\u001b[32m\u001b[1m  Installed\u001b[22m\u001b[39m Rotations ──────────────────── v1.0.2\n",
            "\u001b[32m\u001b[1m  Installed\u001b[22m\u001b[39m Requires ───────────────────── v1.1.2\n",
            "\u001b[32m\u001b[1m  Installed\u001b[22m\u001b[39m IterTools ──────────────────── v1.3.0\n",
            "\u001b[32m\u001b[1m  Installed\u001b[22m\u001b[39m LoopVectorization ──────────── v0.8.26\n",
            "\u001b[32m\u001b[1m  Installed\u001b[22m\u001b[39m AbstractTrees ──────────────── v0.3.3\n",
            "\u001b[32m\u001b[1m  Installed\u001b[22m\u001b[39m NaNMath ────────────────────── v0.3.5\n",
            "\u001b[32m\u001b[1m  Installed\u001b[22m\u001b[39m CompilerSupportLibraries_jll ─ v0.3.4+0\n",
            "\u001b[32m\u001b[1m  Installed\u001b[22m\u001b[39m LibCURL_jll ────────────────── v7.70.0+2\n",
            "\u001b[32m\u001b[1m  Installed\u001b[22m\u001b[39m TupleTools ─────────────────── v1.2.0\n",
            "\u001b[32m\u001b[1m  Installed\u001b[22m\u001b[39m TiledIteration ─────────────── v0.2.5\n",
            "\u001b[32m\u001b[1m  Installed\u001b[22m\u001b[39m OpenSSL_jll ────────────────── v1.1.1+6\n",
            "\u001b[32m\u001b[1m  Installed\u001b[22m\u001b[39m IntervalSets ───────────────── v0.5.1\n",
            "\u001b[32m\u001b[1m  Installed\u001b[22m\u001b[39m ImageMetadata ──────────────── v0.9.4\n",
            "\u001b[32m\u001b[1m  Installed\u001b[22m\u001b[39m Graphics ───────────────────── v1.0.2\n",
            "\u001b[32m\u001b[1m  Installed\u001b[22m\u001b[39m IndirectArrays ─────────────── v0.5.1\n",
            "\u001b[32m\u001b[1m  Installed\u001b[22m\u001b[39m Discretizers ───────────────── v3.2.0\n",
            "\u001b[32m\u001b[1m  Installed\u001b[22m\u001b[39m CpuId ──────────────────────── v0.2.2\n",
            "\u001b[32m\u001b[1m  Installed\u001b[22m\u001b[39m BinaryProvider ─────────────── v0.5.10\n",
            "\u001b[32m\u001b[1m  Installed\u001b[22m\u001b[39m BytePairEncoding ───────────── v0.1.1\n",
            "\u001b[32m\u001b[1m  Installed\u001b[22m\u001b[39m Blosc ──────────────────────── v0.7.0\n",
            "\u001b[32m\u001b[1m  Installed\u001b[22m\u001b[39m Adapt ──────────────────────── v2.3.0\n",
            "\u001b[32m\u001b[1m  Installed\u001b[22m\u001b[39m Media ──────────────────────── v0.5.0\n",
            "\u001b[32m\u001b[1m  Installed\u001b[22m\u001b[39m SpecialFunctions ───────────── v1.2.1\n",
            "\u001b[32m\u001b[1m  Installed\u001b[22m\u001b[39m ImageContrastAdjustment ────── v0.3.6\n",
            "\u001b[32m\u001b[1m  Installed\u001b[22m\u001b[39m ImageShow ──────────────────── v0.2.3\n",
            "\u001b[32m\u001b[1m  Installed\u001b[22m\u001b[39m Zstd_jll ───────────────────── v1.4.5+2\n",
            "\u001b[32m\u001b[1m  Installed\u001b[22m\u001b[39m DataDeps ───────────────────── v0.7.6\n",
            "\u001b[32m\u001b[1m  Installed\u001b[22m\u001b[39m FFTW ───────────────────────── v1.2.4\n",
            "\u001b[32m\u001b[1m  Installed\u001b[22m\u001b[39m BinDeps ────────────────────── v1.0.2\n",
            "\u001b[32m\u001b[1m  Installed\u001b[22m\u001b[39m MAT ────────────────────────── v0.9.2\n",
            "\u001b[32m\u001b[1m  Installed\u001b[22m\u001b[39m URIParser ──────────────────── v0.4.1\n",
            "\u001b[32m\u001b[1m  Installed\u001b[22m\u001b[39m MKL_jll ────────────────────── v2020.2.254+0\n",
            "\u001b[32m\u001b[1m  Installed\u001b[22m\u001b[39m MosaicViews ────────────────── v0.2.4\n",
            "\u001b[32m\u001b[1m  Installed\u001b[22m\u001b[39m SimpleTraits ───────────────── v0.9.3\n",
            "\u001b[32m\u001b[1m  Installed\u001b[22m\u001b[39m ZygoteRules ────────────────── v0.2.1\n",
            "\u001b[32m\u001b[1m  Installed\u001b[22m\u001b[39m FillArrays ─────────────────── v0.10.2\n",
            "\u001b[32m\u001b[1m  Installed\u001b[22m\u001b[39m AxisAlgorithms ─────────────── v1.0.0\n",
            "\u001b[32m\u001b[1m  Installed\u001b[22m\u001b[39m FFTW_jll ───────────────────── v3.3.9+7\n",
            "\u001b[32m\u001b[1m  Installed\u001b[22m\u001b[39m Libiconv_jll ───────────────── v1.16.0+7\n",
            "\u001b[32m\u001b[1m  Installed\u001b[22m\u001b[39m Pickle ─────────────────────── v0.2.0\n",
            "\u001b[32m\u001b[1m  Installed\u001b[22m\u001b[39m ImageQualityIndexes ────────── v0.2.0\n",
            "\u001b[32m\u001b[1m  Installed\u001b[22m\u001b[39m ColorTypes ─────────────────── v0.8.1\n",
            "\u001b[32m\u001b[1m  Installed\u001b[22m\u001b[39m MacroTools ─────────────────── v0.5.6\n",
            "\u001b[32m\u001b[1m  Installed\u001b[22m\u001b[39m CatIndices ─────────────────── v0.2.1\n",
            "\u001b[32m\u001b[1m  Installed\u001b[22m\u001b[39m XML2_jll ───────────────────── v2.9.10+3\n",
            "\u001b[32m\u001b[1m  Installed\u001b[22m\u001b[39m AxisArrays ─────────────────── v0.4.3\n",
            "\u001b[32m\u001b[1m  Installed\u001b[22m\u001b[39m Zlib_jll ───────────────────── v1.2.11+18\n",
            "\u001b[32m\u001b[1m  Installed\u001b[22m\u001b[39m IntelOpenMP_jll ────────────── v2018.0.3+0\n",
            "\u001b[32m\u001b[1m  Installed\u001b[22m\u001b[39m Blosc_jll ──────────────────── v1.14.3+1\n",
            "\u001b[32m\u001b[1m  Installed\u001b[22m\u001b[39m SIMDPirates ────────────────── v0.8.26\n",
            "\u001b[32m\u001b[1m  Installed\u001b[22m\u001b[39m Strided ────────────────────── v1.1.1\n",
            "\u001b[32m\u001b[1m  Installed\u001b[22m\u001b[39m CoordinateTransformations ──── v0.6.1\n",
            "\u001b[32m\u001b[1m  Installed\u001b[22m\u001b[39m Juno ───────────────────────── v0.8.4\n",
            "\u001b[32m\u001b[1m  Installed\u001b[22m\u001b[39m RangeArrays ────────────────── v0.3.2\n",
            "\u001b[32m\u001b[1m  Installed\u001b[22m\u001b[39m IniFile ────────────────────── v0.5.0\n",
            "\u001b[32m\u001b[1m  Installed\u001b[22m\u001b[39m LibSSH2_jll ────────────────── v1.9.0+3\n",
            "\u001b[32m\u001b[1m  Installed\u001b[22m\u001b[39m Missings ───────────────────── v0.4.4\n",
            "\u001b[32m\u001b[1m  Installed\u001b[22m\u001b[39m ProtoBuf ───────────────────── v0.10.0\n",
            "\u001b[32m\u001b[1m  Installed\u001b[22m\u001b[39m Ratios ─────────────────────── v0.4.0\n",
            "\u001b[32m\u001b[1m  Installed\u001b[22m\u001b[39m GZip ───────────────────────── v0.5.1\n",
            "\u001b[32m\u001b[1m  Installed\u001b[22m\u001b[39m ArrayLayouts ───────────────── v0.4.12\n",
            "\u001b[32m\u001b[1m  Installed\u001b[22m\u001b[39m GPUArrays ──────────────────── v5.2.1\n",
            "\u001b[32m\u001b[1m  Installed\u001b[22m\u001b[39m Interpolations ─────────────── v0.13.1\n",
            "\u001b[32m\u001b[1m  Installed\u001b[22m\u001b[39m ChainRules ─────────────────── v0.7.41\n",
            "\u001b[32m\u001b[1m  Installed\u001b[22m\u001b[39m UnPack ─────────────────────── v1.0.2\n",
            "\u001b[32m\u001b[1m  Installed\u001b[22m\u001b[39m LightXML ───────────────────── v0.9.0\n",
            "\u001b[32m\u001b[1m  Installed\u001b[22m\u001b[39m TimerOutputs ───────────────── v0.5.7\n",
            "\u001b[32m\u001b[1m  Installed\u001b[22m\u001b[39m nghttp2_jll ────────────────── v1.40.0+2\n",
            "\u001b[32m\u001b[1m  Installed\u001b[22m\u001b[39m DiffRules ──────────────────── v1.0.2\n",
            "\u001b[32m\u001b[1m  Installed\u001b[22m\u001b[39m StatsBase ──────────────────── v0.33.2\n",
            "\u001b[32m\u001b[1m  Installed\u001b[22m\u001b[39m OpenSpecFun_jll ────────────── v0.5.3+4\n",
            "\u001b[32m\u001b[1m  Installed\u001b[22m\u001b[39m ZipFile ────────────────────── v0.9.3\n",
            "\u001b[32m\u001b[1m  Installed\u001b[22m\u001b[39m BufferedStreams ────────────── v1.0.0\n",
            "\u001b[32m\u001b[1m  Installed\u001b[22m\u001b[39m ExprTools ──────────────────── v0.1.3\n",
            "\u001b[32m\u001b[1m  Installed\u001b[22m\u001b[39m HTML_Entities ──────────────── v1.0.0\n",
            "\u001b[32m\u001b[1m  Installed\u001b[22m\u001b[39m HTTP ───────────────────────── v0.8.19\n",
            "\u001b[32m\u001b[1m  Installed\u001b[22m\u001b[39m IdentityRanges ─────────────── v0.3.1\n",
            "\u001b[32m\u001b[1m  Installed\u001b[22m\u001b[39m VectorizationBase ──────────── v0.12.33\n",
            "\u001b[32m\u001b[1m  Installed\u001b[22m\u001b[39m WordTokenizers ─────────────── v0.5.6\n",
            "\u001b[32m\u001b[1m  Installed\u001b[22m\u001b[39m HDF5 ───────────────────────── v0.14.3\n",
            "\u001b[32m\u001b[1m  Installed\u001b[22m\u001b[39m ImageCore ──────────────────── v0.8.19\n",
            "\u001b[32m\u001b[1mDownloading\u001b[22m\u001b[39m artifact: p7zip\n",
            "######################################################################## 100.0%\n",
            "\u001b[1A\u001b[2K\u001b[?25h\u001b[32m\u001b[1mDownloading\u001b[22m\u001b[39m artifact: Lz4\n",
            "######################################################################## 100.0%\n",
            "\u001b[1A\u001b[2K\u001b[?25h\u001b[32m\u001b[1mDownloading\u001b[22m\u001b[39m artifact: HDF5\n",
            "######################################################################## 100.0%\n",
            "\u001b[1A\u001b[2K\u001b[?25h\u001b[32m\u001b[1mDownloading\u001b[22m\u001b[39m artifact: LibCURL\n",
            "######################################################################## 100.0%\n",
            "\u001b[1A\u001b[2K\u001b[?25h\u001b[32m\u001b[1mDownloading\u001b[22m\u001b[39m artifact: CompilerSupportLibraries\n",
            "######################################################################## 100.0%\n",
            "\u001b[1A\u001b[2K\u001b[?25h\u001b[32m\u001b[1mDownloading\u001b[22m\u001b[39m artifact: OpenSSL\n",
            "######################################################################## 100.0%\n",
            "\u001b[1A\u001b[2K\u001b[?25h\u001b[32m\u001b[1mDownloading\u001b[22m\u001b[39m artifact: Zstd\n",
            "######################################################################## 100.0%\n",
            "\u001b[1A\u001b[2K\u001b[?25h\u001b[32m\u001b[1mDownloading\u001b[22m\u001b[39m artifact: FFTW\n",
            "######################################################################## 100.0%\n",
            "\u001b[1A\u001b[2K\u001b[?25h\u001b[32m\u001b[1mDownloading\u001b[22m\u001b[39m artifact: Libiconv\n",
            "######################################################################## 100.0%\n",
            "\u001b[1A\u001b[2K\u001b[?25h\u001b[32m\u001b[1mDownloading\u001b[22m\u001b[39m artifact: XML2\n",
            "######################################################################## 100.0%\n",
            "\u001b[1A\u001b[2K\u001b[?25h\u001b[32m\u001b[1mDownloading\u001b[22m\u001b[39m artifact: Zlib\n",
            "######################################################################## 100.0%\n",
            "\u001b[1A\u001b[2K\u001b[?25h\u001b[32m\u001b[1mDownloading\u001b[22m\u001b[39m artifact: IntelOpenMP\n",
            "######################################################################## 100.0%\n",
            "\u001b[1A\u001b[2K\u001b[?25h\u001b[32m\u001b[1mDownloading\u001b[22m\u001b[39m artifact: Blosc\n",
            "######################################################################## 100.0%\n",
            "\u001b[1A\u001b[2K\u001b[?25h\u001b[32m\u001b[1mDownloading\u001b[22m\u001b[39m artifact: LibSSH2\n",
            "######################################################################## 100.0%\n",
            "\u001b[1A\u001b[2K\u001b[?25h\u001b[32m\u001b[1mDownloading\u001b[22m\u001b[39m artifact: nghttp2\n",
            "######################################################################## 100.0%\n",
            "\u001b[1A\u001b[2K\u001b[?25h\u001b[32m\u001b[1mDownloading\u001b[22m\u001b[39m artifact: OpenSpecFun\n",
            "######################################################################## 100.0%\n",
            "\u001b[1A\u001b[2K\u001b[?25h\u001b[32m\u001b[1mUpdating\u001b[22m\u001b[39m `~/.julia/environments/v1.5/Project.toml`\n",
            " \u001b[90m [fbb218c0] \u001b[39m\u001b[92m+ BSON v0.2.6\u001b[39m\n",
            " \u001b[90m [052768ef] \u001b[39m\u001b[92m+ CUDA v1.3.3\u001b[39m\n",
            " \u001b[90m [864edb3b] \u001b[39m\u001b[92m+ DataStructures v0.17.20\u001b[39m\n",
            " \u001b[90m [587475ba] \u001b[39m\u001b[92m+ Flux v0.11.1\u001b[39m\n",
            " \u001b[90m [916415d5] \u001b[39m\u001b[92m+ Images v0.23.2\u001b[39m\n",
            " \u001b[90m [96684042] \u001b[39m\u001b[92m+ InformationMeasures v0.3.0\u001b[39m\n",
            " \u001b[90m [eb30cadb] \u001b[39m\u001b[92m+ MLDatasets v0.5.3\u001b[39m\n",
            " \u001b[90m [d96e819e] \u001b[39m\u001b[92m+ Parameters v0.12.1\u001b[39m\n",
            " \u001b[90m [899adc3e] \u001b[39m\u001b[92m+ TensorBoardLogger v0.1.13\u001b[39m\n",
            " \u001b[90m [21ca0261] \u001b[39m\u001b[92m+ Transformers v0.1.7\u001b[39m\n",
            " \u001b[90m [e88e6eb3] \u001b[39m\u001b[92m+ Zygote v0.5.17\u001b[39m\n",
            " \u001b[90m [ade2ca70] \u001b[39m\u001b[92m+ Dates\u001b[39m\n",
            " \u001b[90m [56ddb016] \u001b[39m\u001b[92m+ Logging\u001b[39m\n",
            " \u001b[90m [de0858da] \u001b[39m\u001b[92m+ Printf\u001b[39m\n",
            " \u001b[90m [9abbd945] \u001b[39m\u001b[92m+ Profile\u001b[39m\n",
            " \u001b[90m [9a3f8284] \u001b[39m\u001b[92m+ Random\u001b[39m\n",
            " \u001b[90m [10745b16] \u001b[39m\u001b[92m+ Statistics\u001b[39m\n",
            "\u001b[32m\u001b[1mUpdating\u001b[22m\u001b[39m `~/.julia/environments/v1.5/Manifest.toml`\n",
            " \u001b[90m [621f4979] \u001b[39m\u001b[92m+ AbstractFFTs v0.5.0\u001b[39m\n",
            " \u001b[90m [1520ce14] \u001b[39m\u001b[92m+ AbstractTrees v0.3.3\u001b[39m\n",
            " \u001b[90m [79e6a3ab] \u001b[39m\u001b[92m+ Adapt v2.3.0\u001b[39m\n",
            " \u001b[90m [4c555306] \u001b[39m\u001b[92m+ ArrayLayouts v0.4.12\u001b[39m\n",
            " \u001b[90m [13072b0f] \u001b[39m\u001b[92m+ AxisAlgorithms v1.0.0\u001b[39m\n",
            " \u001b[90m [39de3d68] \u001b[39m\u001b[92m+ AxisArrays v0.4.3\u001b[39m\n",
            " \u001b[90m [fbb218c0] \u001b[39m\u001b[92m+ BSON v0.2.6\u001b[39m\n",
            " \u001b[90m [9e28174c] \u001b[39m\u001b[92m+ BinDeps v1.0.2\u001b[39m\n",
            " \u001b[90m [b99e7846] \u001b[39m\u001b[92m+ BinaryProvider v0.5.10\u001b[39m\n",
            " \u001b[90m [a74b3585] \u001b[39m\u001b[92m+ Blosc v0.7.0\u001b[39m\n",
            " \u001b[90m [0b7ba130] \u001b[39m\u001b[92m+ Blosc_jll v1.14.3+1\u001b[39m\n",
            " \u001b[90m [e1450e63] \u001b[39m\u001b[92m+ BufferedStreams v1.0.0\u001b[39m\n",
            " \u001b[90m [a4280ba5] \u001b[39m\u001b[92m+ BytePairEncoding v0.1.1\u001b[39m\n",
            " \u001b[90m [fa961155] \u001b[39m\u001b[92m+ CEnum v0.4.1\u001b[39m\n",
            " \u001b[90m [052768ef] \u001b[39m\u001b[92m+ CUDA v1.3.3\u001b[39m\n",
            " \u001b[90m [aafaddc9] \u001b[39m\u001b[92m+ CatIndices v0.2.1\u001b[39m\n",
            " \u001b[90m [082447d4] \u001b[39m\u001b[92m+ ChainRules v0.7.41\u001b[39m\n",
            " \u001b[90m [d360d2e6] \u001b[39m\u001b[92m+ ChainRulesCore v0.9.24\u001b[39m\n",
            " \u001b[90m [944b1d66] \u001b[39m\u001b[92m+ CodecZlib v0.7.0\u001b[39m\n",
            " \u001b[90m [3da002f7] \u001b[39m\u001b[92m+ ColorTypes v0.8.1\u001b[39m\n",
            " \u001b[90m [c3611d14] \u001b[39m\u001b[92m+ ColorVectorSpace v0.8.7\u001b[39m\n",
            " \u001b[90m [5ae59095] \u001b[39m\u001b[92m+ Colors v0.10.2\u001b[39m\n",
            " \u001b[90m [bbf7d656] \u001b[39m\u001b[92m+ CommonSubexpressions v0.3.0\u001b[39m\n",
            " \u001b[90m [34da2185] \u001b[39m\u001b[92m+ Compat v3.25.0\u001b[39m\n",
            " \u001b[90m [e66e0078] \u001b[39m\u001b[92m+ CompilerSupportLibraries_jll v0.3.4+0\u001b[39m\n",
            " \u001b[90m [ed09eef8] \u001b[39m\u001b[92m+ ComputationalResources v0.3.2\u001b[39m\n",
            " \u001b[90m [150eb455] \u001b[39m\u001b[92m+ CoordinateTransformations v0.6.1\u001b[39m\n",
            " \u001b[90m [adafc99b] \u001b[39m\u001b[92m+ CpuId v0.2.2\u001b[39m\n",
            " \u001b[90m [dc8bdbbb] \u001b[39m\u001b[92m+ CustomUnitRanges v1.0.0\u001b[39m\n",
            " \u001b[90m [9a962f9c] \u001b[39m\u001b[92m+ DataAPI v1.4.0\u001b[39m\n",
            " \u001b[90m [124859b0] \u001b[39m\u001b[92m+ DataDeps v0.7.6\u001b[39m\n",
            " \u001b[90m [864edb3b] \u001b[39m\u001b[92m+ DataStructures v0.17.20\u001b[39m\n",
            " \u001b[90m [163ba53b] \u001b[39m\u001b[92m+ DiffResults v1.0.3\u001b[39m\n",
            " \u001b[90m [b552c78f] \u001b[39m\u001b[92m+ DiffRules v1.0.2\u001b[39m\n",
            " \u001b[90m [6e83dbb3] \u001b[39m\u001b[92m+ Discretizers v3.2.0\u001b[39m\n",
            " \u001b[90m [b4f34e82] \u001b[39m\u001b[92m+ Distances v0.10.0\u001b[39m\n",
            " \u001b[90m [ffbed154] \u001b[39m\u001b[92m+ DocStringExtensions v0.8.3\u001b[39m\n",
            " \u001b[90m [da5c29d0] \u001b[39m\u001b[92m+ EllipsisNotation v0.4.0\u001b[39m\n",
            " \u001b[90m [e2ba6199] \u001b[39m\u001b[92m+ ExprTools v0.1.3\u001b[39m\n",
            " \u001b[90m [4f61f5a4] \u001b[39m\u001b[92m+ FFTViews v0.3.1\u001b[39m\n",
            " \u001b[90m [7a1cc6ca] \u001b[39m\u001b[92m+ FFTW v1.2.4\u001b[39m\n",
            " \u001b[90m [f5851436] \u001b[39m\u001b[92m+ FFTW_jll v3.3.9+7\u001b[39m\n",
            " \u001b[90m [5789e2e9] \u001b[39m\u001b[92m+ FileIO v1.4.5\u001b[39m\n",
            " \u001b[90m [1a297f60] \u001b[39m\u001b[92m+ FillArrays v0.10.2\u001b[39m\n",
            " \u001b[90m [53c48c17] \u001b[39m\u001b[92m+ FixedPointNumbers v0.7.1\u001b[39m\n",
            " \u001b[90m [587475ba] \u001b[39m\u001b[92m+ Flux v0.11.1\u001b[39m\n",
            " \u001b[90m [f6369f11] \u001b[39m\u001b[92m+ ForwardDiff v0.10.14\u001b[39m\n",
            " \u001b[90m [d9f16b24] \u001b[39m\u001b[92m+ Functors v0.1.0\u001b[39m\n",
            " \u001b[90m [0c68f7d7] \u001b[39m\u001b[92m+ GPUArrays v5.2.1\u001b[39m\n",
            " \u001b[90m [61eb1bfa] \u001b[39m\u001b[92m+ GPUCompiler v0.6.1\u001b[39m\n",
            " \u001b[90m [92fee26a] \u001b[39m\u001b[92m+ GZip v0.5.1\u001b[39m\n",
            " \u001b[90m [a2bd30eb] \u001b[39m\u001b[92m+ Graphics v1.0.2\u001b[39m\n",
            " \u001b[90m [f67ccb44] \u001b[39m\u001b[92m+ HDF5 v0.14.3\u001b[39m\n",
            " \u001b[90m [0234f1f7] \u001b[39m\u001b[92m+ HDF5_jll v1.12.0+1\u001b[39m\n",
            " \u001b[90m [7693890a] \u001b[39m\u001b[92m+ HTML_Entities v1.0.0\u001b[39m\n",
            " \u001b[90m [cd3eb016] \u001b[39m\u001b[92m+ HTTP v0.8.19\u001b[39m\n",
            " \u001b[90m [7869d1d1] \u001b[39m\u001b[92m+ IRTools v0.4.2\u001b[39m\n",
            " \u001b[90m [bbac6d45] \u001b[39m\u001b[92m+ IdentityRanges v0.3.1\u001b[39m\n",
            " \u001b[90m [2803e5a7] \u001b[39m\u001b[92m+ ImageAxes v0.6.7\u001b[39m\n",
            " \u001b[90m [f332f351] \u001b[39m\u001b[92m+ ImageContrastAdjustment v0.3.6\u001b[39m\n",
            " \u001b[90m [a09fc81d] \u001b[39m\u001b[92m+ ImageCore v0.8.19\u001b[39m\n",
            " \u001b[90m [51556ac3] \u001b[39m\u001b[92m+ ImageDistances v0.2.9\u001b[39m\n",
            " \u001b[90m [6a3955dd] \u001b[39m\u001b[92m+ ImageFiltering v0.6.18\u001b[39m\n",
            " \u001b[90m [bc367c6b] \u001b[39m\u001b[92m+ ImageMetadata v0.9.4\u001b[39m\n",
            " \u001b[90m [787d08f9] \u001b[39m\u001b[92m+ ImageMorphology v0.2.9\u001b[39m\n",
            " \u001b[90m [2996bd0c] \u001b[39m\u001b[92m+ ImageQualityIndexes v0.2.0\u001b[39m\n",
            " \u001b[90m [4e3cecfd] \u001b[39m\u001b[92m+ ImageShow v0.2.3\u001b[39m\n",
            " \u001b[90m [02fcd773] \u001b[39m\u001b[92m+ ImageTransformations v0.8.8\u001b[39m\n",
            " \u001b[90m [916415d5] \u001b[39m\u001b[92m+ Images v0.23.2\u001b[39m\n",
            " \u001b[90m [9b13fd28] \u001b[39m\u001b[92m+ IndirectArrays v0.5.1\u001b[39m\n",
            " \u001b[90m [96684042] \u001b[39m\u001b[92m+ InformationMeasures v0.3.0\u001b[39m\n",
            " \u001b[90m [83e8ac13] \u001b[39m\u001b[92m+ IniFile v0.5.0\u001b[39m\n",
            " \u001b[90m [1d5cc7b8] \u001b[39m\u001b[92m+ IntelOpenMP_jll v2018.0.3+0\u001b[39m\n",
            " \u001b[90m [7d512f48] \u001b[39m\u001b[92m+ InternedStrings v0.7.0\u001b[39m\n",
            " \u001b[90m [a98d9a8b] \u001b[39m\u001b[92m+ Interpolations v0.13.1\u001b[39m\n",
            " \u001b[90m [8197267c] \u001b[39m\u001b[92m+ IntervalSets v0.5.1\u001b[39m\n",
            " \u001b[90m [c8e1da08] \u001b[39m\u001b[92m+ IterTools v1.3.0\u001b[39m\n",
            " \u001b[90m [e5e0dc1b] \u001b[39m\u001b[92m+ Juno v0.8.4\u001b[39m\n",
            " \u001b[90m [929cbde3] \u001b[39m\u001b[92m+ LLVM v2.0.0\u001b[39m\n",
            " \u001b[90m [deac9b47] \u001b[39m\u001b[92m+ LibCURL_jll v7.70.0+2\u001b[39m\n",
            " \u001b[90m [29816b5a] \u001b[39m\u001b[92m+ LibSSH2_jll v1.9.0+3\u001b[39m\n",
            " \u001b[90m [94ce4f54] \u001b[39m\u001b[92m+ Libiconv_jll v1.16.0+7\u001b[39m\n",
            " \u001b[90m [9c8b4983] \u001b[39m\u001b[92m+ LightXML v0.9.0\u001b[39m\n",
            " \u001b[90m [bdcacae8] \u001b[39m\u001b[92m+ LoopVectorization v0.8.26\u001b[39m\n",
            " \u001b[90m [5ced341a] \u001b[39m\u001b[92m+ Lz4_jll v1.9.2+2\u001b[39m\n",
            " \u001b[90m [23992714] \u001b[39m\u001b[92m+ MAT v0.9.2\u001b[39m\n",
            " \u001b[90m [856f044c] \u001b[39m\u001b[92m+ MKL_jll v2020.2.254+0\u001b[39m\n",
            " \u001b[90m [eb30cadb] \u001b[39m\u001b[92m+ MLDatasets v0.5.3\u001b[39m\n",
            " \u001b[90m [1914dd2f] \u001b[39m\u001b[92m+ MacroTools v0.5.6\u001b[39m\n",
            " \u001b[90m [dbb5928d] \u001b[39m\u001b[92m+ MappedArrays v0.2.2\u001b[39m\n",
            " \u001b[90m [e89f7d12] \u001b[39m\u001b[92m+ Media v0.5.0\u001b[39m\n",
            " \u001b[90m [e1d29d7a] \u001b[39m\u001b[92m+ Missings v0.4.4\u001b[39m\n",
            " \u001b[90m [e94cdb99] \u001b[39m\u001b[92m+ MosaicViews v0.2.4\u001b[39m\n",
            " \u001b[90m [46d2c3a1] \u001b[39m\u001b[92m+ MuladdMacro v0.2.2\u001b[39m\n",
            " \u001b[90m [872c559c] \u001b[39m\u001b[92m+ NNlib v0.7.9\u001b[39m\n",
            " \u001b[90m [77ba4419] \u001b[39m\u001b[92m+ NaNMath v0.3.5\u001b[39m\n",
            " \u001b[90m [6fe1bfb0] \u001b[39m\u001b[92m+ OffsetArrays v1.4.2\u001b[39m\n",
            " \u001b[90m [458c3c95] \u001b[39m\u001b[92m+ OpenSSL_jll v1.1.1+6\u001b[39m\n",
            " \u001b[90m [efe28fd5] \u001b[39m\u001b[92m+ OpenSpecFun_jll v0.5.3+4\u001b[39m\n",
            " \u001b[90m [bac558e1] \u001b[39m\u001b[92m+ OrderedCollections v1.3.2\u001b[39m\n",
            " \u001b[90m [5432bcbf] \u001b[39m\u001b[92m+ PaddedViews v0.5.7\u001b[39m\n",
            " \u001b[90m [d96e819e] \u001b[39m\u001b[92m+ Parameters v0.12.1\u001b[39m\n",
            " \u001b[90m [fbb45041] \u001b[39m\u001b[92m+ Pickle v0.2.0\u001b[39m\n",
            " \u001b[90m [3349acd9] \u001b[39m\u001b[92m+ ProtoBuf v0.10.0\u001b[39m\n",
            " \u001b[90m [b3c3ace0] \u001b[39m\u001b[92m+ RangeArrays v0.3.2\u001b[39m\n",
            " \u001b[90m [c84ed2f1] \u001b[39m\u001b[92m+ Ratios v0.4.0\u001b[39m\n",
            " \u001b[90m [189a3867] \u001b[39m\u001b[92m+ Reexport v0.2.0\u001b[39m\n",
            " \u001b[90m [ae029012] \u001b[39m\u001b[92m+ Requires v1.1.2\u001b[39m\n",
            " \u001b[90m [6038ab10] \u001b[39m\u001b[92m+ Rotations v1.0.2\u001b[39m\n",
            " \u001b[90m [21efa798] \u001b[39m\u001b[92m+ SIMDPirates v0.8.26\u001b[39m\n",
            " \u001b[90m [476501e8] \u001b[39m\u001b[92m+ SLEEFPirates v0.5.5\u001b[39m\n",
            " \u001b[90m [699a6c99] \u001b[39m\u001b[92m+ SimpleTraits v0.9.3\u001b[39m\n",
            " \u001b[90m [a2af1166] \u001b[39m\u001b[92m+ SortingAlgorithms v0.3.1\u001b[39m\n",
            " \u001b[90m [276daf66] \u001b[39m\u001b[92m+ SpecialFunctions v1.2.1\u001b[39m\n",
            " \u001b[90m [90137ffa] \u001b[39m\u001b[92m+ StaticArrays v1.0.1\u001b[39m\n",
            " \u001b[90m [2913bbd2] \u001b[39m\u001b[92m+ StatsBase v0.33.2\u001b[39m\n",
            " \u001b[90m [9700d1a9] \u001b[39m\u001b[92m+ StrTables v1.0.1\u001b[39m\n",
            " \u001b[90m [5e0ebb24] \u001b[39m\u001b[92m+ Strided v1.1.1\u001b[39m\n",
            " \u001b[90m [899adc3e] \u001b[39m\u001b[92m+ TensorBoardLogger v0.1.13\u001b[39m\n",
            " \u001b[90m [06e1c1a7] \u001b[39m\u001b[92m+ TiledIteration v0.2.5\u001b[39m\n",
            " \u001b[90m [a759f4b9] \u001b[39m\u001b[92m+ TimerOutputs v0.5.7\u001b[39m\n",
            " \u001b[90m [3bb67fe8] \u001b[39m\u001b[92m+ TranscodingStreams v0.9.5\u001b[39m\n",
            " \u001b[90m [21ca0261] \u001b[39m\u001b[92m+ Transformers v0.1.7\u001b[39m\n",
            " \u001b[90m [9d95972d] \u001b[39m\u001b[92m+ TupleTools v1.2.0\u001b[39m\n",
            " \u001b[90m [30578b45] \u001b[39m\u001b[92m+ URIParser v0.4.1\u001b[39m\n",
            " \u001b[90m [3a884ed6] \u001b[39m\u001b[92m+ UnPack v1.0.2\u001b[39m\n",
            " \u001b[90m [3d5dd08c] \u001b[39m\u001b[92m+ VectorizationBase v0.12.33\u001b[39m\n",
            " \u001b[90m [efce3f68] \u001b[39m\u001b[92m+ WoodburyMatrices v0.5.3\u001b[39m\n",
            " \u001b[90m [796a5d58] \u001b[39m\u001b[92m+ WordTokenizers v0.5.6\u001b[39m\n",
            " \u001b[90m [02c8fc9c] \u001b[39m\u001b[92m+ XML2_jll v2.9.10+3\u001b[39m\n",
            " \u001b[90m [a5390f91] \u001b[39m\u001b[92m+ ZipFile v0.9.3\u001b[39m\n",
            " \u001b[90m [83775a58] \u001b[39m\u001b[92m+ Zlib_jll v1.2.11+18\u001b[39m\n",
            " \u001b[90m [3161d3a3] \u001b[39m\u001b[92m+ Zstd_jll v1.4.5+2\u001b[39m\n",
            " \u001b[90m [e88e6eb3] \u001b[39m\u001b[92m+ Zygote v0.5.17\u001b[39m\n",
            " \u001b[90m [700de1a5] \u001b[39m\u001b[92m+ ZygoteRules v0.2.1\u001b[39m\n",
            " \u001b[90m [8e850ede] \u001b[39m\u001b[92m+ nghttp2_jll v1.40.0+2\u001b[39m\n",
            " \u001b[90m [3f19e933] \u001b[39m\u001b[92m+ p7zip_jll v16.2.0+3\u001b[39m\n",
            " \u001b[90m [8bf52ea8] \u001b[39m\u001b[92m+ CRC32c\u001b[39m\n",
            " \u001b[90m [8bb1440f] \u001b[39m\u001b[92m+ DelimitedFiles\u001b[39m\n",
            " \u001b[90m [37e2e46d] \u001b[39m\u001b[92m+ LinearAlgebra\u001b[39m\n",
            " \u001b[90m [9abbd945] \u001b[39m\u001b[92m+ Profile\u001b[39m\n",
            " \u001b[90m [1a1011a3] \u001b[39m\u001b[92m+ SharedArrays\u001b[39m\n",
            " \u001b[90m [2f01184e] \u001b[39m\u001b[92m+ SparseArrays\u001b[39m\n",
            " \u001b[90m [10745b16] \u001b[39m\u001b[92m+ Statistics\u001b[39m\n",
            "\u001b[32m\u001b[1m   Building\u001b[22m\u001b[39m SLEEFPirates ─→ `~/.julia/packages/SLEEFPirates/jGsib/deps/build.log`\n",
            "\u001b[32m\u001b[1m   Building\u001b[22m\u001b[39m DataDeps ─────→ `~/.julia/packages/DataDeps/jrlAW/deps/build.log`\n",
            "\u001b[32m\u001b[1m   Building\u001b[22m\u001b[39m FFTW ─────────→ `~/.julia/packages/FFTW/DMUbN/deps/build.log`\n",
            "\u001b[32m\u001b[1m   Building\u001b[22m\u001b[39m HTML_Entities → `~/.julia/packages/HTML_Entities/g4t7p/deps/build.log`\n",
            "\u001b[32m\u001b[1m   Building\u001b[22m\u001b[39m HDF5 ─────────→ `~/.julia/packages/HDF5/d0V7K/deps/build.log`\n",
            "DONE\n"
          ],
          "name": "stdout"
        }
      ]
    },
    {
      "cell_type": "code",
      "metadata": {
        "id": "BoZnMwsrCNZn"
      },
      "source": [
        ""
      ],
      "execution_count": null,
      "outputs": []
    },
    {
      "cell_type": "code",
      "metadata": {
        "id": "qrtJwtCUgCjX"
      },
      "source": [
        ""
      ],
      "execution_count": null,
      "outputs": []
    },
    {
      "cell_type": "code",
      "metadata": {
        "id": "PtcQ1zjJgRYo"
      },
      "source": [
        ""
      ],
      "execution_count": null,
      "outputs": []
    },
    {
      "cell_type": "markdown",
      "metadata": {
        "id": "rSZzQeJUg2f2"
      },
      "source": [
        "**NOW GO TO EDIT NOTEBOOK SETTING AND SET IT TO JULIA**\n",
        "For adding new packages, it should be in python or the syntax may need to be in Julia!"
      ]
    },
    {
      "cell_type": "code",
      "metadata": {
        "id": "kXRGHHhhg9N_",
        "colab": {
          "base_uri": "https://localhost:8080/"
        },
        "outputId": "3c23ba26-07d4-4d9b-fa9c-076d9f73309b"
      },
      "source": [
        "[1,2,3]"
      ],
      "execution_count": null,
      "outputs": [
        {
          "output_type": "execute_result",
          "data": {
            "text/plain": [
              "3-element Array{Int64,1}:\n",
              " 1\n",
              " 2\n",
              " 3"
            ]
          },
          "metadata": {
            "tags": []
          },
          "execution_count": 1
        }
      ]
    },
    {
      "cell_type": "code",
      "metadata": {
        "colab": {
          "base_uri": "https://localhost:8080/"
        },
        "id": "1qhXlYghK2Jf",
        "outputId": "27eea5ac-3bfd-4263-c6af-929a64322c7d"
      },
      "source": [
        "import Pkg; Pkg.add(\"BenchmarkTools\")"
      ],
      "execution_count": null,
      "outputs": [
        {
          "output_type": "stream",
          "text": [
            "\u001b[32m\u001b[1m   Updating\u001b[22m\u001b[39m registry at `~/.julia/registries/General`\n",
            "\u001b[32m\u001b[1m  Resolving\u001b[22m\u001b[39m package versions...\n",
            "\u001b[32m\u001b[1m  Installed\u001b[22m\u001b[39m BenchmarkTools ─ v0.5.0\n",
            "\u001b[32m\u001b[1mUpdating\u001b[22m\u001b[39m `~/.julia/environments/v1.5/Project.toml`\n",
            " \u001b[90m [6e4b80f9] \u001b[39m\u001b[92m+ BenchmarkTools v0.5.0\u001b[39m\n",
            "\u001b[32m\u001b[1mUpdating\u001b[22m\u001b[39m `~/.julia/environments/v1.5/Manifest.toml`\n",
            " \u001b[90m [6e4b80f9] \u001b[39m\u001b[92m+ BenchmarkTools v0.5.0\u001b[39m\n"
          ],
          "name": "stderr"
        }
      ]
    },
    {
      "cell_type": "code",
      "metadata": {
        "id": "yQlpeR9wNOi8",
        "colab": {
          "base_uri": "https://localhost:8080/"
        },
        "outputId": "1f746055-f882-4fd0-e176-e92600e8820f"
      },
      "source": [
        "using BenchmarkTools\n",
        "\n",
        "M = rand(2048, 2048)\n",
        "@benchmark M^2"
      ],
      "execution_count": null,
      "outputs": [
        {
          "output_type": "execute_result",
          "data": {
            "text/plain": [
              "BenchmarkTools.Trial: \n",
              "  memory estimate:  32.00 MiB\n",
              "  allocs estimate:  2\n",
              "  --------------\n",
              "  minimum time:     417.434 ms (0.00% GC)\n",
              "  median time:      431.325 ms (0.00% GC)\n",
              "  mean time:        435.868 ms (0.73% GC)\n",
              "  maximum time:     471.040 ms (0.71% GC)\n",
              "  --------------\n",
              "  samples:          12\n",
              "  evals/sample:     1"
            ]
          },
          "metadata": {
            "tags": []
          },
          "execution_count": 12
        }
      ]
    },
    {
      "cell_type": "code",
      "metadata": {
        "id": "XciCcMAJOT3_",
        "colab": {
          "base_uri": "https://localhost:8080/"
        },
        "outputId": "c80482e5-0f98-4685-c90c-fcce071efe51"
      },
      "source": [
        "if ENV[\"COLAB_GPU\"] == \"1\"\n",
        "    using CUDA\n",
        "\n",
        "    M_gpu = cu(M)\n",
        "    @benchmark CUDA.@sync M_gpu^2\n",
        "else\n",
        "    println(\"No GPU found.\")\n",
        "end"
      ],
      "execution_count": null,
      "outputs": [
        {
          "output_type": "execute_result",
          "data": {
            "text/plain": [
              "BenchmarkTools.Trial: \n",
              "  memory estimate:  416 bytes\n",
              "  allocs estimate:  11\n",
              "  --------------\n",
              "  minimum time:     2.757 ms (0.00% GC)\n",
              "  median time:      4.951 ms (0.00% GC)\n",
              "  mean time:        5.025 ms (0.03% GC)\n",
              "  maximum time:     9.150 ms (17.12% GC)\n",
              "  --------------\n",
              "  samples:          994\n",
              "  evals/sample:     1"
            ]
          },
          "metadata": {
            "tags": []
          },
          "execution_count": 13
        }
      ]
    },
    {
      "cell_type": "code",
      "metadata": {
        "id": "H1zO9fv8gfKN"
      },
      "source": [
        "M_gpu = nothing\n",
        "M=nothing"
      ],
      "execution_count": null,
      "outputs": []
    },
    {
      "cell_type": "code",
      "metadata": {
        "id": "4NiqrpPnhy_n",
        "colab": {
          "base_uri": "https://localhost:8080/"
        },
        "outputId": "a7aab3a6-aec0-429b-ed05-7f9f7e858ccc"
      },
      "source": [
        "cd(\"/content/gdrive/MyDrive/minGPT\")\n",
        "pwd()"
      ],
      "execution_count": 1,
      "outputs": [
        {
          "output_type": "execute_result",
          "data": {
            "text/plain": [
              "\"/content/gdrive/MyDrive/minGPT\""
            ]
          },
          "metadata": {
            "tags": []
          },
          "execution_count": 1
        }
      ]
    },
    {
      "cell_type": "code",
      "metadata": {
        "id": "SLZAhjGejvbW",
        "colab": {
          "base_uri": "https://localhost:8080/"
        },
        "outputId": "05482821-1c19-4d60-97c0-5ced003ae97f"
      },
      "source": [
        "using Flux: onehot\n",
        "\tusing Transformers: Vocabulary, decode\n",
        "\tusing Random\n",
        "\tusing Flux: throttle, @epochs, ADAMW, ADAM, RADAM, Momentum, Optimiser, logitcrossentropy, params\n",
        "\tusing Flux: softmax, onecold, WeightDecay\n",
        "\tusing DataStructures: Queue, enqueue!, dequeue!\n",
        "\tRandom.seed!(42)\n"
      ],
      "execution_count": 2,
      "outputs": [
        {
          "output_type": "execute_result",
          "data": {
            "text/plain": [
              "MersenneTwister(UInt32[0x0000002a], Random.DSFMT.DSFMT_state(Int32[964434469, 1073036706, 1860149520, 1073503458, 1687169063, 1073083486, -399267803, 1072983952, -909620556, 1072836235  …  -293054293, 1073002412, -1300127419, 1073642642, 1917177374, -666058738, -337596527, 1830741494, 382, 0]), [0.0, 0.0, 0.0, 0.0, 0.0, 0.0, 0.0, 0.0, 0.0, 0.0  …  0.0, 0.0, 0.0, 0.0, 0.0, 0.0, 0.0, 0.0, 0.0, 0.0], UInt128[0x00000000000000000000000000000000, 0x00000000000000000000000000000000, 0x00000000000000000000000000000000, 0x00000000000000000000000000000000, 0x00000000000000000000000000000000, 0x00000000000000000000000000000000, 0x00000000000000000000000000000000, 0x00000000000000000000000000000000, 0x00000000000000000000000000000000, 0x00000000000000000000000000000000  …  0x00000000000000000000000000000000, 0x00000000000000000000000000000000, 0x00000000000000000000000000000000, 0x00000000000000000000000000000000, 0x00000000000000000000000000000000, 0x00000000000000000000000000000000, 0x00000000000000000000000000000000, 0x00000000000000000000000000000000, 0x00000000000000000000000000000000, 0x00000000000000000000000000000000], 1002, 0)"
            ]
          },
          "metadata": {
            "tags": []
          },
          "execution_count": 2
        }
      ]
    },
    {
      "cell_type": "code",
      "metadata": {
        "colab": {
          "base_uri": "https://localhost:8080/"
        },
        "id": "CsppDVbHNA7j",
        "outputId": "cbba1c74-7fb0-485b-c2d2-d1e6cf055c52"
      },
      "source": [
        "import Pkg; Pkg.add(\"NNlib\")\n",
        "Pkg.add(\"Distributions\")\n",
        "Pkg.add(\"Juno\")"
      ],
      "execution_count": 3,
      "outputs": [
        {
          "output_type": "stream",
          "text": [
            "\u001b[32m\u001b[1m   Updating\u001b[22m\u001b[39m registry at `~/.julia/registries/General`\n",
            "\u001b[32m\u001b[1m  Resolving\u001b[22m\u001b[39m package versions...\n",
            "\u001b[32m\u001b[1mNo Changes\u001b[22m\u001b[39m to `~/.julia/environments/v1.5/Project.toml`\n",
            "\u001b[32m\u001b[1mNo Changes\u001b[22m\u001b[39m to `~/.julia/environments/v1.5/Manifest.toml`\n",
            "\u001b[32m\u001b[1m  Resolving\u001b[22m\u001b[39m package versions...\n",
            "\u001b[32m\u001b[1mNo Changes\u001b[22m\u001b[39m to `~/.julia/environments/v1.5/Project.toml`\n",
            "\u001b[32m\u001b[1mNo Changes\u001b[22m\u001b[39m to `~/.julia/environments/v1.5/Manifest.toml`\n",
            "\u001b[32m\u001b[1m  Resolving\u001b[22m\u001b[39m package versions...\n",
            "\u001b[32m\u001b[1mNo Changes\u001b[22m\u001b[39m to `~/.julia/environments/v1.5/Project.toml`\n",
            "\u001b[32m\u001b[1mNo Changes\u001b[22m\u001b[39m to `~/.julia/environments/v1.5/Manifest.toml`\n"
          ],
          "name": "stderr"
        }
      ]
    },
    {
      "cell_type": "code",
      "metadata": {
        "colab": {
          "base_uri": "https://localhost:8080/"
        },
        "id": "Byj-tkx0FhrW",
        "outputId": "0f68786c-1e47-444a-caa7-7e5a16d92513"
      },
      "source": [
        "using Flux\n",
        "\n",
        "module Datasets include(\"onJulia/src/datasets.jl\") end"
      ],
      "execution_count": 4,
      "outputs": [
        {
          "output_type": "execute_result",
          "data": {
            "text/plain": [
              "Main.Datasets"
            ]
          },
          "metadata": {
            "tags": []
          },
          "execution_count": 4
        }
      ]
    },
    {
      "cell_type": "code",
      "metadata": {
        "colab": {
          "base_uri": "https://localhost:8080/"
        },
        "id": "PcqDQhPOC3TN",
        "outputId": "2335a4dc-f48f-48d3-d75b-627b324d57e2"
      },
      "source": [
        "f=\"input.txt\"\n",
        "s = open(f) do file\n",
        "      read(file, String)\n",
        "end\n",
        "data = s \n",
        "xxx=10    # I don't want the out put of the data assignment to be printed"
      ],
      "execution_count": 5,
      "outputs": [
        {
          "output_type": "execute_result",
          "data": {
            "text/plain": [
              "10"
            ]
          },
          "metadata": {
            "tags": []
          },
          "execution_count": 5
        }
      ]
    },
    {
      "cell_type": "code",
      "metadata": {
        "id": "qAVlhUeasJwJ",
        "colab": {
          "base_uri": "https://localhost:8080/"
        },
        "outputId": "e6d78261-5a07-4203-d63c-672c9fecc710"
      },
      "source": [
        "data[100:150]"
      ],
      "execution_count": 6,
      "outputs": [
        {
          "output_type": "execute_result",
          "data": {
            "text/plain": [
              "\"u are all resolved rather to die than to famish?\\n\\nA\""
            ]
          },
          "metadata": {
            "tags": []
          },
          "execution_count": 6
        }
      ]
    },
    {
      "cell_type": "code",
      "metadata": {
        "colab": {
          "base_uri": "https://localhost:8080/"
        },
        "id": "F2ysnseBEdVI",
        "outputId": "af85ba87-5e6a-484d-8ce4-95ddcbf2af59"
      },
      "source": [
        "using CUDA\n",
        "CUDA.memory_status()"
      ],
      "execution_count": 7,
      "outputs": [
        {
          "output_type": "stream",
          "text": [
            "Effective GPU memory usage: 0.73% (109.875 MiB/14.726 GiB)\n",
            "CUDA allocator usage: 0 bytes\n",
            "binned usage: 0 bytes (0 bytes allocated, 0 bytes cached)\n"
          ],
          "name": "stdout"
        }
      ]
    },
    {
      "cell_type": "code",
      "metadata": {
        "colab": {
          "base_uri": "https://localhost:8080/"
        },
        "id": "rlFiBkLuh9GY",
        "outputId": "00c6e7e9-05bd-42fe-e125-35b281605b8e"
      },
      "source": [
        "\n",
        "dataSetlength, vocab, sample = Datasets.asDataset(data)\n",
        "batch(dataLength,batchLength ) = hcat((sample(dataLength) for x in 1:batchLength)...)"
      ],
      "execution_count": 8,
      "outputs": [
        {
          "output_type": "stream",
          "text": [
            "datasize = length(s) = 1115394\n"
          ],
          "name": "stdout"
        },
        {
          "output_type": "execute_result",
          "data": {
            "text/plain": [
              "batch (generic function with 1 method)"
            ]
          },
          "metadata": {
            "tags": []
          },
          "execution_count": 8
        }
      ]
    },
    {
      "cell_type": "code",
      "metadata": {
        "colab": {
          "base_uri": "https://localhost:8080/"
        },
        "id": "ir21zsqzimPB",
        "outputId": "e99e6e9e-4b2e-4b72-9335-348f1d043357"
      },
      "source": [
        "## ---\n",
        "module Model include(\"onJulia/src/model.jl\") end\n",
        "\n",
        "lengthOfSentences=128"
      ],
      "execution_count": 9,
      "outputs": [
        {
          "output_type": "execute_result",
          "data": {
            "text/plain": [
              "128"
            ]
          },
          "metadata": {
            "tags": []
          },
          "execution_count": 9
        }
      ]
    },
    {
      "cell_type": "code",
      "metadata": {
        "colab": {
          "base_uri": "https://localhost:8080/"
        },
        "id": "n0piSuVYh_1x",
        "outputId": "f85af3db-faad-49e4-b398-90175e1b7649"
      },
      "source": [
        "model=Model.minGPT(numberAttnLayers=4, maxBlockSize=lengthOfSentences, vocabSize=length(vocab)) |> gpu"
      ],
      "execution_count": 10,
      "outputs": [
        {
          "output_type": "execute_result",
          "data": {
            "text/plain": [
              "Main.Model.minGPT{Transformers.Basic.Embed{Float32,CuArray{Float32,2}},Main.Model.GPTPositionEmbedding{Float32,CuArray{Float32,2}},Chain{NTuple{4,Transformers.Basic.Transformer{Transformers.Basic.MultiheadAttention{Dense{typeof(identity),CuArray{Float32,2},CuArray{Float32,1}},Dense{typeof(identity),CuArray{Float32,2},CuArray{Float32,1}},Dense{typeof(identity),CuArray{Float32,2},CuArray{Float32,1}},Dense{typeof(identity),CuArray{Float32,2},CuArray{Float32,1}},Dropout{Float64,Colon}},LayerNorm{CuArray{Float32,1}},Transformers.Basic.PwFFN{Dense{typeof(gelu),CuArray{Float32,2},CuArray{Float32,1}},Dense{typeof(identity),CuArray{Float32,2},CuArray{Float32,1}}},LayerNorm{CuArray{Float32,1}},Dropout{Float64,Colon}}}},Dropout{Float64,Colon},LayerNorm{CuArray{Float32,1}},Transformers.Basic.Positionwise{Tuple{Dense{typeof(identity),CuArray{Float32,2},CuArray{Float32,1}}}}}(Embed(512), Main.Model.GPTPositionEmbedding{Float32,CuArray{Float32,2}}(Float32[0.0 0.0 … 0.0 0.0; 0.0 0.0 … 0.0 0.0; … ; 0.0 0.0 … 0.0 0.0; 0.0 0.0 … 0.0 0.0]), Dropout(0.1), LayerNorm(512), Chain(Transformer(head=4, head_size=128, pwffn_size=2048, size=512), Transformer(head=4, head_size=128, pwffn_size=2048, size=512), Transformer(head=4, head_size=128, pwffn_size=2048, size=512), Transformer(head=4, head_size=128, pwffn_size=2048, size=512)), Positionwise(Dense(512, 66)))"
            ]
          },
          "metadata": {
            "tags": []
          },
          "execution_count": 10
        }
      ]
    },
    {
      "cell_type": "code",
      "metadata": {
        "colab": {
          "base_uri": "https://localhost:8080/"
        },
        "id": "_MLQF8KNF1Ku",
        "outputId": "d5026aca-7327-4a89-f881-192f3f45f6f5"
      },
      "source": [
        "@show modelParmaLength=sum(length(p) for p in params(model))\n",
        "CUDA.memory_status()"
      ],
      "execution_count": 14,
      "outputs": [
        {
          "output_type": "stream",
          "text": [
            "modelParmaLength = sum((length(p) for p = params(model))) = 12743746\n",
            "Effective GPU memory usage: 1.06% (159.875 MiB/14.726 GiB)\n",
            "CUDA allocator usage: 48.856 MiB\n",
            "binned usage: 48.856 MiB (48.856 MiB allocated, 0 bytes cached)\n"
          ],
          "name": "stdout"
        }
      ]
    },
    {
      "cell_type": "code",
      "metadata": {
        "id": "Li2q8F1Cph3_",
        "colab": {
          "base_uri": "https://localhost:8080/"
        },
        "outputId": "b0964772-a4db-4a3d-cc74-0687bcf32e1c"
      },
      "source": [
        "# for a batch of sentences, extract 1st to one before last character as input\n",
        "# and 2nd to last char of each sentence as prediction.  Shape the predictred\n",
        "# values as a long one dim series of values, one hot encode them using the vocab\n",
        "numberOfSentencesInBatch=512\n",
        "\n",
        "trainingDataPair(b)=(b[1:end-1, :], onehot(vocab, reshape(b[2:end,:], :)))\n",
        "trainingData(eachSampleSize=lengthOfSentences,batchSize=numberOfSentencesInBatch)= [trainingDataPair(batch(eachSampleSize,batchSize))\n",
        "\t\tfor i in 1:dataSetlength/batchSize]  # count each sentence, no matter its length as one sample\n",
        "\n",
        "function loss(x,y)\n",
        "\tyhat=model(x)\n",
        "\tlogitcrossentropy(reshape(yhat,size(yhat)[1], :), y)\n",
        "end\n",
        "\n",
        "\n",
        "function validate()\n",
        "\ts=collect(\"Persia\")\n",
        "\tfor i in 1:20\n",
        "\t\tout=model(vocab(s))\n",
        "\t\tpush!(s, decode(vocab,onecold(softmax(out)[:,end])))\n",
        "\tend\n",
        "\tjoin(s)\n",
        "end"
      ],
      "execution_count": 12,
      "outputs": [
        {
          "output_type": "execute_result",
          "data": {
            "text/plain": [
              "validate (generic function with 1 method)"
            ]
          },
          "metadata": {
            "tags": []
          },
          "execution_count": 12
        }
      ]
    },
    {
      "cell_type": "code",
      "metadata": {
        "colab": {
          "base_uri": "https://localhost:8080/"
        },
        "id": "FNBzAr-ZM616",
        "outputId": "0eeed3fd-0839-4011-e372-3f21c4d9ac39"
      },
      "source": [
        "#opt = RADAM()\n",
        "opt = ADAM( 0.0006, (0.9, 0.95))\n",
        "\n",
        "## ---\n",
        "module Train include(\"onJulia/src/train.jl\") end"
      ],
      "execution_count": 13,
      "outputs": [
        {
          "output_type": "execute_result",
          "data": {
            "text/plain": [
              "Main.Train"
            ]
          },
          "metadata": {
            "tags": []
          },
          "execution_count": 13
        }
      ]
    },
    {
      "cell_type": "code",
      "metadata": {
        "colab": {
          "base_uri": "https://localhost:8080/"
        },
        "id": "p1jfoLi_NVVQ",
        "outputId": "0f777915-863d-41d2-a6d0-e1686ce02325"
      },
      "source": [
        "function sampleFromModel(s=\"Whe\", minprob=.05) \n",
        "\tfunction explore(x, minprob)\n",
        "\t\tx[1] < minprob && return currentRes\n",
        "\t\tout=model(vocab(collect(x[2])))\n",
        "\t\tchoices=sort(collect(zip(softmax(out[:,end]), decode(vocab, collect(1:size(out)[1])))), rev=true)\n",
        "\t\toptions = [(x[1]*np, x[2]*nc) for (np,nc) in choices if (x[1]*np) > minprob ]\n",
        "\tend\n",
        "  minprob = minprob |> gpu\n",
        "\ttoexplore=Queue{Tuple{Float32,String}}() |> gpu\n",
        "\tenqueue!(toexplore,(1, s))  #start with the initial string and prob 1\n",
        "\tresults=[] |> gpu\n",
        "\n",
        "  \n",
        "\twhile !isempty(toexplore)\n",
        "\t\tnxt=dequeue!(toexplore) |> gpu\n",
        "\t\tres=explore(nxt, minprob) |> gpu\n",
        "\t\tif isempty(res)  # go as long as you can't add any more character and satisfy the prob\n",
        "\t\t\tpush!(results, nxt)\n",
        "\t\t\tcontinue #continue emptying the queue\n",
        "\t\tend\n",
        "\t\tfor r in res\n",
        "\t\t\tenqueue!(toexplore, r)  ## add elements for further exploration\n",
        "\t\tend\n",
        "\tend\n",
        "    #elements of the results are (prob, string), sort from high to low of the \n",
        "\t#longest match with highest prob\n",
        "\tsort(results, by=x->(length(x[2]), x[1]), rev=true)\n",
        "end\n"
      ],
      "execution_count": 54,
      "outputs": [
        {
          "output_type": "execute_result",
          "data": {
            "text/plain": [
              "sampleFromModel (generic function with 3 methods)"
            ]
          },
          "metadata": {
            "tags": []
          },
          "execution_count": 54
        }
      ]
    },
    {
      "cell_type": "code",
      "metadata": {
        "colab": {
          "base_uri": "https://localhost:8080/"
        },
        "id": "A3BXjCY1NqlK",
        "outputId": "ed489375-79ca-4ce1-d747-a8563dee4b3d"
      },
      "source": [
        "\n",
        "@show sampleFromModel(\"Oh lord!\", 0.01)\n"
      ],
      "execution_count": 56,
      "outputs": [
        {
          "output_type": "stream",
          "text": [
            "sampleFromModel(\"Oh lord!\", 0.01) = Any[(0.04966428f0, \"Oh lord!&\"), (0.041296836f0, \"Oh lord!.\"), (0.036131218f0, \"Oh lord!;\"), (0.032799706f0, \"Oh lord!i\"), (0.026509747f0, \"Oh lord!P\"), (0.024511797f0, \"Oh lord!D\"), (0.023699107f0, \"Oh lord!,\"), (0.022793079f0, \"Oh lord!w\"), (0.02246859f0, \"Oh lord!I\"), (0.021919023f0, \"Oh lord!z\"), (0.021403074f0, \"Oh lord! \"), (0.021033933f0, \"Oh lord!X\"), (0.02083366f0, \"Oh lord!d\"), (0.019290581f0, \"Oh lord!M\"), (0.018754318f0, \"Oh lord!x\"), (0.018630486f0, \"Oh lord!C\"), (0.017449822f0, \"Oh lord!O\"), (0.017154882f0, \"Oh lord!A\"), (0.016983192f0, \"Oh lord!u\"), (0.016346578f0, \"Oh lord!K\"), (0.016321437f0, \"Oh lord!Z\"), (0.015822938f0, \"Oh lord!3\"), (0.015720326f0, \"Oh lord!\\n\"), (0.014881906f0, \"Oh lord!W\"), (0.014859531f0, \"Oh lord!k\"), (0.014652494f0, \"Oh lord!L\"), (0.013755309f0, \"Oh lord!p\"), (0.013582438f0, \"Oh lord!:\"), (0.013536628f0, \"Oh lord!b\"), (0.013491166f0, \"Oh lord!g\"), (0.013217933f0, \"Oh lord!F\"), (0.013122111f0, \"Oh lord!S\"), (0.012990253f0, \"Oh lord!!\"), (0.012911645f0, \"Oh lord!J\"), (0.012827874f0, \"Oh lord!o\"), (0.012787993f0, \"Oh lord!□\"), (0.012567543f0, \"Oh lord!U\"), (0.012534895f0, \"Oh lord!m\"), (0.012420357f0, \"Oh lord!f\"), (0.012365066f0, \"Oh lord!H\"), (0.012332071f0, \"Oh lord!\\$\"), (0.012264194f0, \"Oh lord!T\"), (0.011589125f0, \"Oh lord!c\"), (0.011587756f0, \"Oh lord!j\"), (0.011492992f0, \"Oh lord!t\"), (0.010930371f0, \"Oh lord!y\"), (0.010331361f0, \"Oh lord!e\"), (0.010273176f0, \"Oh lord!N\"), (0.0101707755f0, \"Oh lord!q\"), (0.010157032f0, \"Oh lord!E\")]\n"
          ],
          "name": "stdout"
        },
        {
          "output_type": "execute_result",
          "data": {
            "text/plain": [
              "50-element Array{Any,1}:\n",
              " (0.04966428f0, \"Oh lord!&\")\n",
              " (0.041296836f0, \"Oh lord!.\")\n",
              " (0.036131218f0, \"Oh lord!;\")\n",
              " (0.032799706f0, \"Oh lord!i\")\n",
              " (0.026509747f0, \"Oh lord!P\")\n",
              " (0.024511797f0, \"Oh lord!D\")\n",
              " (0.023699107f0, \"Oh lord!,\")\n",
              " (0.022793079f0, \"Oh lord!w\")\n",
              " (0.02246859f0, \"Oh lord!I\")\n",
              " (0.021919023f0, \"Oh lord!z\")\n",
              " (0.021403074f0, \"Oh lord! \")\n",
              " (0.021033933f0, \"Oh lord!X\")\n",
              " (0.02083366f0, \"Oh lord!d\")\n",
              " ⋮\n",
              " (0.012420357f0, \"Oh lord!f\")\n",
              " (0.012365066f0, \"Oh lord!H\")\n",
              " (0.012332071f0, \"Oh lord!\\$\")\n",
              " (0.012264194f0, \"Oh lord!T\")\n",
              " (0.011589125f0, \"Oh lord!c\")\n",
              " (0.011587756f0, \"Oh lord!j\")\n",
              " (0.011492992f0, \"Oh lord!t\")\n",
              " (0.010930371f0, \"Oh lord!y\")\n",
              " (0.010331361f0, \"Oh lord!e\")\n",
              " (0.010273176f0, \"Oh lord!N\")\n",
              " (0.0101707755f0, \"Oh lord!q\")\n",
              " (0.010157032f0, \"Oh lord!E\")"
            ]
          },
          "metadata": {
            "tags": []
          },
          "execution_count": 56
        }
      ]
    },
    {
      "cell_type": "code",
      "metadata": {
        "id": "PMKmiWaisXTg",
        "colab": {
          "base_uri": "https://localhost:8080/"
        },
        "outputId": "aa7038ee-be2e-42a8-ef58-f61e8942b29f"
      },
      "source": [
        "d=trainingData()\n",
        "size(d)"
      ],
      "execution_count": 19,
      "outputs": [
        {
          "output_type": "execute_result",
          "data": {
            "text/plain": [
              "(2178,)"
            ]
          },
          "metadata": {
            "tags": []
          },
          "execution_count": 19
        }
      ]
    },
    {
      "cell_type": "markdown",
      "metadata": {
        "id": "HhOesl6c4Whx"
      },
      "source": [
        ""
      ]
    },
    {
      "cell_type": "code",
      "metadata": {
        "id": "0ZGrh8SR2JpJ",
        "outputId": "96cc3773-1cb7-4ffb-f755-3c880f3c0623",
        "colab": {
          "base_uri": "https://localhost:8080/"
        }
      },
      "source": [
        "CUDA.memory_status()"
      ],
      "execution_count": 38,
      "outputs": [
        {
          "output_type": "stream",
          "text": [
            "Effective GPU memory usage: 34.08% (5.019 GiB/14.726 GiB)\n",
            "CUDA allocator usage: 4.837 GiB\n",
            "binned usage: 4.837 GiB (4.837 GiB allocated, 0 bytes cached)\n"
          ],
          "name": "stdout"
        }
      ]
    },
    {
      "cell_type": "code",
      "metadata": {
        "id": "gR0rok0y2JeR",
        "outputId": "0d96a07e-5918-4f40-a98a-704bfaa52d6d",
        "colab": {
          "base_uri": "https://localhost:8080/"
        }
      },
      "source": [
        "GC.gc(true)\n",
        "CUDA.memory_status()"
      ],
      "execution_count": 39,
      "outputs": [
        {
          "output_type": "stream",
          "text": [
            "Effective GPU memory usage: 34.08% (5.019 GiB/14.726 GiB)\n",
            "CUDA allocator usage: 4.837 GiB\n",
            "binned usage: 4.837 GiB (48.856 MiB allocated, 4.789 GiB cached)\n"
          ],
          "name": "stdout"
        }
      ]
    },
    {
      "cell_type": "code",
      "metadata": {
        "id": "qvAFdTUj6EDR",
        "outputId": "e3b0e503-864c-4298-b57d-0f9c1b1fc8fe",
        "colab": {
          "base_uri": "https://localhost:8080/"
        }
      },
      "source": [
        "CUDA.memory_status()\n",
        "\n",
        "using Statistics: mean\n",
        "firsttime=true\n",
        "avgsum=0 trainingData(lengthOfSentences,numberOfSentencesInBatch)\n",
        "for next in \n",
        "   x=next\n",
        "   if firsttime\n",
        "    @show typeof(x), typeof(next)\n",
        "    firsttime=false\n",
        "    end\n",
        "    avgsum+=mean(x[1])\n",
        "    end\n",
        "    @show avgsum\n",
        "    \n",
        "    \n",
        "CUDA.memory_status()\n",
        "GC.gc(true)\n",
        "CUDA.memory_status()"
      ],
      "execution_count": 43,
      "outputs": [
        {
          "output_type": "stream",
          "text": [
            "Effective GPU memory usage: 34.08% (5.019 GiB/14.726 GiB)\n",
            "CUDA allocator usage: 4.837 GiB\n",
            "binned usage: 4.837 GiB (48.856 MiB allocated, 4.789 GiB cached)\n",
            "(typeof(x), typeof(next)) = (Tuple{Array{Int64,2},Transformers.Basic.OneHotArray{0x00000042,1,2,Array{Transformers.Basic.OneHot{0x00000042},1}}}, Tuple{Array{Int64,2},Transformers.Basic.OneHotArray{0x00000042,1,2,Array{Transformers.Basic.OneHot{0x00000042},1}}})\n",
            "avgsum = 84087.02460629922\n",
            "Effective GPU memory usage: 34.08% (5.019 GiB/14.726 GiB)\n",
            "CUDA allocator usage: 4.837 GiB\n",
            "binned usage: 4.837 GiB (48.856 MiB allocated, 4.789 GiB cached)\n",
            "Effective GPU memory usage: 34.08% (5.019 GiB/14.726 GiB)\n",
            "CUDA allocator usage: 4.837 GiB\n",
            "binned usage: 4.837 GiB (48.856 MiB allocated, 4.789 GiB cached)\n"
          ],
          "name": "stdout"
        }
      ]
    },
    {
      "cell_type": "code",
      "metadata": {
        "id": "uv9Ds-Io74Wr",
        "outputId": "4c24a5e2-d52e-49d8-8174-57d703bb71f5",
        "colab": {
          "base_uri": "https://localhost:8080/"
        }
      },
      "source": [
        "sum(length(p)  for (p,x) in trainingData())"
      ],
      "execution_count": 51,
      "outputs": [
        {
          "output_type": "execute_result",
          "data": {
            "text/plain": [
              "141622272"
            ]
          },
          "metadata": {
            "tags": []
          },
          "execution_count": 51
        }
      ]
    },
    {
      "cell_type": "code",
      "metadata": {
        "colab": {
          "base_uri": "https://localhost:8080/",
          "height": 1000
        },
        "id": "rlNJzmUXNv6O",
        "outputId": "c55cf7c3-0c06-4ab5-eee6-307bc1fcb06b"
      },
      "source": [
        "CUDA.allowscalar(true)\n",
        "\n",
        "decay = 0.1\n",
        "optWithWeightDecay=Optimiser(opt,\n",
        "\t\t\tTrain.SelectiveWeightDecay(WeightDecay(decay), Model.noDecayList(model))) |> gpu\n",
        "\n",
        "\n",
        "ps = params(model)\n",
        "\n",
        "batchSize=64\n",
        "  d=trainingData(lengthOfSentences,numberOfSentencesInBatch) \n",
        "  Train.train!(loss,\n",
        "            ps,\n",
        "            d,\n",
        "            optWithWeightDecay,\n",
        "            sampleFromModel, repeat=3 )\n",
        "\n",
        "\n"
      ],
      "execution_count": 29,
      "outputs": [
        {
          "output_type": "stream",
          "text": [
            "(ctr, numberOfBatches) = (0, (2178,))\n"
          ],
          "name": "stdout"
        },
        {
          "output_type": "error",
          "ename": "LoadError",
          "evalue": "ignored",
          "traceback": [
            "Out of GPU memory trying to allocate 127.000 MiB\nEffective GPU memory usage: 99.85% (14.705 GiB/14.726 GiB)\nCUDA allocator usage: 14.515 GiB\nbinned usage: 14.515 GiB (14.515 GiB allocated, 0 bytes cached)\n",
            "",
            "Stacktrace:",
            " [1] alloc at /root/.julia/packages/CUDA/dZvbp/src/pool.jl:298 [inlined]",
            " [2] CuArray{Float32,2}(::UndefInitializer, ::Tuple{Int64,Int64}) at /root/.julia/packages/CUDA/dZvbp/src/array.jl:116",
            " [3] CuArray at /root/.julia/packages/CUDA/dZvbp/src/array.jl:124 [inlined]",
            " [4] similar at ./abstractarray.jl:675 [inlined]",
            " [5] similar at ./abstractarray.jl:674 [inlined]",
            " [6] similar at /root/.julia/packages/CUDA/dZvbp/src/broadcast.jl:11 [inlined]",
            " [7] copy at ./broadcast.jl:862 [inlined]",
            " [8] materialize at ./broadcast.jl:837 [inlined]",
            " [9] broadcast(::typeof(+), ::CuArray{Float32,2}, ::CuArray{Float32,1}) at ./broadcast.jl:775",
            " [10] adjoint at /root/.julia/packages/Zygote/ggM8Z/src/lib/broadcast.jl:71 [inlined]",
            " [11] _pullback at /root/.julia/packages/ZygoteRules/OjfTt/src/adjoint.jl:57 [inlined]",
            " [12] Dense at /root/.julia/packages/Flux/05b38/src/layers/basic.jl:123 [inlined]",
            " [13] Dense at /root/.julia/packages/Flux/05b38/src/layers/basic.jl:134 [inlined]",
            " [14] #_#64 at /root/.julia/packages/Transformers/ko7g9/src/basic/mh_atten.jl:87 [inlined]",
            " [15] _pullback(::Zygote.Context, ::Transformers.Basic.var\"##_#64\", ::Nothing, ::Transformers.Basic.MultiheadAttention{Dense{typeof(identity),CuArray{Float32,2},CuArray{Float32,1}},Dense{typeof(identity),CuArray{Float32,2},CuArray{Float32,1}},Dense{typeof(identity),CuArray{Float32,2},CuArray{Float32,1}},Dense{typeof(identity),CuArray{Float32,2},CuArray{Float32,1}},Dropout{Float64,Colon}}, ::CuArray{Float32,3}, ::CuArray{Float32,3}, ::CuArray{Float32,3}) at /root/.julia/packages/Zygote/ggM8Z/src/compiler/interface2.jl:0",
            " [16] Transformer at /root/.julia/packages/Transformers/ko7g9/src/basic/transformer.jl:69 [inlined]",
            " [17] _pullback(::Zygote.Context, ::Transformers.Basic.Transformer{Transformers.Basic.MultiheadAttention{Dense{typeof(identity),CuArray{Float32,2},CuArray{Float32,1}},Dense{typeof(identity),CuArray{Float32,2},CuArray{Float32,1}},Dense{typeof(identity),CuArray{Float32,2},CuArray{Float32,1}},Dense{typeof(identity),CuArray{Float32,2},CuArray{Float32,1}},Dropout{Float64,Colon}},LayerNorm{CuArray{Float32,1}},Transformers.Basic.PwFFN{Dense{typeof(gelu),CuArray{Float32,2},CuArray{Float32,1}},Dense{typeof(identity),CuArray{Float32,2},CuArray{Float32,1}}},LayerNorm{CuArray{Float32,1}},Dropout{Float64,Colon}}, ::CuArray{Float32,3}, ::Nothing) at /root/.julia/packages/Zygote/ggM8Z/src/compiler/interface2.jl:0",
            " [18] Transformer at /root/.julia/packages/Transformers/ko7g9/src/basic/transformer.jl:68 [inlined]",
            " [19] _pullback(::Zygote.Context, ::Transformers.Basic.Transformer{Transformers.Basic.MultiheadAttention{Dense{typeof(identity),CuArray{Float32,2},CuArray{Float32,1}},Dense{typeof(identity),CuArray{Float32,2},CuArray{Float32,1}},Dense{typeof(identity),CuArray{Float32,2},CuArray{Float32,1}},Dense{typeof(identity),CuArray{Float32,2},CuArray{Float32,1}},Dropout{Float64,Colon}},LayerNorm{CuArray{Float32,1}},Transformers.Basic.PwFFN{Dense{typeof(gelu),CuArray{Float32,2},CuArray{Float32,1}},Dense{typeof(identity),CuArray{Float32,2},CuArray{Float32,1}}},LayerNorm{CuArray{Float32,1}},Dropout{Float64,Colon}}, ::CuArray{Float32,3}) at /root/.julia/packages/Zygote/ggM8Z/src/compiler/interface2.jl:0",
            " [20] applychain at /root/.julia/packages/Flux/05b38/src/layers/basic.jl:36 [inlined]",
            " [21] _pullback(::Zygote.Context, ::typeof(Flux.applychain), ::Tuple{Transformers.Basic.Transformer{Transformers.Basic.MultiheadAttention{Dense{typeof(identity),CuArray{Float32,2},CuArray{Float32,1}},Dense{typeof(identity),CuArray{Float32,2},CuArray{Float32,1}},Dense{typeof(identity),CuArray{Float32,2},CuArray{Float32,1}},Dense{typeof(identity),CuArray{Float32,2},CuArray{Float32,1}},Dropout{Float64,Colon}},LayerNorm{CuArray{Float32,1}},Transformers.Basic.PwFFN{Dense{typeof(gelu),CuArray{Float32,2},CuArray{Float32,1}},Dense{typeof(identity),CuArray{Float32,2},CuArray{Float32,1}}},LayerNorm{CuArray{Float32,1}},Dropout{Float64,Colon}},Transformers.Basic.Transformer{Transformers.Basic.MultiheadAttention{Dense{typeof(identity),CuArray{Float32,2},CuArray{Float32,1}},Dense{typeof(identity),CuArray{Float32,2},CuArray{Float32,1}},Dense{typeof(identity),CuArray{Float32,2},CuArray{Float32,1}},Dense{typeof(identity),CuArray{Float32,2},CuArray{Float32,1}},Dropout{Float64,Colon}},LayerNorm{CuArray{Float32,1}},Transformers.Basic.PwFFN{Dense{typeof(gelu),CuArray{Float32,2},CuArray{Float32,1}},Dense{typeof(identity),CuArray{Float32,2},CuArray{Float32,1}}},LayerNorm{CuArray{Float32,1}},Dropout{Float64,Colon}}}, ::CuArray{Float32,3}) at /root/.julia/packages/Zygote/ggM8Z/src/compiler/interface2.jl:0",
            " [22] applychain at /root/.julia/packages/Flux/05b38/src/layers/basic.jl:36 [inlined]",
            " [23] _pullback(::Zygote.Context, ::typeof(Flux.applychain), ::Tuple{Transformers.Basic.Transformer{Transformers.Basic.MultiheadAttention{Dense{typeof(identity),CuArray{Float32,2},CuArray{Float32,1}},Dense{typeof(identity),CuArray{Float32,2},CuArray{Float32,1}},Dense{typeof(identity),CuArray{Float32,2},CuArray{Float32,1}},Dense{typeof(identity),CuArray{Float32,2},CuArray{Float32,1}},Dropout{Float64,Colon}},LayerNorm{CuArray{Float32,1}},Transformers.Basic.PwFFN{Dense{typeof(gelu),CuArray{Float32,2},CuArray{Float32,1}},Dense{typeof(identity),CuArray{Float32,2},CuArray{Float32,1}}},LayerNorm{CuArray{Float32,1}},Dropout{Float64,Colon}},Transformers.Basic.Transformer{Transformers.Basic.MultiheadAttention{Dense{typeof(identity),CuArray{Float32,2},CuArray{Float32,1}},Dense{typeof(identity),CuArray{Float32,2},CuArray{Float32,1}},Dense{typeof(identity),CuArray{Float32,2},CuArray{Float32,1}},Dense{typeof(identity),CuArray{Float32,2},CuArray{Float32,1}},Dropout{Float64,Colon}},LayerNorm{CuArray{Float32,1}},Transformers.Basic.PwFFN{Dense{typeof(gelu),CuArray{Float32,2},CuArray{Float32,1}},Dense{typeof(identity),CuArray{Float32,2},CuArray{Float32,1}}},LayerNorm{CuArray{Float32,1}},Dropout{Float64,Colon}},Transformers.Basic.Transformer{Transformers.Basic.MultiheadAttention{Dense{typeof(identity),CuArray{Float32,2},CuArray{Float32,1}},Dense{typeof(identity),CuArray{Float32,2},CuArray{Float32,1}},Dense{typeof(identity),CuArray{Float32,2},CuArray{Float32,1}},Dense{typeof(identity),CuArray{...",
            " [24] applychain at /root/.julia/packages/Flux/05b38/src/layers/basic.jl:36 [inlined]",
            " [25] _pullback(::Zygote.Context, ::typeof(Flux.applychain), ::NTuple{4,Transformers.Basic.Transformer{Transformers.Basic.MultiheadAttention{Dense{typeof(identity),CuArray{Float32,2},CuArray{Float32,1}},Dense{typeof(identity),CuArray{Float32,2},CuArray{Float32,1}},Dense{typeof(identity),CuArray{Float32,2},CuArray{Float32,1}},Dense{typeof(identity),CuArray{Float32,2},CuArray{Float32,1}},Dropout{Float64,Colon}},LayerNorm{CuArray{Float32,1}},Transformers.Basic.PwFFN{Dense{typeof(gelu),CuArray{Float32,2},CuArray{Float32,1}},Dense{typeof(identity),CuArray{Float32,2},CuArray{Float32,1}}},LayerNorm{CuArray{Float32,1}},Dropout{Float64,Colon}}}, ::CuArray{Float32,3}) at /root/.julia/packages/Zygote/ggM8Z/src/compiler/interface2.jl:0",
            " [26] Chain at /root/.julia/packages/Flux/05b38/src/layers/basic.jl:38 [inlined]",
            " [27] _pullback(::Zygote.Context, ::Chain{NTuple{4,Transformers.Basic.Transformer{Transformers.Basic.MultiheadAttention{Dense{typeof(identity),CuArray{Float32,2},CuArray{Float32,1}},Dense{typeof(identity),CuArray{Float32,2},CuArray{Float32,1}},Dense{typeof(identity),CuArray{Float32,2},CuArray{Float32,1}},Dense{typeof(identity),CuArray{Float32,2},CuArray{Float32,1}},Dropout{Float64,Colon}},LayerNorm{CuArray{Float32,1}},Transformers.Basic.PwFFN{Dense{typeof(gelu),CuArray{Float32,2},CuArray{Float32,1}},Dense{typeof(identity),CuArray{Float32,2},CuArray{Float32,1}}},LayerNorm{CuArray{Float32,1}},Dropout{Float64,Colon}}}}, ::CuArray{Float32,3}) at /root/.julia/packages/Zygote/ggM8Z/src/compiler/interface2.jl:0",
            " [28] minGPT at /content/gdrive/MyDrive/minGPT/onJulia/src/model.jl:85 [inlined]",
            " [29] _pullback(::Zygote.Context, ::Main.Model.minGPT{Transformers.Basic.Embed{Float32,CuArray{Float32,2}},Main.Model.GPTPositionEmbedding{Float32,CuArray{Float32,2}},Chain{NTuple{4,Transformers.Basic.Transformer{Transformers.Basic.MultiheadAttention{Dense{typeof(identity),CuArray{Float32,2},CuArray{Float32,1}},Dense{typeof(identity),CuArray{Float32,2},CuArray{Float32,1}},Dense{typeof(identity),CuArray{Float32,2},CuArray{Float32,1}},Dense{typeof(identity),CuArray{Float32,2},CuArray{Float32,1}},Dropout{Float64,Colon}},LayerNorm{CuArray{Float32,1}},Transformers.Basic.PwFFN{Dense{typeof(gelu),CuArray{Float32,2},CuArray{Float32,1}},Dense{typeof(identity),CuArray{Float32,2},CuArray{Float32,1}}},LayerNorm{CuArray{Float32,1}},Dropout{Float64,Colon}}}},Dropout{Float64,Colon},LayerNorm{CuArray{Float32,1}},Transformers.Basic.Positionwise{Tuple{Dense{typeof(identity),CuArray{Float32,2},CuArray{Float32,1}}}}}, ::CuArray{Int64,2}) at /root/.julia/packages/Zygote/ggM8Z/src/compiler/interface2.jl:0",
            " [30] loss at ./In[12]:11 [inlined]",
            " [31] _pullback(::Zygote.Context, ::typeof(loss), ::CuArray{Int64,2}, ::Transformers.Basic.OneHotArray{0x00000042,1,2,CuArray{Transformers.Basic.OneHot{0x00000042},1}}) at /root/.julia/packages/Zygote/ggM8Z/src/compiler/interface2.jl:0",
            " [32] adjoint at /root/.julia/packages/Zygote/ggM8Z/src/lib/lib.jl:188 [inlined]",
            " [33] _pullback at /root/.julia/packages/ZygoteRules/OjfTt/src/adjoint.jl:57 [inlined]",
            " [34] #9 at /content/gdrive/MyDrive/minGPT/onJulia/src/train.jl:86 [inlined]",
            " [35] _pullback(::Zygote.Context, ::Main.Train.var\"#9#18\"{typeof(loss),Tuple{CuArray{Int64,2},Transformers.Basic.OneHotArray{0x00000042,1,2,CuArray{Transformers.Basic.OneHot{0x00000042},1}}}}) at /root/.julia/packages/Zygote/ggM8Z/src/compiler/interface2.jl:0",
            " [36] pullback(::Function, ::Zygote.Params) at /root/.julia/packages/Zygote/ggM8Z/src/compiler/interface.jl:167",
            " [37] gradient(::Function, ::Zygote.Params) at /root/.julia/packages/Zygote/ggM8Z/src/compiler/interface.jl:48",
            " [38] macro expansion at /content/gdrive/MyDrive/minGPT/onJulia/src/train.jl:85 [inlined]",
            " [39] macro expansion at /root/.julia/packages/Juno/n6wyj/src/progress.jl:134 [inlined]",
            " [40] train!(::Function, ::Zygote.Params, ::Array{Tuple{Array{Int64,2},Transformers.Basic.OneHotArray{0x00000042,1,2,Array{Transformers.Basic.OneHot{0x00000042},1}}},1}, ::Optimiser, ::typeof(sampleFromModel), ::TensorBoardLogger.TBLogger; rateDecay::Main.Train.var\"#cosRateFun#3\"{Float64,Int64,Int64}, repeat::Int64) at /content/gdrive/MyDrive/minGPT/onJulia/src/train.jl:79",
            " [41] top-level scope at In[29]:12",
            " [42] include_string(::Function, ::Module, ::String, ::String) at ./loading.jl:1091"
          ]
        }
      ]
    },
    {
      "cell_type": "code",
      "metadata": {
        "id": "n2260u0tvNfy",
        "outputId": "f99a4a48-2b45-4543-ec7d-2398d92836e0",
        "colab": {
          "base_uri": "https://localhost:8080/"
        }
      },
      "source": [
        "opt\n"
      ],
      "execution_count": 16,
      "outputs": [
        {
          "output_type": "execute_result",
          "data": {
            "text/plain": [
              "ADAM(0.0005992063380936809, (0.9, 0.95), IdDict{Any,Any}(Float32[0.021266753, 0.023991061, -0.014033463, -0.020187732, -0.016970964, -0.023259092, 0.019853802, -0.011446846, 0.01508859, -0.012974098  …  -0.018857775, 0.017281272, 0.009872336, 0.018419951, -0.00944189, -0.018381367, 0.021812147, 0.025983006, -0.007428212, -0.0012844022] => (Float32[-3.2025746f-6, -2.5215654f-6, 1.0904602f-6, -1.7421075f-6, 2.7151017f-7, 1.4392883f-5, 5.462291f-7, 1.4074294f-6, -6.43307f-7, -1.0274645f-5  …  -4.5363145f-6, -8.378738f-6, -6.2535555f-6, 3.1016405f-6, -3.885244f-6, -1.2411709f-5, -1.1541694f-5, -1.5393276f-6, 3.0699089f-6, 8.032217f-7], Float32[2.922207f-9, 2.2120228f-9, 6.332865f-9, 4.241979f-9, 6.004763f-9, 8.711295f-9, 3.5520626f-9, 3.8897174f-9, 3.4757772f-9, 4.3774055f-9  …  8.143284f-9, 4.1621586f-9, 3.5048722f-9, 3.6281622f-9, 4.7192823f-9, 4.703792f-9, 5.3198157f-9, 5.072381f-9, 6.3835452f-9, 6.998285f-9], (1.613975805220401e-10, 1.7094308280841148e-5)),Float32[-0.0005461035 -0.00088768883 … 0.0012292409 0.00088121695; -0.0030845741 0.00033271752 … -0.003435707 -0.00046226443; … ; 0.0004766436 0.0007779539 … 0.0011186023 0.0012494033; 0.00062537385 -0.0002616175 … -0.0006949088 -3.499732f-5] => (Float32[9.849646f-7 1.1181544f-6 … -1.129316f-6 -5.585833f-7; 1.8585664f-6 4.0177122f-7 … 2.5597508f-6 -2.4815066f-7; … ; -1.2751448f-7 -4.589281f-7 … -5.0555843f-7 -8.766111f-7; -1.7980033f-8 3.9543258f-7 … 6.2038964f-7 -1.0470646f-7], Float32[5.453326f-11 4.8040374f-11 … 2.1458552f-11 4.358869f-11; 1.144788f-11 2.2195409f-11 … 1.4878617f-11 4.4567256f-11; … ; 2.2032973f-11 1.928777f-11 … 1.4100925f-11 1.2899792f-11; 1.7807877f-11 1.6812402f-11 … 7.633048f-12 1.9008378f-11], (1.613975805220401e-10, 1.7094308280841148e-5)),Float32[-0.0006144734 0.000579291 … -0.0004237651 -0.0005350228; -0.000102357866 0.00014169386 … -0.00034349953 -0.0005882525; … ; 0.001060468 -0.0010345498 … 3.2034804f-6 -0.00057707354; -0.0010069876 0.0009074013 … 0.0002890025 0.0002978863] => (Float32[1.2950463f-6 -1.0768669f-6 … 3.5595872f-7 4.1149946f-7; 1.0595899f-6 -9.818691f-7 … -1.4279862f-8 1.7783918f-7; … ; -3.6013952f-7 2.4708476f-7 … -3.1645305f-7 -7.773432f-7; 1.7897798f-6 -1.5693614f-6 … -2.5798817f-8 -2.2464894f-7], Float32[9.764353f-11 6.883664f-11 … 8.7132255f-12 5.4995973f-12; 7.882623f-11 5.783309f-11 … 6.6203475f-12 5.2885595f-12; … ; 5.752431f-11 4.225208f-11 … 9.713152f-12 2.4912936f-11; 6.627719f-11 5.1827275f-11 … 1.6892331f-11 1.5564598f-11], (1.613975805220401e-10, 1.7094308280841148e-5)),Float32[0.011942871, 0.025798304, 0.012752254, 0.011960727, 0.010043055, -0.014823991, 0.023867464, -0.008748625, -0.011661139, 0.010343981  …  -0.009921278, -0.005976693, 0.007042084, 0.0071176873, 0.0052364203, -0.0044446057, -0.009086688, 0.006266353, 0.0055350647, 0.0051889336] => (Float32[-1.6756923f-6, -1.5710586f-6, -1.6687493f-6, -1.6755956f-6, -1.6895633f-6, 1.6542532f-6, -1.5842014f-6, 1.6990863f-6, 1.6778098f-6, -1.6875791f-6  …  -2.4607268f-6, -2.4945218f-6, 2.4824294f-6, 2.4857418f-6, 2.4962706f-6, -2.5028207f-6, -2.4672026f-6, 2.4935052f-6, 2.4972742f-6, 2.4974331f-6], Float32[4.540989f-10, 4.08865f-10, 4.5132934f-10, 4.538107f-10, 4.5917115f-10, 4.4576734f-10, 4.1335793f-10, 4.6294518f-10, 4.5471588f-10, 4.5863555f-10  …  1.6701222f-10, 1.7263281f-10, 1.7053386f-10, 1.7104793f-10, 1.7297007f-10, 1.7401877f-10, 1.6813564f-10, 1.7252855f-10, 1.7304908f-10, 1.7301852f-10], (1.613975805220401e-10, 1.7094308280841148e-5)),Float32[0.0014234975, -0.0031315759, -0.008736838, -0.0020099815, -0.0069837505, -0.006735463, 0.0017694985, -0.006131462, 0.011263484, 0.0099617615  …  -0.0032745244, 0.0074391025, 0.0069359955, 0.00038000994, -0.0036989073, -0.0016253302, -0.0046009338, 0.007619855, 0.008295259, 0.00348611] => (Float32[4.9991326f-7, -5.033205f-7, -5.0664266f-7, -5.025915f-7, -5.04069f-7, -5.059057f-7, 5.0202715f-7, -5.046288f-7, 5.0857f-7, -4.8258215f-7  …  1.9237521f-7, -1.7944619f-7, -1.8376771f-7, -1.8568386f-7, 1.8573859f-7, -1.7284734f-7, 1.7888775f-7, -1.8896476f-7, -1.8221132f-7, -1.8448614f-7], Float32[6.332192f-11, 6.32631f-11, 6.15587f-11, 6.357204f-11, 6.209816f-11, 6.2293636f-11, 6.357798f-11, 6.243087f-11, 6.0928124f-11, 6.39241f-11  …  6.5068016f-12, 5.848784f-12, 6.0830663f-12, 6.168881f-12, 6.1724124f-12, 5.4723513f-12, 5.8121997f-12, 6.321983f-12, 6.0106672f-12, 6.1003216f-12], (1.613975805220401e-10, 1.7094308280841148e-5)),Float32[1.0089846, 0.9595732, 1.0003703, 0.9977948, 1.0030842, 1.0236164, 0.9799, 1.004359, 0.98612356, 1.0255977  …  1.0182216, 0.97881943, 0.99852914, 1.0012673, 1.0011662, 1.001554, 1.0089546, 1.0258528, 1.0079123, 0.9811461] => (Float32[-2.0210643f-6, -2.547211f-6, -1.9340093f-6, 9.1685536f-7, -2.2675843f-6, 3.266047f-6, 1.7625734f-6, -8.912874f-6, -4.0178493f-6, -2.6727612f-6  …  -7.546235f-6, 9.21465f-6, -3.053858f-6, 2.4514427f-6, -9.148914f-6, 4.846118f-6, -6.5366353f-6, 8.434921f-6, -1.1005807f-5, 1.910966f-6], Float32[1.6155445f-9, 1.3412241f-9, 3.0487317f-9, 1.5292984f-9, 2.9353486f-9, 2.7057527f-9, 1.1737438f-9, 2.8372857f-9, 2.6905584f-9, 1.1229903f-9  …  2.1279933f-9, 2.3374551f-9, 2.0052933f-9, 1.4086586f-9, 1.4671612f-9, 2.1377793f-9, 3.074143f-9, 3.1196021f-9, 2.5884541f-9, 1.8769175f-9], (1.613975805220401e-10, 1.7094308280841148e-5)),Float32[-3.9212275f-5 -5.1929303f-5 … 0.0010432553 0.0026317711; -4.5204233f-5 -5.414151f-5 … 0.0010441026 0.0026353472; … ; -0.00094960444 -0.0007005738 … 0.0016598499 0.00017987979; -0.0009496626 -0.00070052774 … 0.0016600791 0.00017979428] => (Float32[-3.868701f-7 -4.510665f-7 … -4.3228524f-6 -6.015164f-6; -3.5894908f-7 -4.254f-7 … -4.1046137f-6 -5.7084603f-6; … ; 1.5611521f-6 1.4107023f-6 … -2.650278f-6 6.705798f-7; 1.561444f-6 1.4106492f-6 … -2.6507762f-6 6.7134766f-7], Float32[2.2177657f-10 2.6884084f-10 … 2.7767827f-10 1.7838729f-10; 2.0013018f-10 2.4203303f-10 … 2.499231f-10 1.6020532f-10; … ; 9.650836f-11 1.2440186f-10 … 5.849377f-11 1.1599393f-10; 9.654563f-11 1.2442958f-10 … 5.850265f-11 1.1596456f-10], (1.613975805220401e-10, 1.7094308280841148e-5)),Float32[0.0009143043 0.000435929 … 0.0007412207 0.00095927087; 0.00034965988 -0.0002699925 … 0.00011043742 0.00023345124; … ; 0.0007400806 0.0005694692 … -0.0015262851 0.0005464549; -0.0009468642 -3.6562524f-5 … 0.00027341302 -0.0009489538] => (Float32[-6.06851f-7 -8.3357315f-7 … -3.0613126f-6 -1.0723609f-6; -6.7083687f-7 -9.029449f-8 … -6.822067f-7 -3.851925f-8; … ; -2.4530993f-6 -5.652849f-7 … 3.0197828f-6 -1.4452081f-6; 5.810273f-7 -2.5342444f-9 … 4.6222436f-7 6.05266f-7], Float32[1.952269f-11 1.470493f-11 … 2.1945837f-10 2.8664534f-11; 2.8915592f-11 1.1160621f-11 … 1.7680883f-10 3.4301992f-11; … ; 7.517995f-11 2.3375914f-11 … 1.2430652f-10 9.65957f-11; 4.51832f-11 3.707997f-11 … 1.6452517f-10 1.199364f-10], (1.613975805220401e-10, 1.7094308280841148e-5)),Float32[0.0012037228 0.0011194934 … 0.0011694551 0.0002559009; -0.0012058399 -0.0011205398 … -0.0011698527 -0.00025211202; … ; 0.0006544445 0.0005110226 … 0.0004684105 -5.407872f-6; 0.0006470103 0.00050845597 … 0.0004680474 -3.981535f-6] => (Float32[-2.8340293f-7 -3.1487355f-7 … -8.529275f-7 1.0363704f-8; 2.7959294f-7 3.105402f-7 … 8.40441f-7 -1.0268729f-8; … ; -2.1982329f-8 -1.4901936f-8 … -3.1790528f-8 3.9537813f-9; -2.1469129f-8 -1.4539851f-8 … -3.1025895f-8 3.8501353f-9], Float32[3.2449323f-12 4.2524287f-12 … 2.7722826f-11 3.4783537f-14; 3.1646038f-12 4.149629f-12 … 2.7042318f-11 3.411633f-14; … ; 8.588921f-15 6.905332f-15 … 4.2290166f-14 4.770706f-15; 8.253181f-15 6.534429f-15 … 3.983653f-14 4.5298932f-15], (1.613975805220401e-10, 1.7094308280841148e-5)),Float32[-0.021858005 -0.029893858 … 0.026073463 0.012880157; -0.013288418 -0.02324303 … 0.0045281337 0.018839568; … ; 0.007901913 -0.053459503 … -0.009483545 0.032634217; -0.0014131523 0.0058057862 … 0.013578092 0.044834446] => (Float32[0.0 8.855168f-7 … 1.3082898f-5 -5.525449f-7; 0.0 -6.1243096f-5 … -3.9890583f-6 -5.853499f-7; … ; 0.0 3.3684988f-5 … -1.9710245f-5 -3.6123674f-7; 0.0 6.912513f-5 … 0.00010505848 2.0485147f-6], Float32[0.0 2.0845505f-8 … 1.4638194f-8 3.8794034f-11; 0.0 2.6152776f-7 … 1.4693981f-8 3.9891205f-11; … ; 0.0 7.626303f-8 … 6.0072615f-8 9.772765f-11; 0.0 4.3303794f-7 … 1.222477f-7 7.294631f-11], (1.613975805220401e-10, 1.7094308280841148e-5))…))"
            ]
          },
          "metadata": {
            "tags": []
          },
          "execution_count": 16
        }
      ]
    },
    {
      "cell_type": "code",
      "metadata": {
        "id": "vTEeN3wcX_j1",
        "colab": {
          "base_uri": "https://localhost:8080/"
        },
        "outputId": "53370f41-4c2c-4166-bcab-72b6198b8a22"
      },
      "source": [
        "model.pw.models[1].b\n"
      ],
      "execution_count": null,
      "outputs": [
        {
          "output_type": "execute_result",
          "data": {
            "text/plain": [
              "66-element CuArray{Float32,1}:\n",
              " -1.5513743\n",
              " -0.0863119\n",
              "  0.16213056\n",
              " -0.2024484\n",
              " -0.92951417\n",
              " -0.5469302\n",
              " -0.034112763\n",
              " -0.0040509147\n",
              " -0.23159942\n",
              " -0.12889002\n",
              " -0.22430605\n",
              " -0.06451803\n",
              " -0.19396299\n",
              "  ⋮\n",
              "  0.023614747\n",
              " -0.052799366\n",
              " -0.19879629\n",
              "  0.019089265\n",
              "  0.16964178\n",
              "  0.10373718\n",
              " -0.07236537\n",
              " -0.13919203\n",
              " -0.004549714\n",
              " -0.25447264\n",
              " -0.05559869\n",
              " -0.25983748"
            ]
          },
          "metadata": {
            "tags": []
          },
          "execution_count": 39
        }
      ]
    },
    {
      "cell_type": "code",
      "metadata": {
        "colab": {
          "base_uri": "https://localhost:8080/"
        },
        "id": "FvsKpKj-VFZ_",
        "outputId": "b0802738-1196-4ffc-fe99-c79aa3aaf4dc"
      },
      "source": [
        "Pkg.add(\"BSON\")\n",
        "using BSON"
      ],
      "execution_count": null,
      "outputs": [
        {
          "output_type": "stream",
          "text": [
            "\u001b[32m\u001b[1m  Resolving\u001b[22m\u001b[39m package versions...\n",
            "\u001b[32m\u001b[1mNo Changes\u001b[22m\u001b[39m to `~/.julia/environments/v1.5/Project.toml`\n",
            "\u001b[32m\u001b[1mNo Changes\u001b[22m\u001b[39m to `~/.julia/environments/v1.5/Manifest.toml`\n"
          ],
          "name": "stderr"
        }
      ]
    },
    {
      "cell_type": "code",
      "metadata": {
        "id": "nx4uaAFKYBzm"
      },
      "source": [
        "using BSON: \n",
        "@save \"inputtext_model.bson\"  model"
      ],
      "execution_count": null,
      "outputs": []
    },
    {
      "cell_type": "code",
      "metadata": {
        "id": "WdjlekSwYiRc"
      },
      "source": [
        "using Zygote\n",
        "using Flux\n",
        "using Transformers\n",
        "using CUDA\n",
        "using BSON:  @save, @load\n",
        "@load \"inputtext_model.bson\"  model\n"
      ],
      "execution_count": null,
      "outputs": []
    },
    {
      "cell_type": "code",
      "metadata": {
        "colab": {
          "base_uri": "https://localhost:8080/",
          "height": 793
        },
        "id": "KmSOVVNTN4tQ",
        "outputId": "d905b824-02ed-45ca-d3ea-909a2228fff2"
      },
      "source": [
        "sampleFromModel(\"Where is King Richard Duke of York, and \", 0.001)\n"
      ],
      "execution_count": null,
      "outputs": [
        {
          "output_type": "error",
          "ename": "LoadError",
          "evalue": "ignored",
          "traceback": [
            "CUDA error: out of memory (code 2, ERROR_OUT_OF_MEMORY)",
            "",
            "Stacktrace:",
            " [1] throw_api_error(::CUDA.cudaError_enum) at /root/.julia/packages/CUDA/dZvbp/lib/cudadrv/error.jl:103",
            " [2] CuModule(::String, ::Dict{CUDA.CUjit_option_enum,Any}) at /root/.julia/packages/CUDA/dZvbp/lib/cudadrv/module.jl:42",
            " [3] _cufunction(::GPUCompiler.FunctionSpec{Transformers.var\"#kernel1!#29\"{Float32,Tuple{Base.OneTo{Int64}},Tuple{Bool},Tuple{Int64},Int64},Tuple{CuDeviceArray{Float32,2,CUDA.AS.Global},CuDeviceArray{Float32,2,CUDA.AS.Global},CuDeviceArray{Float32,2,CUDA.AS.Global},Int64}}; kwargs::Base.Iterators.Pairs{Union{},Union{},Tuple{},NamedTuple{(),Tuple{}}}) at /root/.julia/packages/CUDA/dZvbp/src/compiler/execution.jl:337",
            " [4] _cufunction at /root/.julia/packages/CUDA/dZvbp/src/compiler/execution.jl:304 [inlined]",
            " [5] check_cache(::typeof(CUDA._cufunction), ::GPUCompiler.FunctionSpec{Transformers.var\"#kernel1!#29\"{Float32,Tuple{Base.OneTo{Int64}},Tuple{Bool},Tuple{Int64},Int64},Tuple{CuDeviceArray{Float32,2,CUDA.AS.Global},CuDeviceArray{Float32,2,CUDA.AS.Global},CuDeviceArray{Float32,2,CUDA.AS.Global},Int64}}, ::UInt64; kwargs::Base.Iterators.Pairs{Union{},Union{},Tuple{},NamedTuple{(),Tuple{}}}) at /root/.julia/packages/GPUCompiler/GKp4B/src/cache.jl:24",
            " [6] kernel1! at /root/.julia/packages/Transformers/ko7g9/src/cuda/statistic.jl:13 [inlined]",
            " [7] cached_compilation(::typeof(CUDA._cufunction), ::GPUCompiler.FunctionSpec{Transformers.var\"#kernel1!#29\"{Float32,Tuple{Base.OneTo{Int64}},Tuple{Bool},Tuple{Int64},Int64},Tuple{CuDeviceArray{Float32,2,CUDA.AS.Global},CuDeviceArray{Float32,2,CUDA.AS.Global},CuDeviceArray{Float32,2,CUDA.AS.Global},Int64}}, ::UInt64; kwargs::Base.Iterators.Pairs{Union{},Union{},Tuple{},NamedTuple{(),Tuple{}}}) at /root/.julia/packages/GPUCompiler/GKp4B/src/cache.jl:0",
            " [8] cached_compilation at /root/.julia/packages/GPUCompiler/GKp4B/src/cache.jl:40 [inlined]",
            " [9] cufunction(::Transformers.var\"#kernel1!#29\"{Float32,Tuple{Base.OneTo{Int64}},Tuple{Bool},Tuple{Int64},Int64}, ::Type{Tuple{CuDeviceArray{Float32,2,CUDA.AS.Global},CuDeviceArray{Float32,2,CUDA.AS.Global},CuDeviceArray{Float32,2,CUDA.AS.Global},Int64}}; name::Nothing, kwargs::Base.Iterators.Pairs{Union{},Union{},Tuple{},NamedTuple{(),Tuple{}}}) at /root/.julia/packages/CUDA/dZvbp/src/compiler/execution.jl:298",
            " [10] cufunction at /root/.julia/packages/CUDA/dZvbp/src/compiler/execution.jl:293 [inlined]",
            " [11] macro expansion at /root/.julia/packages/CUDA/dZvbp/src/compiler/execution.jl:109 [inlined]",
            " [12] centralize_sumabs2!(::CuArray{Float32,2}, ::CuArray{Float32,2}, ::CuArray{Float32,2}) at /root/.julia/packages/Transformers/ko7g9/src/cuda/statistic.jl:62",
            " [13] varm!(::CuArray{Float32,2}, ::CuArray{Float32,2}, ::CuArray{Float32,2}; corrected::Bool) at /buildworker/worker/package_linux64/build/usr/share/julia/stdlib/v1.5/Statistics/src/Statistics.jl:297",
            " [14] _varm at /buildworker/worker/package_linux64/build/usr/share/julia/stdlib/v1.5/Statistics/src/Statistics.jl:328 [inlined]",
            " [15] #varm#11 at /buildworker/worker/package_linux64/build/usr/share/julia/stdlib/v1.5/Statistics/src/Statistics.jl:326 [inlined]",
            " [16] #var#27 at /root/.julia/packages/Transformers/ko7g9/src/cuda/statistic.jl:4 [inlined]",
            " [17] std(::CuArray{Float32,2}; corrected::Bool, dims::Int64, mean::CuArray{Float32,2}) at /root/.julia/packages/Transformers/ko7g9/src/cuda/statistic.jl:5",
            " [18] normalise(::CuArray{Float32,2}; dims::Int64, ϵ::Float32) at /root/.julia/packages/Flux/05b38/src/layers/stateless.jl:23",
            " [19] LayerNorm at /root/.julia/packages/Flux/05b38/src/layers/normalise.jl:137 [inlined]",
            " [20] (::Main.Model.minGPT{Transformers.Basic.Embed{Float32,CuArray{Float32,2}},Main.Model.GPTPositionEmbedding{Float32,CuArray{Float32,2}},Chain{NTuple{4,Transformers.Basic.Transformer{Transformers.Basic.MultiheadAttention{Dense{typeof(identity),CuArray{Float32,2},CuArray{Float32,1}},Dense{typeof(identity),CuArray{Float32,2},CuArray{Float32,1}},Dense{typeof(identity),CuArray{Float32,2},CuArray{Float32,1}},Dense{typeof(identity),CuArray{Float32,2},CuArray{Float32,1}},Dropout{Float64,Colon}},LayerNorm{CuArray{Float32,1}},Transformers.Basic.PwFFN{Dense{typeof(gelu),CuArray{Float32,2},CuArray{Float32,1}},Dense{typeof(identity),CuArray{Float32,2},CuArray{Float32,1}}},LayerNorm{CuArray{Float32,1}},Dropout{Float64,Colon}}}},Dropout{Float64,Colon},LayerNorm{CuArray{Float32,1}},Transformers.Basic.Positionwise{Tuple{Dense{typeof(identity),CuArray{Float32,2},CuArray{Float32,1}}}}})(::Array{Int64,1}) at /content/gdrive/MyDrive/minGPT/onJulia/src/model.jl:80",
            " [21] (::var\"#explore#10\")(::Tuple{Float32,String}, ::Float64) at ./In[14]:4",
            " [22] sampleFromModel(::String, ::Float64) at ./In[14]:13",
            " [23] top-level scope at In[19]:1",
            " [24] include_string(::Function, ::Module, ::String, ::String) at ./loading.jl:1091"
          ]
        }
      ]
    },
    {
      "cell_type": "code",
      "metadata": {
        "id": "85X2L1FZXkcy"
      },
      "source": [
        ""
      ],
      "execution_count": null,
      "outputs": []
    },
    {
      "cell_type": "code",
      "metadata": {
        "colab": {
          "base_uri": "https://localhost:8080/"
        },
        "id": "kGDkDW_GSSG3",
        "outputId": "576564ca-cc66-4f38-820b-f29286d9a48e"
      },
      "source": [
        "Pkg.add(\"StatsBase\")\n",
        "Pkg.add(\"Plots\")"
      ],
      "execution_count": null,
      "outputs": [
        {
          "output_type": "stream",
          "text": [
            "\u001b[32m\u001b[1m  Resolving\u001b[22m\u001b[39m package versions...\n",
            "\u001b[32m\u001b[1mNo Changes\u001b[22m\u001b[39m to `~/.julia/environments/v1.5/Project.toml`\n",
            "\u001b[32m\u001b[1mNo Changes\u001b[22m\u001b[39m to `~/.julia/environments/v1.5/Manifest.toml`\n",
            "\u001b[32m\u001b[1m  Resolving\u001b[22m\u001b[39m package versions...\n",
            "\u001b[32m\u001b[1m  Installed\u001b[22m\u001b[39m Ogg_jll ───────── v1.3.4+2\n",
            "\u001b[32m\u001b[1m  Installed\u001b[22m\u001b[39m LAME_jll ──────── v3.100.0+3\n",
            "\u001b[32m\u001b[1m  Installed\u001b[22m\u001b[39m x265_jll ──────── v3.0.0+3\n",
            "\u001b[32m\u001b[1m  Installed\u001b[22m\u001b[39m PlotThemes ────── v1.0.3\n",
            "\u001b[32m\u001b[1m  Installed\u001b[22m\u001b[39m RecipesPipeline ─ v0.1.13\n",
            "\u001b[32m\u001b[1m  Installed\u001b[22m\u001b[39m Plots ─────────── v1.0.14\n",
            "\u001b[32m\u001b[1m  Installed\u001b[22m\u001b[39m Contour ───────── v0.5.7\n",
            "\u001b[32m\u001b[1m  Installed\u001b[22m\u001b[39m GeometryTypes ─── v0.8.4\n",
            "\u001b[32m\u001b[1m  Installed\u001b[22m\u001b[39m Showoff ───────── v0.3.2\n",
            "\u001b[32m\u001b[1m  Installed\u001b[22m\u001b[39m Grisu ─────────── v1.0.0\n",
            "\u001b[32m\u001b[1m  Installed\u001b[22m\u001b[39m FreeType2_jll ─── v2.10.1+5\n",
            "\u001b[32m\u001b[1m  Installed\u001b[22m\u001b[39m Opus_jll ──────── v1.3.1+3\n",
            "\u001b[32m\u001b[1m  Installed\u001b[22m\u001b[39m FFMPEG_jll ────── v4.3.1+4\n",
            "\u001b[32m\u001b[1m  Installed\u001b[22m\u001b[39m LibVPX_jll ────── v1.9.0+1\n",
            "\u001b[32m\u001b[1m  Installed\u001b[22m\u001b[39m libfdk_aac_jll ── v0.1.6+4\n",
            "\u001b[32m\u001b[1m  Installed\u001b[22m\u001b[39m PlotUtils ─────── v0.6.5\n",
            "\u001b[32m\u001b[1m  Installed\u001b[22m\u001b[39m libvorbis_jll ─── v1.3.6+6\n",
            "\u001b[32m\u001b[1m  Installed\u001b[22m\u001b[39m FFMPEG ────────── v0.3.0\n",
            "\u001b[32m\u001b[1m  Installed\u001b[22m\u001b[39m Bzip2_jll ─────── v1.0.6+5\n",
            "\u001b[32m\u001b[1m  Installed\u001b[22m\u001b[39m Measures ──────── v0.3.1\n",
            "\u001b[32m\u001b[1m  Installed\u001b[22m\u001b[39m FriBidi_jll ───── v1.0.5+6\n",
            "\u001b[32m\u001b[1m  Installed\u001b[22m\u001b[39m libass_jll ────── v0.14.0+4\n",
            "\u001b[32m\u001b[1m  Installed\u001b[22m\u001b[39m x264_jll ──────── v2020.7.14+2\n",
            "\u001b[32m\u001b[1m  Installed\u001b[22m\u001b[39m RecipesBase ───── v1.1.1\n",
            "\u001b[32m\u001b[1m  Installed\u001b[22m\u001b[39m GR ────────────── v0.48.0\n",
            "######################################################################### 100.0%\n",
            "######################################################################### 100.0%\n",
            "######################################################################### 100.0%\n",
            "######################################################################### 100.0%\n",
            "######################################################################### 100.0%\n",
            "######################################################################### 100.0%\n",
            "######################################################################### 100.0%\n",
            "######################################################################### 100.0%\n",
            "######################################################################### 100.0%\n",
            "######################################################################### 100.0%\n",
            "######################################################################### 100.0%\n",
            "######################################################################### 100.0%\n",
            "######################################################################### 100.0%\n",
            "\u001b[32m\u001b[1mUpdating\u001b[22m\u001b[39m `~/.julia/environments/v1.5/Project.toml`\n",
            " \u001b[90m [91a5bcdd] \u001b[39m\u001b[92m+ Plots v1.0.14\u001b[39m\n",
            "\u001b[32m\u001b[1mUpdating\u001b[22m\u001b[39m `~/.julia/environments/v1.5/Manifest.toml`\n",
            " \u001b[90m [6e34b625] \u001b[39m\u001b[92m+ Bzip2_jll v1.0.6+5\u001b[39m\n",
            " \u001b[90m [d38c429a] \u001b[39m\u001b[92m+ Contour v0.5.7\u001b[39m\n",
            " \u001b[90m [c87230d0] \u001b[39m\u001b[92m+ FFMPEG v0.3.0\u001b[39m\n",
            " \u001b[90m [b22a6f82] \u001b[39m\u001b[92m+ FFMPEG_jll v4.3.1+4\u001b[39m\n",
            " \u001b[90m [d7e528f0] \u001b[39m\u001b[92m+ FreeType2_jll v2.10.1+5\u001b[39m\n",
            " \u001b[90m [559328eb] \u001b[39m\u001b[92m+ FriBidi_jll v1.0.5+6\u001b[39m\n",
            " \u001b[90m [28b8d3ca] \u001b[39m\u001b[92m+ GR v0.48.0\u001b[39m\n",
            " \u001b[90m [4d00f742] \u001b[39m\u001b[92m+ GeometryTypes v0.8.4\u001b[39m\n",
            " \u001b[90m [42e2da0e] \u001b[39m\u001b[92m+ Grisu v1.0.0\u001b[39m\n",
            " \u001b[90m [c1c5ebd0] \u001b[39m\u001b[92m+ LAME_jll v3.100.0+3\u001b[39m\n",
            " \u001b[90m [dd192d2f] \u001b[39m\u001b[92m+ LibVPX_jll v1.9.0+1\u001b[39m\n",
            " \u001b[90m [442fdcdd] \u001b[39m\u001b[92m+ Measures v0.3.1\u001b[39m\n",
            " \u001b[90m [e7412a2a] \u001b[39m\u001b[92m+ Ogg_jll v1.3.4+2\u001b[39m\n",
            " \u001b[90m [91d4177d] \u001b[39m\u001b[92m+ Opus_jll v1.3.1+3\u001b[39m\n",
            " \u001b[90m [ccf2f8ad] \u001b[39m\u001b[92m+ PlotThemes v1.0.3\u001b[39m\n",
            " \u001b[90m [995b91a9] \u001b[39m\u001b[92m+ PlotUtils v0.6.5\u001b[39m\n",
            " \u001b[90m [91a5bcdd] \u001b[39m\u001b[92m+ Plots v1.0.14\u001b[39m\n",
            " \u001b[90m [3cdcf5f2] \u001b[39m\u001b[92m+ RecipesBase v1.1.1\u001b[39m\n",
            " \u001b[90m [01d81517] \u001b[39m\u001b[92m+ RecipesPipeline v0.1.13\u001b[39m\n",
            " \u001b[90m [992d4aef] \u001b[39m\u001b[92m+ Showoff v0.3.2\u001b[39m\n",
            " \u001b[90m [0ac62f75] \u001b[39m\u001b[92m+ libass_jll v0.14.0+4\u001b[39m\n",
            " \u001b[90m [f638f0a6] \u001b[39m\u001b[92m+ libfdk_aac_jll v0.1.6+4\u001b[39m\n",
            " \u001b[90m [f27f6e37] \u001b[39m\u001b[92m+ libvorbis_jll v1.3.6+6\u001b[39m\n",
            " \u001b[90m [1270edf5] \u001b[39m\u001b[92m+ x264_jll v2020.7.14+2\u001b[39m\n",
            " \u001b[90m [dfaa095f] \u001b[39m\u001b[92m+ x265_jll v3.0.0+3\u001b[39m\n",
            "\u001b[32m\u001b[1m   Building\u001b[22m\u001b[39m GR ───→ `~/.julia/packages/GR/yMV3y/deps/build.log`\n",
            "\u001b[32m\u001b[1m   Building\u001b[22m\u001b[39m Plots → `~/.julia/packages/Plots/8GUYs/deps/build.log`\n"
          ],
          "name": "stderr"
        }
      ]
    },
    {
      "cell_type": "code",
      "metadata": {
        "colab": {
          "base_uri": "https://localhost:8080/",
          "height": 810
        },
        "id": "xPZB-0HPQZ_V",
        "outputId": "aaab2f59-db5e-4152-ed04-dc6f6389e6dd"
      },
      "source": [
        "using StatsBase\n",
        "using Plots\n",
        "function getOutputResults(m, data, limit=5)\n",
        "\toutput=[]\n",
        "\tctr=0\n",
        "\tfor (x,y) in data\n",
        "\t\tout=softmax(m(x))\n",
        "\t\tout=reshape(out,size(out)[1], :)\n",
        "\t\tpush!(output, onecold(out)...)  ## get the encoded vocab using straight onecold, not onecold(vocab, ..) version\n",
        "\n",
        "\t\tctr +=1\n",
        "\t\tif  ctr > limit break end\n",
        "\tend\n",
        "\tconvert(Array{Int}, output)\n",
        "end\n",
        "\n",
        "d=trainingData(lengthOfSentences, numberOfSentencesInBatch)\n",
        "function OutputHistogram(m)\n",
        "\toutChars=getOutputResults(m, d)\n",
        "\tfit(Histogram, outChars, 0:1:length(vocab))\n",
        "end\n",
        "\n",
        "#Try a untrained model\n",
        "raw=OutputHistogram(Model.minGPT(maxBlockSize=lengthOfSentences, vocabSize=length(vocab)))\n",
        "\n",
        "#..a. and trained model\n",
        "trained=OutputHistogram(model)\n",
        "\n",
        "plot(raw)\n",
        "plot!(trained)"
      ],
      "execution_count": null,
      "outputs": [
        {
          "output_type": "error",
          "ename": "LoadError",
          "evalue": "ignored",
          "traceback": [
            "CUDA error: out of memory (code 2, ERROR_OUT_OF_MEMORY)",
            "",
            "Stacktrace:",
            " [1] throw_api_error(::CUDA.cudaError_enum) at /root/.julia/packages/CUDA/dZvbp/lib/cudadrv/error.jl:103",
            " [2] CuModule(::String, ::Dict{CUDA.CUjit_option_enum,Any}) at /root/.julia/packages/CUDA/dZvbp/lib/cudadrv/module.jl:42",
            " [3] _cufunction(::GPUCompiler.FunctionSpec{CUDA.var\"#kernel#873\"{CUDA.var\"#879#880\"{Float32}},Tuple{CuDeviceArray{Int64,1,CUDA.AS.Global},CuDeviceArray{Float32,1,CUDA.AS.Global}}}; kwargs::Base.Iterators.Pairs{Union{},Union{},Tuple{},NamedTuple{(),Tuple{}}}) at /root/.julia/packages/CUDA/dZvbp/src/compiler/execution.jl:337",
            " [4] _cufunction at /root/.julia/packages/CUDA/dZvbp/src/compiler/execution.jl:304 [inlined]",
            " [5] check_cache(::typeof(CUDA._cufunction), ::GPUCompiler.FunctionSpec{CUDA.var\"#kernel#873\"{CUDA.var\"#879#880\"{Float32}},Tuple{CuDeviceArray{Int64,1,CUDA.AS.Global},CuDeviceArray{Float32,1,CUDA.AS.Global}}}, ::UInt64; kwargs::Base.Iterators.Pairs{Union{},Union{},Tuple{},NamedTuple{(),Tuple{}}}) at /root/.julia/packages/GPUCompiler/GKp4B/src/cache.jl:24",
            " [6] kernel at /root/.julia/packages/CUDA/dZvbp/src/indexing.jl:102 [inlined]",
            " [7] cached_compilation(::typeof(CUDA._cufunction), ::GPUCompiler.FunctionSpec{CUDA.var\"#kernel#873\"{CUDA.var\"#879#880\"{Float32}},Tuple{CuDeviceArray{Int64,1,CUDA.AS.Global},CuDeviceArray{Float32,1,CUDA.AS.Global}}}, ::UInt64; kwargs::Base.Iterators.Pairs{Union{},Union{},Tuple{},NamedTuple{(),Tuple{}}}) at /root/.julia/packages/GPUCompiler/GKp4B/src/cache.jl:0",
            " [8] cached_compilation at /root/.julia/packages/GPUCompiler/GKp4B/src/cache.jl:40 [inlined]",
            " [9] cufunction(::CUDA.var\"#kernel#873\"{CUDA.var\"#879#880\"{Float32}}, ::Type{Tuple{CuDeviceArray{Int64,1,CUDA.AS.Global},CuDeviceArray{Float32,1,CUDA.AS.Global}}}; name::String, kwargs::Base.Iterators.Pairs{Union{},Union{},Tuple{},NamedTuple{(),Tuple{}}}) at /root/.julia/packages/CUDA/dZvbp/src/compiler/execution.jl:298",
            " [10] macro expansion at /root/.julia/packages/CUDA/dZvbp/src/compiler/execution.jl:109 [inlined]",
            " [11] findfirst(::CUDA.var\"#879#880\"{Float32}, ::CuArray{Float32,1}) at /root/.julia/packages/CUDA/dZvbp/src/indexing.jl:120",
            " [12] #findmax#878 at /root/.julia/packages/CUDA/dZvbp/src/indexing.jl:143 [inlined]",
            " [13] #argmax#656 at ./reducedim.jl:949 [inlined]",
            " [14] argmax at ./reducedim.jl:949 [inlined]",
            " [15] onecold(::CuArray{Float32,1}, ::UnitRange{Int64}) at /root/.julia/packages/Flux/05b38/src/onehot.jl:123 (repeats 2 times)",
            " [16] #57 at /root/.julia/packages/Flux/05b38/src/onehot.jl:126 [inlined]",
            " [17] inner_mapslices!(::Bool, ::Base.Iterators.Drop{CartesianIndices{1,Tuple{Base.OneTo{Int64}}}}, ::Int64, ::Array{Any,1}, ::Array{Int64,1}, ::Array{Any,1}, ::CuArray{Float32,1}, ::CuArray{Float32,2}, ::Flux.var\"#57#58\"{Tuple{}}, ::CuArray{Int64,2}) at ./abstractarray.jl:2129",
            " [18] mapslices(::Flux.var\"#57#58\"{Tuple{}}, ::CuArray{Float32,2}; dims::Int64) at ./abstractarray.jl:2119",
            " [19] onecold(::CuArray{Float32,2}) at /root/.julia/packages/Flux/05b38/src/onehot.jl:125",
            " [20] getOutputResults(::Main.Model.minGPT{Transformers.Basic.Embed{Float32,CuArray{Float32,2}},Main.Model.GPTPositionEmbedding{Float32,CuArray{Float32,2}},Chain{Tuple{Transformer{Transformers.Basic.MultiheadAttention{Dense{typeof(identity),CuArray{Float32,2},CuArray{Float32,1}},Dense{typeof(identity),CuArray{Float32,2},CuArray{Float32,1}},Dense{typeof(identity),CuArray{Float32,2},CuArray{Float32,1}},Dense{typeof(identity),CuArray{Float32,2},CuArray{Float32,1}},Dropout{Float64,Colon}},LayerNorm{CuArray{Float32,1}},Transformers.Basic.PwFFN{Dense{typeof(gelu),CuArray{Float32,2},CuArray{Float32,1}},Dense{typeof(identity),CuArray{Float32,2},CuArray{Float32,1}}},LayerNorm{CuArray{Float32,1}},Dropout{Float64,Colon}},Transformer{Transformers.Basic.MultiheadAttention{Dense{typeof(identity),CuArray{Float32,2},CuArray{Float32,1}},Dense{typeof(identity),CuArray{Float32,2},CuArray{Float32,1}},Dense{typeof(identity),CuArray{Float32,2},CuArray{Float32,1}},Dense{typeof(identity),CuArray{Float32,2},CuArray{Float32,1}},Dropout{Float64,Colon}},LayerNorm{CuArray{Float32,1}},Transformers.Basic.PwFFN{Dense{typeof(gelu),CuArray{Float32,2},CuArray{Float32,1}},Dense{typeof(identity),CuArray{Float32,2},CuArray{Float32,1}}},LayerNorm{CuArray{Float32,1}},Dropout{Float64,Colon}}}},Dropout{Float64,Colon},LayerNorm{CuArray{Float32,1}},Transformers.Basic.Positionwise{Tuple{Dense{typeof(identity),CuArray{Float32,2},CuArray{Float32,1}}}}}, ::Array{Tuple{Array{Int64,2},Transformers.Basic.OneHotArray{0x0000...",
            " [21] getOutputResults(::Main.Model.minGPT{Transformers.Basic.Embed{Float32,CuArray{Float32,2}},Main.Model.GPTPositionEmbedding{Float32,CuArray{Float32,2}},Chain{Tuple{Transformer{Transformers.Basic.MultiheadAttention{Dense{typeof(identity),CuArray{Float32,2},CuArray{Float32,1}},Dense{typeof(identity),CuArray{Float32,2},CuArray{Float32,1}},Dense{typeof(identity),CuArray{Float32,2},CuArray{Float32,1}},Dense{typeof(identity),CuArray{Float32,2},CuArray{Float32,1}},Dropout{Float64,Colon}},LayerNorm{CuArray{Float32,1}},Transformers.Basic.PwFFN{Dense{typeof(gelu),CuArray{Float32,2},CuArray{Float32,1}},Dense{typeof(identity),CuArray{Float32,2},CuArray{Float32,1}}},LayerNorm{CuArray{Float32,1}},Dropout{Float64,Colon}},Transformer{Transformers.Basic.MultiheadAttention{Dense{typeof(identity),CuArray{Float32,2},CuArray{Float32,1}},Dense{typeof(identity),CuArray{Float32,2},CuArray{Float32,1}},Dense{typeof(identity),CuArray{Float32,2},CuArray{Float32,1}},Dense{typeof(identity),CuArray{Float32,2},CuArray{Float32,1}},Dropout{Float64,Colon}},LayerNorm{CuArray{Float32,1}},Transformers.Basic.PwFFN{Dense{typeof(gelu),CuArray{Float32,2},CuArray{Float32,1}},Dense{typeof(identity),CuArray{Float32,2},CuArray{Float32,1}}},LayerNorm{CuArray{Float32,1}},Dropout{Float64,Colon}}}},Dropout{Float64,Colon},LayerNorm{CuArray{Float32,1}},Transformers.Basic.Positionwise{Tuple{Dense{typeof(identity),CuArray{Float32,2},CuArray{Float32,1}}}}}, ::Array{Tuple{Array{Int64,2},Transformers.Basic.OneHotArray{0x0000...",
            " [22] OutputHistogram(::Main.Model.minGPT{Transformers.Basic.Embed{Float32,CuArray{Float32,2}},Main.Model.GPTPositionEmbedding{Float32,CuArray{Float32,2}},Chain{Tuple{Transformer{Transformers.Basic.MultiheadAttention{Dense{typeof(identity),CuArray{Float32,2},CuArray{Float32,1}},Dense{typeof(identity),CuArray{Float32,2},CuArray{Float32,1}},Dense{typeof(identity),CuArray{Float32,2},CuArray{Float32,1}},Dense{typeof(identity),CuArray{Float32,2},CuArray{Float32,1}},Dropout{Float64,Colon}},LayerNorm{CuArray{Float32,1}},Transformers.Basic.PwFFN{Dense{typeof(gelu),CuArray{Float32,2},CuArray{Float32,1}},Dense{typeof(identity),CuArray{Float32,2},CuArray{Float32,1}}},LayerNorm{CuArray{Float32,1}},Dropout{Float64,Colon}},Transformer{Transformers.Basic.MultiheadAttention{Dense{typeof(identity),CuArray{Float32,2},CuArray{Float32,1}},Dense{typeof(identity),CuArray{Float32,2},CuArray{Float32,1}},Dense{typeof(identity),CuArray{Float32,2},CuArray{Float32,1}},Dense{typeof(identity),CuArray{Float32,2},CuArray{Float32,1}},Dropout{Float64,Colon}},LayerNorm{CuArray{Float32,1}},Transformers.Basic.PwFFN{Dense{typeof(gelu),CuArray{Float32,2},CuArray{Float32,1}},Dense{typeof(identity),CuArray{Float32,2},CuArray{Float32,1}}},LayerNorm{CuArray{Float32,1}},Dropout{Float64,Colon}}}},Dropout{Float64,Colon},LayerNorm{CuArray{Float32,1}},Transformers.Basic.Positionwise{Tuple{Dense{typeof(identity),CuArray{Float32,2},CuArray{Float32,1}}}}}) at ./In[47]:19",
            " [23] top-level scope at In[47]:27",
            " [24] include_string(::Function, ::Module, ::String, ::String) at ./loading.jl:1091"
          ]
        }
      ]
    },
    {
      "cell_type": "code",
      "metadata": {
        "colab": {
          "base_uri": "https://localhost:8080/"
        },
        "id": "ngRwL6dBct1q",
        "outputId": "f25393ae-cb29-4760-da05-5ac5faa98111"
      },
      "source": [
        "data = s \n",
        "collect(data)[1:10]"
      ],
      "execution_count": null,
      "outputs": [
        {
          "output_type": "execute_result",
          "data": {
            "text/plain": [
              "10-element Array{Char,1}:\n",
              " 'F': ASCII/Unicode U+0046 (category Lu: Letter, uppercase)\n",
              " 'i': ASCII/Unicode U+0069 (category Ll: Letter, lowercase)\n",
              " 'r': ASCII/Unicode U+0072 (category Ll: Letter, lowercase)\n",
              " 's': ASCII/Unicode U+0073 (category Ll: Letter, lowercase)\n",
              " 't': ASCII/Unicode U+0074 (category Ll: Letter, lowercase)\n",
              " ' ': ASCII/Unicode U+0020 (category Zs: Separator, space)\n",
              " 'C': ASCII/Unicode U+0043 (category Lu: Letter, uppercase)\n",
              " 'i': ASCII/Unicode U+0069 (category Ll: Letter, lowercase)\n",
              " 't': ASCII/Unicode U+0074 (category Ll: Letter, lowercase)\n",
              " 'i': ASCII/Unicode U+0069 (category Ll: Letter, lowercase)"
            ]
          },
          "metadata": {
            "tags": []
          },
          "execution_count": 75
        }
      ]
    },
    {
      "cell_type": "code",
      "metadata": {
        "colab": {
          "base_uri": "https://localhost:8080/"
        },
        "id": "VGR81FCVSQrU",
        "outputId": "232b4467-b12c-4d93-ebfa-dffb709fd4f0"
      },
      "source": [
        "GC.gc(true)\n",
        "CUDA.memory_status()\n"
      ],
      "execution_count": 21,
      "outputs": [
        {
          "output_type": "stream",
          "text": [
            "Effective GPU memory usage: 1.54% (231.875 MiB/14.726 GiB)\n",
            "CUDA allocator usage: 48.856 MiB\n",
            "binned usage: 48.856 MiB (48.856 MiB allocated, 0 bytes cached)\n"
          ],
          "name": "stdout"
        }
      ]
    },
    {
      "cell_type": "code",
      "metadata": {
        "id": "2wNM7NfGSN1k"
      },
      "source": [
        "model=nothing; GC.gc(true)"
      ],
      "execution_count": null,
      "outputs": []
    },
    {
      "cell_type": "code",
      "metadata": {
        "colab": {
          "base_uri": "https://localhost:8080/"
        },
        "id": "RVLSXHd1eWK7",
        "outputId": "0f3b4dab-75f1-4c01-ec9b-e649f5cf8a1e"
      },
      "source": [
        "CUDA.memory_status()\n"
      ],
      "execution_count": null,
      "outputs": [
        {
          "output_type": "stream",
          "text": [
            "Effective GPU memory usage: 8.28% (1.219 GiB/14.726 GiB)\n",
            "CUDA allocator usage: 1.047 GiB\n",
            "binned usage: 1.047 GiB (0 bytes allocated, 1.047 GiB cached)\n"
          ],
          "name": "stdout"
        }
      ]
    },
    {
      "cell_type": "code",
      "metadata": {
        "colab": {
          "base_uri": "https://localhost:8080/"
        },
        "id": "mArXn2yteY3T",
        "outputId": "d9996950-5339-482b-9974-b7ccd52d4291"
      },
      "source": [
        "CUDA.reclaim()"
      ],
      "execution_count": null,
      "outputs": [
        {
          "output_type": "execute_result",
          "data": {
            "text/plain": [
              "1124073472"
            ]
          },
          "metadata": {
            "tags": []
          },
          "execution_count": 21
        }
      ]
    },
    {
      "cell_type": "code",
      "metadata": {
        "colab": {
          "base_uri": "https://localhost:8080/"
        },
        "id": "t3gbx_Ibehf4",
        "outputId": "b8b4d9a5-c69f-4fa3-eee2-21b3fbf341c8"
      },
      "source": [
        "CUDA.memory_status()\n"
      ],
      "execution_count": null,
      "outputs": [
        {
          "output_type": "stream",
          "text": [
            "Effective GPU memory usage: 1.17% (175.875 MiB/14.726 GiB)\n",
            "CUDA allocator usage: 0 bytes\n",
            "binned usage: 0 bytes (0 bytes allocated, 0 bytes cached)\n"
          ],
          "name": "stdout"
        }
      ]
    },
    {
      "cell_type": "code",
      "metadata": {
        "id": "tLdQn-90ej6-"
      },
      "source": [
        ""
      ],
      "execution_count": null,
      "outputs": []
    },
    {
      "cell_type": "code",
      "metadata": {
        "id": "vD2UftRPetCK"
      },
      "source": [
        ""
      ],
      "execution_count": null,
      "outputs": []
    }
  ]
}